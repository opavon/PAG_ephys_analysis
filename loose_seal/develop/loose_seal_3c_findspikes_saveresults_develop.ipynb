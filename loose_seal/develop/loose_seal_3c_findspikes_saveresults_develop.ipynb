{
 "metadata": {
  "language_info": {
   "codemirror_mode": {
    "name": "ipython",
    "version": 3
   },
   "file_extension": ".py",
   "mimetype": "text/x-python",
   "name": "python",
   "nbconvert_exporter": "python",
   "pygments_lexer": "ipython3",
   "version": "3.8.0"
  },
  "orig_nbformat": 2,
  "kernelspec": {
   "name": "python3",
   "display_name": "Python 3.8.0 64-bit"
  },
  "interpreter": {
   "hash": "2f664273e531ff7d05ac97865ce1d4a67fb518bd75932c2c41a023ddf3c68bce"
  }
 },
 "nbformat": 4,
 "nbformat_minor": 2,
 "cells": [
  {
   "cell_type": "markdown",
   "source": [
    "## 0 | Import packages"
   ],
   "metadata": {}
  },
  {
   "cell_type": "code",
   "execution_count": null,
   "source": [
    "import os\r\n",
    "import h5py\r\n",
    "import numpy as np\r\n",
    "import pandas as pd\r\n",
    "import seaborn as sns\r\n",
    "import tkinter\r\n",
    "import matplotlib.pyplot as plt\r\n",
    "from matplotlib.patches import Rectangle\r\n",
    "from utilities import importFile, openFile, openHDF5file, getLooseRseal\r\n",
    "from tkinter.filedialog import askopenfilename, askopenfilenames, askdirectory\r\n",
    "from collections import defaultdict\r\n",
    "from nptdms import TdmsFile\r\n",
    "from scipy import stats\r\n",
    "from scipy.signal import find_peaks\r\n",
    "print(\"done!\")"
   ],
   "outputs": [],
   "metadata": {}
  },
  {
   "cell_type": "markdown",
   "source": [
    "## 2 | Loop over files in a folder and find spikes"
   ],
   "metadata": {}
  },
  {
   "cell_type": "code",
   "execution_count": null,
   "source": [
    "test = askopenfilenames()\r\n",
    "test"
   ],
   "outputs": [],
   "metadata": {}
  },
  {
   "cell_type": "code",
   "execution_count": null,
   "source": [
    "os.listdir(folder_name_1)"
   ],
   "outputs": [],
   "metadata": {}
  },
  {
   "cell_type": "code",
   "execution_count": null,
   "source": [
    "from tkinter.filedialog import askdirectory\r\n",
    "folder_path = askdirectory()\r\n",
    "list_of_files = os.listdir(folder_path)\r\n",
    "\r\n",
    "# To loop over files we would\r\n",
    "for file in list_of_files:\r\n",
    "    import file\r\n",
    "    find spikes \r\n",
    "    find Rseal\r\n",
    "    save data"
   ],
   "outputs": [],
   "metadata": {}
  },
  {
   "cell_type": "code",
   "execution_count": null,
   "source": [
    "# Load data\r\n",
    "channels_data_frame, time, dt, folder_name, file_name = importFile(curated_channel = 'Sweeps_Analysis')\r\n",
    "print(\"file imported\")"
   ],
   "outputs": [],
   "metadata": {}
  },
  {
   "cell_type": "code",
   "execution_count": null,
   "source": [
    "channels_data_frame"
   ],
   "outputs": [],
   "metadata": {}
  },
  {
   "cell_type": "code",
   "execution_count": null,
   "source": [
    "# pandas.DataFrame.columns - The column labels of the DataFrame.\r\n",
    "print(channels_data_frame.columns)\r\n",
    "\r\n",
    "# pandas.DataFrame.index - The index (row labels) of the DataFrame.\r\n",
    "print(channels_data_frame.index)\r\n",
    "\r\n",
    "# pandas.DataFrame.iloc - integer-location based indexing for selection by position.\r\n",
    "channels_data_frame.loc[['Channel A', 'Channel B'],:]"
   ],
   "outputs": [],
   "metadata": {}
  },
  {
   "cell_type": "code",
   "execution_count": null,
   "source": [
    "for sweep in channels_data_frame.columns:\r\n",
    "    sweep_IB = np.array(channels_data_frame.at['Channel B', sweep])\r\n",
    "\r\n",
    "    peaks, properties = find_peaks(-sweep_IB,\r\n",
    "                                   height = None,\r\n",
    "                                   threshold = None,\r\n",
    "                                   distance = 5,\r\n",
    "                                   prominence = 50,\r\n",
    "                                   width = 2,\r\n",
    "                                   wlen = None,\r\n",
    "                                   rel_height = None,\r\n",
    "                                   plateau_size = None)\r\n",
    "                                "
   ],
   "outputs": [],
   "metadata": {}
  },
  {
   "cell_type": "code",
   "execution_count": null,
   "source": [
    "    cell_name = [file_name.split('.')[0]] # Get the file name without the extension\r\n",
    "    print(cell_name)\r\n",
    "    seal_resistance = []\r\n",
    "    trial_keys = []\r\n",
    "\r\n",
    "    for sweep in channels_data_frame.columns:\r\n",
    "        \r\n",
    "        sweep_IA = np.array(channels_data_frame.at['Channel A', sweep])\r\n",
    "        sweep_IB = np.array(channels_data_frame.at['Channel B', sweep])\r\n",
    "        sweep_OA = np.array(channels_data_frame.at['Output A', sweep])\r\n",
    "\r\n",
    "        # Get the indices of the test_pulse using the Output Channel\r\n",
    "        test_pulse = np.where(sweep_OA < 0)\r\n",
    "        test_pulse_OA_indices = test_pulse[0]\r\n",
    "\r\n",
    "        # # Find the edges of the test_pulse\r\n",
    "        # test_pulse_start = np.where(np.diff(sweep_OA) < (0))\r\n",
    "        # test_pulse_end = np.where(np.diff(sweep_OA) > (0))\r\n",
    "        # # Extract them from the tuple\r\n",
    "        # test_pulse_start_i = test_pulse_start[0][0]\r\n",
    "        # test_pulse_end_i = test_pulse_end[0][0]\r\n",
    "\r\n",
    "        # Use the indices of the test_pulse command to define baseline period and test period\r\n",
    "        sweep_OA_baseline = np.mean(sweep_OA[:(test_pulse_OA_indices[0]-1)]) # -1 to stop baseline before command starts\r\n",
    "        sweep_OA_pulse = np.mean(sweep_OA[test_pulse_OA_indices])\r\n",
    "        test_pulse_command = sweep_OA_baseline - sweep_OA_pulse # mV\r\n",
    "\r\n",
    "        # # Use the indices of the test_pulse command to define baseline period and test period\r\n",
    "        # sweep_OA_baseline = np.mean(sweep_OA[int(test_pulse_start_i - (20/0.04)):test_pulse_start_i])\r\n",
    "        # sweep_OA_pulse = np.mean(sweep_OA[int(test_pulse_end_i - (49/0.04)):test_pulse_end_i])\r\n",
    "        # test_pulse_command = sweep_OA_baseline - sweep_OA_pulse #mV\r\n",
    "\r\n",
    "\r\n",
    "        # Use the test_pulse indices to get the baseline and cell response to calculate the seal resistance\r\n",
    "        # To be exact and account for the delays between digital command and output from the amplifier, you could add +1 to the first index to calculate the baseline.\r\n",
    "        sweep_IB_baseline = np.mean(sweep_IB[:(test_pulse_OA_indices[0])])\r\n",
    "        # Similary, to avoid using the values recorded while the test pulse command begins, you can skip a milisecond (+4 indices) to the beginning, to ensure you start averaging once the signal has reached the cell. To be extra exact, you could add +2 to the last index so you use all the samples. However, this shouldn't make a difference, so we just skip the milisecond to avoid the transition period.\r\n",
    "        sweep_IB_pulse = np.mean(sweep_IB[(test_pulse_OA_indices[0]+4):(test_pulse_OA_indices[-1])])\r\n",
    "        test_pulse_membrane = sweep_IB_baseline - sweep_IB_pulse # pA\r\n",
    "\r\n",
    "        # # Do the same as above but for the Current channel\r\n",
    "        # sweep_IB_baseline = np.mean(sweep_IB[int(test_pulse_start_i - (20/0.04)):test_pulse_start_i])\r\n",
    "        # sweep_IB_pulse = np.mean(sweep_IB[int(test_pulse_end_i - (49/0.04)):test_pulse_end_i])\r\n",
    "        # test_pulse_membrane = sweep_IB_baseline - sweep_IB_pulse #pA\r\n",
    "\r\n",
    "        # Get seal resistance = mV/pA\r\n",
    "        Rseal = (test_pulse_command / test_pulse_membrane) * 1000 # to get MOhm\r\n",
    "        \r\n",
    "        # append results\r\n",
    "        seal_resistance.append(Rseal)\r\n",
    "        trial_keys.append(sweep)\r\n",
    "\r\n",
    "    # Create data frame of data:\r\n",
    "    extracted_Rseal_data_frame = pd.DataFrame([seal_resistance], index = cell_name, columns = trial_keys)\r\n"
   ],
   "outputs": [],
   "metadata": {}
  },
  {
   "cell_type": "markdown",
   "source": [
    "## 3 | Create a data frame to save the results\r\n",
    "\r\n",
    "\r\n",
    "Think about all the data we will need to export and save and create the backbone of the data frame that will contain it. Things to save:\r\n",
    "\r\n",
    " * 'sweep_data'\r\n",
    " * 'test_pulse_command'\r\n",
    " * 'test_pulse_membrane'\r\n",
    " * 'seal_resistance'\r\n",
    " * 'peaks'\r\n",
    " * 'n_spikes'\r\n",
    " * 'time_recording'\r\n",
    " * 'interspike_interval'\r\n",
    " * 'holding_isi'\r\n",
    " * 'holding_spikes'\r\n",
    " * 'cut_spikes'\r\n",
    "\r\n",
    "\r\n",
    "Will also need to save prominences and the histograms used to select it, and we probably need to store std for each average.\r\n",
    "\r\n",
    "\r\n",
    "### Types of firing rate to assess\r\n",
    "\r\n",
    "We could take a look at the following:\r\n",
    "\r\n",
    " * Instantaneous firing rate: inverse of the interspike interval\r\n",
    " * Firing rate over full recording\r\n",
    " * Firing rate over time windows (1s?)"
   ],
   "metadata": {}
  },
  {
   "cell_type": "code",
   "execution_count": null,
   "source": [
    "cell_id = [file_name_1.split('.')[0]] # Get the file name without the extension\r\n",
    "\r\n",
    "save_folder_name = str(folder_name_1 + '/results') # Set the path to save the file\r\n",
    "results_dataframepd = .DataFrame(np.zeros(11),l coumns = ['sweep_number'], index =[''sweep_data'', test_pulse_command', 'test_pulse_membrane', 'sel_resistance, ]'peaks', 'n_spikes', 'time_recording', 'interspike_interval', 'holding_isi', 'holding_spikes', 'cut_spik]'\r\n",
    "fil\r\n",
    "\r\n",
    "results_datafme\r\n",
    "# r Use pd.DataFrame.to_csv()  as file, with filename = dlpag_vgat_201201_c5...to save"
   ],
   "outputs": [],
   "metadata": {}
  }
 ]
}