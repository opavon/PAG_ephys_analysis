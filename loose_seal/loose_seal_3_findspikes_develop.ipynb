{
 "metadata": {
  "language_info": {
   "codemirror_mode": {
    "name": "ipython",
    "version": 3
   },
   "file_extension": ".py",
   "mimetype": "text/x-python",
   "name": "python",
   "nbconvert_exporter": "python",
   "pygments_lexer": "ipython3",
   "version": "3.8.0"
  },
  "orig_nbformat": 2,
  "kernelspec": {
   "name": "python380jvsc74a57bd03f42c24bac474001db25a65874baca9673a25c1149ca6577ebc3304546e4b10d",
   "display_name": "Python 3.8.0 64-bit ('ephys': conda)"
  }
 },
 "nbformat": 4,
 "nbformat_minor": 2,
 "cells": [
  {
   "source": [
    "## 0 | Import packages"
   ],
   "cell_type": "markdown",
   "metadata": {}
  },
  {
   "cell_type": "code",
   "execution_count": 2,
   "metadata": {},
   "outputs": [
    {
     "output_type": "stream",
     "name": "stdout",
     "text": [
      "done!\n"
     ]
    }
   ],
   "source": [
    "import os\n",
    "import h5py\n",
    "import numpy as np\n",
    "import pandas as pd\n",
    "import tkinter\n",
    "import matplotlib.pyplot as plt\n",
    "from utilities import importFile, openFile, openHDF5file, getLooseRseal\n",
    "from tkinter.filedialog import askopenfilename, askopenfilenames\n",
    "from collections import defaultdict\n",
    "from nptdms import TdmsFile\n",
    "print(\"done!\")"
   ]
  },
  {
   "source": [
    "## 1 | Open an .hdf5 file and extract channels"
   ],
   "cell_type": "markdown",
   "metadata": {}
  },
  {
   "source": [],
   "cell_type": "markdown",
   "metadata": {}
  },
  {
   "cell_type": "code",
   "execution_count": 3,
   "metadata": {},
   "outputs": [
    {
     "output_type": "stream",
     "name": "stdout",
     "text": [
      "file imported\n"
     ]
    }
   ],
   "source": [
    "# Load data\n",
    "channels_data_frame, time, dt, folder_name, file_name = importFile(curated_channel = 'Sweeps_Analysis')\n",
    "print(\"file imported\")"
   ]
  },
  {
   "cell_type": "code",
   "execution_count": 4,
   "metadata": {},
   "outputs": [
    {
     "output_type": "execute_result",
     "data": {
      "text/plain": [
       "                                                           7  \\\n",
       "Channel A  [-1.6124128324134814, -1.2260207615682315, -1....   \n",
       "Channel B  [-11.616220826606902, -7.752300066135383, -8.7...   \n",
       "Output A   [0.0, 0.0, 0.0, 0.0, 0.0, 0.0, 0.0, 0.0, 0.0, ...   \n",
       "Output B   [0.0, 0.0, 0.0, 0.0, 0.0, 0.0, 0.0, 0.0, 0.0, ...   \n",
       "\n",
       "                                                           8  \\\n",
       "Channel A  [-1.5480141542486916, -1.4192167975478727, -1....   \n",
       "Channel B  [9.635343909020817, 5.771422947326991, 11.8892...   \n",
       "Output A   [0.0, 0.0, 0.0, 0.0, 0.0, 0.0, 0.0, 0.0, 0.0, ...   \n",
       "Output B   [0.0, 0.0, 0.0, 0.0, 0.0, 0.0, 0.0, 0.0, 0.0, ...   \n",
       "\n",
       "                                                           9  \\\n",
       "Channel A  [-1.7412101883719264, -1.4836154759601623, -1....   \n",
       "Channel B  [0.29753499493087243, -0.6684452226398963, 1.9...   \n",
       "Output A   [0.0, 0.0, 0.0, 0.0, 0.0, 0.0, 0.0, 0.0, 0.0, ...   \n",
       "Output B   [0.0, 0.0, 0.0, 0.0, 0.0, 0.0, 0.0, 0.0, 0.0, ...   \n",
       "\n",
       "                                                          10  \\\n",
       "Channel A  [-1.5158148151198958, -1.5158148151198958, -1....   \n",
       "Channel B  [-20.632035761040658, -17.734095272842332, -22...   \n",
       "Output A   [0.0, 0.0, 0.0, 0.0, 0.0, 0.0, 0.0, 0.0, 0.0, ...   \n",
       "Output B   [0.0, 0.0, 0.0, 0.0, 0.0, 0.0, 0.0, 0.0, 0.0, ...   \n",
       "\n",
       "                                                          11  \\\n",
       "Channel A  [-1.3870174582953112, -1.6124128324134814, -1....   \n",
       "Channel B  [-11.938214221299425, -13.870174582953112, -14...   \n",
       "Output A   [0.0, 0.0, 0.0, 0.0, 0.0, 0.0, 0.0, 0.0, 0.0, ...   \n",
       "Output B   [0.0, 0.0, 0.0, 0.0, 0.0, 0.0, 0.0, 0.0, 0.0, ...   \n",
       "\n",
       "                                                          12  \\\n",
       "Channel A  [-1.258220100975559, -1.4514161367694889, -1.3...   \n",
       "Channel B  [-7.752300066135383, -8.718280260436195, -9.68...   \n",
       "Output A   [0.0, 0.0, 0.0, 0.0, 0.0, 0.0, 0.0, 0.0, 0.0, ...   \n",
       "Output B   [0.0, 0.0, 0.0, 0.0, 0.0, 0.0, 0.0, 0.0, 0.0, ...   \n",
       "\n",
       "                                                          13  \\\n",
       "Channel A  [-1.3870174582953112, -1.5480141542486916, -1....   \n",
       "Channel B  [-4.532366064980151, -0.6684452226398963, -5.8...   \n",
       "Output A   [0.0, 0.0, 0.0, 0.0, 0.0, 0.0, 0.0, 0.0, 0.0, ...   \n",
       "Output B   [0.0, 0.0, 0.0, 0.0, 0.0, 0.0, 0.0, 0.0, 0.0, ...   \n",
       "\n",
       "                                                          14  \\\n",
       "Channel A  [-1.2260207615682315, -1.5480141542486916, -1....   \n",
       "Channel B  [5.449429535875142, 6.737403183549116, -0.3464...   \n",
       "Output A   [0.0, 0.0, 0.0, 0.0, 0.0, 0.0, 0.0, 0.0, 0.0, ...   \n",
       "Output B   [0.0, 0.0, 0.0, 0.0, 0.0, 0.0, 0.0, 0.0, 0.0, ...   \n",
       "\n",
       "                                                          15  \\\n",
       "Channel A  [-1.5480141542486916, -1.5480141542486916, -1....   \n",
       "Channel B  [-3.2443924558328088, -4.210372663158741, -0.9...   \n",
       "Output A   [0.0, 0.0, 0.0, 0.0, 0.0, 0.0, 0.0, 0.0, 0.0, ...   \n",
       "Output B   [0.0, 0.0, 0.0, 0.0, 0.0, 0.0, 0.0, 0.0, 0.0, ...   \n",
       "\n",
       "                                                          16  \\\n",
       "Channel A  [-1.7412101883719264, -1.7412101883719264, -1....   \n",
       "Channel B  [8.669363664395322, 4.805442713904577, 0.61952...   \n",
       "Output A   [0.0, 0.0, 0.0, 0.0, 0.0, 0.0, 0.0, 0.0, 0.0, ...   \n",
       "Output B   [0.0, 0.0, 0.0, 0.0, 0.0, 0.0, 0.0, 0.0, 0.0, ...   \n",
       "\n",
       "                                                          17  \\\n",
       "Channel A  [-2.1276022532796945, -1.870007543835665, -2.1...   \n",
       "Channel B  [-24.817949755377462, -25.13994313739636, -29....   \n",
       "Output A   [0.0, 0.0, 0.0, 0.0, 0.0, 0.0, 0.0, 0.0, 0.0, ...   \n",
       "Output B   [0.0, 0.0, 0.0, 0.0, 0.0, 0.0, 0.0, 0.0, 0.0, ...   \n",
       "\n",
       "                                                          18  \\\n",
       "Channel A  [-1.4514161367694889, -1.5480141542486916, -1....   \n",
       "Channel B  [-10.97223403629284, -17.734095272842332, -15....   \n",
       "Output A   [0.0, 0.0, 0.0, 0.0, 0.0, 0.0, 0.0, 0.0, 0.0, ...   \n",
       "Output B   [0.0, 0.0, 0.0, 0.0, 0.0, 0.0, 0.0, 0.0, 0.0, ...   \n",
       "\n",
       "                                                          19  \\\n",
       "Channel A  [-1.5480141542486916, -1.5480141542486916, -1....   \n",
       "Channel B  [-10.00625384849881, -8.074293464545597, -10.0...   \n",
       "Output A   [0.0, 0.0, 0.0, 0.0, 0.0, 0.0, 0.0, 0.0, 0.0, ...   \n",
       "Output B   [0.0, 0.0, 0.0, 0.0, 0.0, 0.0, 0.0, 0.0, 0.0, ...   \n",
       "\n",
       "                                                          20  \\\n",
       "Channel A  [-1.6768115104545525, -1.5802134933465526, -1....   \n",
       "Channel B  [6.093416359089918, 6.737403183549116, 6.09341...   \n",
       "Output A   [0.0, 0.0, 0.0, 0.0, 0.0, 0.0, 0.0, 0.0, 0.0, ...   \n",
       "Output B   [0.0, 0.0, 0.0, 0.0, 0.0, 0.0, 0.0, 0.0, 0.0, ...   \n",
       "\n",
       "                                                          21  \\\n",
       "Channel A  [-1.8056088661656235, -1.9666055601089187, -1....   \n",
       "Channel B  [-2.922399052770176, -0.3464518170935623, -2.2...   \n",
       "Output A   [0.0, 0.0, 0.0, 0.0, 0.0, 0.0, 0.0, 0.0, 0.0, ...   \n",
       "Output B   [0.0, 0.0, 0.0, 0.0, 0.0, 0.0, 0.0, 0.0, 0.0, ...   \n",
       "\n",
       "                                                          22  \\\n",
       "Channel A  [-2.0954029147073254, -1.9022068826243217, -1....   \n",
       "Channel B  [-12.58220100975559, -10.650240640671248, -12....   \n",
       "Output A   [0.0, 0.0, 0.0, 0.0, 0.0, 0.0, 0.0, 0.0, 0.0, ...   \n",
       "Output B   [0.0, 0.0, 0.0, 0.0, 0.0, 0.0, 0.0, 0.0, 0.0, ...   \n",
       "\n",
       "                                                          23  \\\n",
       "Channel A  [-1.9022068826243217, -1.9022068826243217, -1....   \n",
       "Channel B  [-12.260207615682315, -11.294227431604716, -14...   \n",
       "Output A   [0.0, 0.0, 0.0, 0.0, 0.0, 0.0, 0.0, 0.0, 0.0, ...   \n",
       "Output B   [0.0, 0.0, 0.0, 0.0, 0.0, 0.0, 0.0, 0.0, 0.0, ...   \n",
       "\n",
       "                                                          24  \n",
       "Channel A  [-1.9022068826243217, -1.934406221382072, -1.9...  \n",
       "Channel B  [-3.2443924558328088, 0.619528401409027, -1.95...  \n",
       "Output A   [0.0, 0.0, 0.0, 0.0, 0.0, 0.0, 0.0, 0.0, 0.0, ...  \n",
       "Output B   [0.0, 0.0, 0.0, 0.0, 0.0, 0.0, 0.0, 0.0, 0.0, ...  "
      ],
      "text/html": "<div>\n<style scoped>\n    .dataframe tbody tr th:only-of-type {\n        vertical-align: middle;\n    }\n\n    .dataframe tbody tr th {\n        vertical-align: top;\n    }\n\n    .dataframe thead th {\n        text-align: right;\n    }\n</style>\n<table border=\"1\" class=\"dataframe\">\n  <thead>\n    <tr style=\"text-align: right;\">\n      <th></th>\n      <th>7</th>\n      <th>8</th>\n      <th>9</th>\n      <th>10</th>\n      <th>11</th>\n      <th>12</th>\n      <th>13</th>\n      <th>14</th>\n      <th>15</th>\n      <th>16</th>\n      <th>17</th>\n      <th>18</th>\n      <th>19</th>\n      <th>20</th>\n      <th>21</th>\n      <th>22</th>\n      <th>23</th>\n      <th>24</th>\n    </tr>\n  </thead>\n  <tbody>\n    <tr>\n      <th>Channel A</th>\n      <td>[-1.6124128324134814, -1.2260207615682315, -1....</td>\n      <td>[-1.5480141542486916, -1.4192167975478727, -1....</td>\n      <td>[-1.7412101883719264, -1.4836154759601623, -1....</td>\n      <td>[-1.5158148151198958, -1.5158148151198958, -1....</td>\n      <td>[-1.3870174582953112, -1.6124128324134814, -1....</td>\n      <td>[-1.258220100975559, -1.4514161367694889, -1.3...</td>\n      <td>[-1.3870174582953112, -1.5480141542486916, -1....</td>\n      <td>[-1.2260207615682315, -1.5480141542486916, -1....</td>\n      <td>[-1.5480141542486916, -1.5480141542486916, -1....</td>\n      <td>[-1.7412101883719264, -1.7412101883719264, -1....</td>\n      <td>[-2.1276022532796945, -1.870007543835665, -2.1...</td>\n      <td>[-1.4514161367694889, -1.5480141542486916, -1....</td>\n      <td>[-1.5480141542486916, -1.5480141542486916, -1....</td>\n      <td>[-1.6768115104545525, -1.5802134933465526, -1....</td>\n      <td>[-1.8056088661656235, -1.9666055601089187, -1....</td>\n      <td>[-2.0954029147073254, -1.9022068826243217, -1....</td>\n      <td>[-1.9022068826243217, -1.9022068826243217, -1....</td>\n      <td>[-1.9022068826243217, -1.934406221382072, -1.9...</td>\n    </tr>\n    <tr>\n      <th>Channel B</th>\n      <td>[-11.616220826606902, -7.752300066135383, -8.7...</td>\n      <td>[9.635343909020817, 5.771422947326991, 11.8892...</td>\n      <td>[0.29753499493087243, -0.6684452226398963, 1.9...</td>\n      <td>[-20.632035761040658, -17.734095272842332, -22...</td>\n      <td>[-11.938214221299425, -13.870174582953112, -14...</td>\n      <td>[-7.752300066135383, -8.718280260436195, -9.68...</td>\n      <td>[-4.532366064980151, -0.6684452226398963, -5.8...</td>\n      <td>[5.449429535875142, 6.737403183549116, -0.3464...</td>\n      <td>[-3.2443924558328088, -4.210372663158741, -0.9...</td>\n      <td>[8.669363664395322, 4.805442713904577, 0.61952...</td>\n      <td>[-24.817949755377462, -25.13994313739636, -29....</td>\n      <td>[-10.97223403629284, -17.734095272842332, -15....</td>\n      <td>[-10.00625384849881, -8.074293464545597, -10.0...</td>\n      <td>[6.093416359089918, 6.737403183549116, 6.09341...</td>\n      <td>[-2.922399052770176, -0.3464518170935623, -2.2...</td>\n      <td>[-12.58220100975559, -10.650240640671248, -12....</td>\n      <td>[-12.260207615682315, -11.294227431604716, -14...</td>\n      <td>[-3.2443924558328088, 0.619528401409027, -1.95...</td>\n    </tr>\n    <tr>\n      <th>Output A</th>\n      <td>[0.0, 0.0, 0.0, 0.0, 0.0, 0.0, 0.0, 0.0, 0.0, ...</td>\n      <td>[0.0, 0.0, 0.0, 0.0, 0.0, 0.0, 0.0, 0.0, 0.0, ...</td>\n      <td>[0.0, 0.0, 0.0, 0.0, 0.0, 0.0, 0.0, 0.0, 0.0, ...</td>\n      <td>[0.0, 0.0, 0.0, 0.0, 0.0, 0.0, 0.0, 0.0, 0.0, ...</td>\n      <td>[0.0, 0.0, 0.0, 0.0, 0.0, 0.0, 0.0, 0.0, 0.0, ...</td>\n      <td>[0.0, 0.0, 0.0, 0.0, 0.0, 0.0, 0.0, 0.0, 0.0, ...</td>\n      <td>[0.0, 0.0, 0.0, 0.0, 0.0, 0.0, 0.0, 0.0, 0.0, ...</td>\n      <td>[0.0, 0.0, 0.0, 0.0, 0.0, 0.0, 0.0, 0.0, 0.0, ...</td>\n      <td>[0.0, 0.0, 0.0, 0.0, 0.0, 0.0, 0.0, 0.0, 0.0, ...</td>\n      <td>[0.0, 0.0, 0.0, 0.0, 0.0, 0.0, 0.0, 0.0, 0.0, ...</td>\n      <td>[0.0, 0.0, 0.0, 0.0, 0.0, 0.0, 0.0, 0.0, 0.0, ...</td>\n      <td>[0.0, 0.0, 0.0, 0.0, 0.0, 0.0, 0.0, 0.0, 0.0, ...</td>\n      <td>[0.0, 0.0, 0.0, 0.0, 0.0, 0.0, 0.0, 0.0, 0.0, ...</td>\n      <td>[0.0, 0.0, 0.0, 0.0, 0.0, 0.0, 0.0, 0.0, 0.0, ...</td>\n      <td>[0.0, 0.0, 0.0, 0.0, 0.0, 0.0, 0.0, 0.0, 0.0, ...</td>\n      <td>[0.0, 0.0, 0.0, 0.0, 0.0, 0.0, 0.0, 0.0, 0.0, ...</td>\n      <td>[0.0, 0.0, 0.0, 0.0, 0.0, 0.0, 0.0, 0.0, 0.0, ...</td>\n      <td>[0.0, 0.0, 0.0, 0.0, 0.0, 0.0, 0.0, 0.0, 0.0, ...</td>\n    </tr>\n    <tr>\n      <th>Output B</th>\n      <td>[0.0, 0.0, 0.0, 0.0, 0.0, 0.0, 0.0, 0.0, 0.0, ...</td>\n      <td>[0.0, 0.0, 0.0, 0.0, 0.0, 0.0, 0.0, 0.0, 0.0, ...</td>\n      <td>[0.0, 0.0, 0.0, 0.0, 0.0, 0.0, 0.0, 0.0, 0.0, ...</td>\n      <td>[0.0, 0.0, 0.0, 0.0, 0.0, 0.0, 0.0, 0.0, 0.0, ...</td>\n      <td>[0.0, 0.0, 0.0, 0.0, 0.0, 0.0, 0.0, 0.0, 0.0, ...</td>\n      <td>[0.0, 0.0, 0.0, 0.0, 0.0, 0.0, 0.0, 0.0, 0.0, ...</td>\n      <td>[0.0, 0.0, 0.0, 0.0, 0.0, 0.0, 0.0, 0.0, 0.0, ...</td>\n      <td>[0.0, 0.0, 0.0, 0.0, 0.0, 0.0, 0.0, 0.0, 0.0, ...</td>\n      <td>[0.0, 0.0, 0.0, 0.0, 0.0, 0.0, 0.0, 0.0, 0.0, ...</td>\n      <td>[0.0, 0.0, 0.0, 0.0, 0.0, 0.0, 0.0, 0.0, 0.0, ...</td>\n      <td>[0.0, 0.0, 0.0, 0.0, 0.0, 0.0, 0.0, 0.0, 0.0, ...</td>\n      <td>[0.0, 0.0, 0.0, 0.0, 0.0, 0.0, 0.0, 0.0, 0.0, ...</td>\n      <td>[0.0, 0.0, 0.0, 0.0, 0.0, 0.0, 0.0, 0.0, 0.0, ...</td>\n      <td>[0.0, 0.0, 0.0, 0.0, 0.0, 0.0, 0.0, 0.0, 0.0, ...</td>\n      <td>[0.0, 0.0, 0.0, 0.0, 0.0, 0.0, 0.0, 0.0, 0.0, ...</td>\n      <td>[0.0, 0.0, 0.0, 0.0, 0.0, 0.0, 0.0, 0.0, 0.0, ...</td>\n      <td>[0.0, 0.0, 0.0, 0.0, 0.0, 0.0, 0.0, 0.0, 0.0, ...</td>\n      <td>[0.0, 0.0, 0.0, 0.0, 0.0, 0.0, 0.0, 0.0, 0.0, ...</td>\n    </tr>\n  </tbody>\n</table>\n</div>"
     },
     "metadata": {},
     "execution_count": 4
    }
   ],
   "source": [
    "# Inspect data frame\n",
    "channels_data_frame"
   ]
  },
  {
   "source": [
    "To check how to navigate pandas dataframes go to https://pandas.pydata.org/pandas-docs/stable/reference/api/pandas.DataFrame.flags.html or check testpulse_Rseal notebook. Some commands in the following cell.\n"
   ],
   "cell_type": "markdown",
   "metadata": {}
  },
  {
   "cell_type": "code",
   "execution_count": 5,
   "metadata": {},
   "outputs": [
    {
     "output_type": "stream",
     "name": "stdout",
     "text": [
      "[-1.61241283 -1.22602076 -1.54801415 ... -1.51581482 -1.19382142\n -1.61241283]\n[-1.61241283 -1.22602076 -1.54801415 ... -1.51581482 -1.19382142\n -1.61241283]\nIndex(['7', '8', '9', '10', '11', '12', '13', '14', '15', '16', '17', '18',\n       '19', '20', '21', '22', '23', '24'],\n      dtype='object')\nIndex(['Channel A', 'Channel B', 'Output A', 'Output B'], dtype='object')\n(4, 18)\n                                                           7  \\\nChannel A  [-1.6124128324134814, -1.2260207615682315, -1....   \nChannel B  [-11.616220826606902, -7.752300066135383, -8.7...   \n\n                                                           8  \\\nChannel A  [-1.5480141542486916, -1.4192167975478727, -1....   \nChannel B  [9.635343909020817, 5.771422947326991, 11.8892...   \n\n                                                           9  \\\nChannel A  [-1.7412101883719264, -1.4836154759601623, -1....   \nChannel B  [0.29753499493087243, -0.6684452226398963, 1.9...   \n\n                                                          10  \\\nChannel A  [-1.5158148151198958, -1.5158148151198958, -1....   \nChannel B  [-20.632035761040658, -17.734095272842332, -22...   \n\n                                                          11  \\\nChannel A  [-1.3870174582953112, -1.6124128324134814, -1....   \nChannel B  [-11.938214221299425, -13.870174582953112, -14...   \n\n                                                          12  \\\nChannel A  [-1.258220100975559, -1.4514161367694889, -1.3...   \nChannel B  [-7.752300066135383, -8.718280260436195, -9.68...   \n\n                                                          13  \\\nChannel A  [-1.3870174582953112, -1.5480141542486916, -1....   \nChannel B  [-4.532366064980151, -0.6684452226398963, -5.8...   \n\n                                                          14  \\\nChannel A  [-1.2260207615682315, -1.5480141542486916, -1....   \nChannel B  [5.449429535875142, 6.737403183549116, -0.3464...   \n\n                                                          15  \\\nChannel A  [-1.5480141542486916, -1.5480141542486916, -1....   \nChannel B  [-3.2443924558328088, -4.210372663158741, -0.9...   \n\n                                                          16  \\\nChannel A  [-1.7412101883719264, -1.7412101883719264, -1....   \nChannel B  [8.669363664395322, 4.805442713904577, 0.61952...   \n\n                                                          17  \\\nChannel A  [-2.1276022532796945, -1.870007543835665, -2.1...   \nChannel B  [-24.817949755377462, -25.13994313739636, -29....   \n\n                                                          18  \\\nChannel A  [-1.4514161367694889, -1.5480141542486916, -1....   \nChannel B  [-10.97223403629284, -17.734095272842332, -15....   \n\n                                                          19  \\\nChannel A  [-1.5480141542486916, -1.5480141542486916, -1....   \nChannel B  [-10.00625384849881, -8.074293464545597, -10.0...   \n\n                                                          20  \\\nChannel A  [-1.6768115104545525, -1.5802134933465526, -1....   \nChannel B  [6.093416359089918, 6.737403183549116, 6.09341...   \n\n                                                          21  \\\nChannel A  [-1.8056088661656235, -1.9666055601089187, -1....   \nChannel B  [-2.922399052770176, -0.3464518170935623, -2.2...   \n\n                                                          22  \\\nChannel A  [-2.0954029147073254, -1.9022068826243217, -1....   \nChannel B  [-12.58220100975559, -10.650240640671248, -12....   \n\n                                                          23  \\\nChannel A  [-1.9022068826243217, -1.9022068826243217, -1....   \nChannel B  [-12.260207615682315, -11.294227431604716, -14...   \n\n                                                          24  \nChannel A  [-1.9022068826243217, -1.934406221382072, -1.9...  \nChannel B  [-3.2443924558328088, 0.619528401409027, -1.95...  \n                                                           7  \\\nChannel A  [-1.6124128324134814, -1.2260207615682315, -1....   \n\n                                                           8  \\\nChannel A  [-1.5480141542486916, -1.4192167975478727, -1....   \n\n                                                           9  \\\nChannel A  [-1.7412101883719264, -1.4836154759601623, -1....   \n\n                                                          10  \\\nChannel A  [-1.5158148151198958, -1.5158148151198958, -1....   \n\n                                                          11  \\\nChannel A  [-1.3870174582953112, -1.6124128324134814, -1....   \n\n                                                          12  \\\nChannel A  [-1.258220100975559, -1.4514161367694889, -1.3...   \n\n                                                          13  \\\nChannel A  [-1.3870174582953112, -1.5480141542486916, -1....   \n\n                                                          14  \\\nChannel A  [-1.2260207615682315, -1.5480141542486916, -1....   \n\n                                                          15  \\\nChannel A  [-1.5480141542486916, -1.5480141542486916, -1....   \n\n                                                          16  \\\nChannel A  [-1.7412101883719264, -1.7412101883719264, -1....   \n\n                                                          17  \\\nChannel A  [-2.1276022532796945, -1.870007543835665, -2.1...   \n\n                                                          18  \\\nChannel A  [-1.4514161367694889, -1.5480141542486916, -1....   \n\n                                                          19  \\\nChannel A  [-1.5480141542486916, -1.5480141542486916, -1....   \n\n                                                          20  \\\nChannel A  [-1.6768115104545525, -1.5802134933465526, -1....   \n\n                                                          21  \\\nChannel A  [-1.8056088661656235, -1.9666055601089187, -1....   \n\n                                                          22  \\\nChannel A  [-2.0954029147073254, -1.9022068826243217, -1....   \n\n                                                          23  \\\nChannel A  [-1.9022068826243217, -1.9022068826243217, -1....   \n\n                                                          24  \nChannel A  [-1.9022068826243217, -1.934406221382072, -1.9...  \n7     [-1.6124128324134814, -1.2260207615682315, -1....\n8     [-1.5480141542486916, -1.4192167975478727, -1....\n9     [-1.7412101883719264, -1.4836154759601623, -1....\n10    [-1.5158148151198958, -1.5158148151198958, -1....\n11    [-1.3870174582953112, -1.6124128324134814, -1....\n12    [-1.258220100975559, -1.4514161367694889, -1.3...\n13    [-1.3870174582953112, -1.5480141542486916, -1....\n14    [-1.2260207615682315, -1.5480141542486916, -1....\n15    [-1.5480141542486916, -1.5480141542486916, -1....\n16    [-1.7412101883719264, -1.7412101883719264, -1....\n17    [-2.1276022532796945, -1.870007543835665, -2.1...\n18    [-1.4514161367694889, -1.5480141542486916, -1....\n19    [-1.5480141542486916, -1.5480141542486916, -1....\n20    [-1.6768115104545525, -1.5802134933465526, -1....\n21    [-1.8056088661656235, -1.9666055601089187, -1....\n22    [-2.0954029147073254, -1.9022068826243217, -1....\n23    [-1.9022068826243217, -1.9022068826243217, -1....\n24    [-1.9022068826243217, -1.934406221382072, -1.9...\nName: Channel A, dtype: object\n"
     ]
    }
   ],
   "source": [
    "# pandas.DataFrame.at - Access a single value for a row/column label pair.\n",
    "print(channels_data_frame.at['Channel A', '7'])\n",
    "print(channels_data_frame.iat[0,0])\n",
    "\n",
    "# pandas.DataFrame.columns - The column labels of the DataFrame.\n",
    "print(channels_data_frame.columns)\n",
    "\n",
    "# pandas.DataFrame.index - The index (row labels) of the DataFrame.\n",
    "print(channels_data_frame.index)\n",
    "\n",
    "# pandas.DataFrame.shape - Return a tuple representing the dimensionality of the DataFrame.\n",
    "print(channels_data_frame.shape)\n",
    "\n",
    "# pandas.DataFrame.loc - Access a group of rows and columns by label(s) or a boolean array.\n",
    "print(channels_data_frame.loc[['Channel A', 'Channel B'],:])\n",
    "print(channels_data_frame.loc[['Channel A'], :])\n",
    "\n",
    "# pandas.DataFrame.iloc - Purely integer-location based indexing for selection by position.\n",
    "print(channels_data_frame.iloc[0, :])"
   ]
  },
  {
   "source": [
    "## 2 | Find Test Pulse indices so you can ignore it from analysis\n",
    "\n",
    "__Protocols used:__\n",
    "\n",
    " - OP_VC_clear:\n",
    "    - Sweep duration: 4950ms\n",
    "    - Sweep interval: 50ms\n",
    "    - Test pulse: 100ms (50ms delay and 50ms pulse)\n",
    "    - Real data per sweep: 4850ms\n",
    "\n",
    " - OP_VC_clear_nointerval:\n",
    "   - Sweep duration: 5100ms\n",
    "   - Sweep interval: 0ms\n",
    "   - Test pulse: 75ms (25ms delay and 50ms pulse)\n",
    "   - Real data per sweep: 5025ms\n",
    "\n",
    " - OP_VC_clear_nointerval:\n",
    "   - Sweep duration: 10100ms\n",
    "   - Sweep interval: 0ms\n",
    "   - Test pulse: 75ms (25ms delay and 50ms pulse)\n",
    "   - Real data per sweep: 10025ms"
   ],
   "cell_type": "markdown",
   "metadata": {}
  },
  {
   "source": [
    "### 2.1 | Load one sweep from Output A and get the test_pulse indices"
   ],
   "cell_type": "markdown",
   "metadata": {}
  },
  {
   "cell_type": "code",
   "execution_count": 6,
   "metadata": {},
   "outputs": [
    {
     "output_type": "stream",
     "name": "stdout",
     "text": [
      "done\n"
     ]
    }
   ],
   "source": [
    "sweep_IA = np.array(channels_data_frame.at['Channel A', '7'])\n",
    "sweep_IB = np.array(channels_data_frame.at['Channel B', '7'])\n",
    "sweep_OA = np.array(channels_data_frame.at['Output A', '7'])\n",
    "print('done')"
   ]
  },
  {
   "cell_type": "code",
   "execution_count": 7,
   "metadata": {},
   "outputs": [
    {
     "output_type": "stream",
     "name": "stdout",
     "text": [
      "[ 625  626  627 ... 1871 1872 1873]\n"
     ]
    }
   ],
   "source": [
    "test_pulse = np.where(sweep_OA < 0)\n",
    "test_pulse_OA_indices = test_pulse[0]\n",
    "print(test_pulse_OA_indices)"
   ]
  },
  {
   "cell_type": "code",
   "execution_count": 17,
   "metadata": {},
   "outputs": [
    {
     "output_type": "display_data",
     "data": {
      "text/plain": "<Figure size 432x288 with 3 Axes>",
      "image/svg+xml": "<?xml version=\"1.0\" encoding=\"utf-8\" standalone=\"no\"?>\r\n<!DOCTYPE svg PUBLIC \"-//W3C//DTD SVG 1.1//EN\"\r\n  \"http://www.w3.org/Graphics/SVG/1.1/DTD/svg11.dtd\">\r\n<svg height=\"250.927062pt\" version=\"1.1\" viewBox=\"0 0 393.210937 250.927062\" width=\"393.210937pt\" xmlns=\"http://www.w3.org/2000/svg\" xmlns:xlink=\"http://www.w3.org/1999/xlink\">\r\n <metadata>\r\n  <rdf:RDF xmlns:cc=\"http://creativecommons.org/ns#\" xmlns:dc=\"http://purl.org/dc/elements/1.1/\" xmlns:rdf=\"http://www.w3.org/1999/02/22-rdf-syntax-ns#\">\r\n   <cc:Work>\r\n    <dc:type rdf:resource=\"http://purl.org/dc/dcmitype/StillImage\"/>\r\n    <dc:date>2021-06-25T12:33:53.871409</dc:date>\r\n    <dc:format>image/svg+xml</dc:format>\r\n    <dc:creator>\r\n     <cc:Agent>\r\n      <dc:title>Matplotlib v3.4.2, https://matplotlib.org/</dc:title>\r\n     </cc:Agent>\r\n    </dc:creator>\r\n   </cc:Work>\r\n  </rdf:RDF>\r\n </metadata>\r\n <defs>\r\n  <style type=\"text/css\">*{stroke-linecap:butt;stroke-linejoin:round;}</style>\r\n </defs>\r\n <g id=\"figure_1\">\r\n  <g id=\"patch_1\">\r\n   <path d=\"M 0 250.927062 \r\nL 393.210937 250.927062 \r\nL 393.210937 0 \r\nL 0 0 \r\nz\r\n\" style=\"fill:none;\"/>\r\n  </g>\r\n  <g id=\"axes_1\">\r\n   <g id=\"patch_2\">\r\n    <path d=\"M 41.667188 73.561879 \r\nL 376.467188 73.561879 \r\nL 376.467188 9.608937 \r\nL 41.667188 9.608937 \r\nz\r\n\" style=\"fill:#ffffff;\"/>\r\n   </g>\r\n   <g id=\"matplotlib.axis_1\">\r\n    <g id=\"xtick_1\">\r\n     <g id=\"line2d_1\">\r\n      <defs>\r\n       <path d=\"M 0 0 \r\nL 0 3.5 \r\n\" id=\"m35d73e620a\" style=\"stroke:#000000;stroke-width:0.8;\"/>\r\n      </defs>\r\n      <g>\r\n       <use style=\"stroke:#000000;stroke-width:0.8;\" x=\"41.667187\" xlink:href=\"#m35d73e620a\" y=\"73.561879\"/>\r\n      </g>\r\n     </g>\r\n     <g id=\"text_1\">\r\n      <!-- 623 -->\r\n      <g transform=\"translate(32.123437 88.160316)scale(0.1 -0.1)\">\r\n       <defs>\r\n        <path d=\"M 2113 2584 \r\nQ 1688 2584 1439 2293 \r\nQ 1191 2003 1191 1497 \r\nQ 1191 994 1439 701 \r\nQ 1688 409 2113 409 \r\nQ 2538 409 2786 701 \r\nQ 3034 994 3034 1497 \r\nQ 3034 2003 2786 2293 \r\nQ 2538 2584 2113 2584 \r\nz\r\nM 3366 4563 \r\nL 3366 3988 \r\nQ 3128 4100 2886 4159 \r\nQ 2644 4219 2406 4219 \r\nQ 1781 4219 1451 3797 \r\nQ 1122 3375 1075 2522 \r\nQ 1259 2794 1537 2939 \r\nQ 1816 3084 2150 3084 \r\nQ 2853 3084 3261 2657 \r\nQ 3669 2231 3669 1497 \r\nQ 3669 778 3244 343 \r\nQ 2819 -91 2113 -91 \r\nQ 1303 -91 875 529 \r\nQ 447 1150 447 2328 \r\nQ 447 3434 972 4092 \r\nQ 1497 4750 2381 4750 \r\nQ 2619 4750 2861 4703 \r\nQ 3103 4656 3366 4563 \r\nz\r\n\" id=\"DejaVuSans-36\" transform=\"scale(0.015625)\"/>\r\n        <path d=\"M 1228 531 \r\nL 3431 531 \r\nL 3431 0 \r\nL 469 0 \r\nL 469 531 \r\nQ 828 903 1448 1529 \r\nQ 2069 2156 2228 2338 \r\nQ 2531 2678 2651 2914 \r\nQ 2772 3150 2772 3378 \r\nQ 2772 3750 2511 3984 \r\nQ 2250 4219 1831 4219 \r\nQ 1534 4219 1204 4116 \r\nQ 875 4013 500 3803 \r\nL 500 4441 \r\nQ 881 4594 1212 4672 \r\nQ 1544 4750 1819 4750 \r\nQ 2544 4750 2975 4387 \r\nQ 3406 4025 3406 3419 \r\nQ 3406 3131 3298 2873 \r\nQ 3191 2616 2906 2266 \r\nQ 2828 2175 2409 1742 \r\nQ 1991 1309 1228 531 \r\nz\r\n\" id=\"DejaVuSans-32\" transform=\"scale(0.015625)\"/>\r\n        <path d=\"M 2597 2516 \r\nQ 3050 2419 3304 2112 \r\nQ 3559 1806 3559 1356 \r\nQ 3559 666 3084 287 \r\nQ 2609 -91 1734 -91 \r\nQ 1441 -91 1130 -33 \r\nQ 819 25 488 141 \r\nL 488 750 \r\nQ 750 597 1062 519 \r\nQ 1375 441 1716 441 \r\nQ 2309 441 2620 675 \r\nQ 2931 909 2931 1356 \r\nQ 2931 1769 2642 2001 \r\nQ 2353 2234 1838 2234 \r\nL 1294 2234 \r\nL 1294 2753 \r\nL 1863 2753 \r\nQ 2328 2753 2575 2939 \r\nQ 2822 3125 2822 3475 \r\nQ 2822 3834 2567 4026 \r\nQ 2313 4219 1838 4219 \r\nQ 1578 4219 1281 4162 \r\nQ 984 4106 628 3988 \r\nL 628 4550 \r\nQ 988 4650 1302 4700 \r\nQ 1616 4750 1894 4750 \r\nQ 2613 4750 3031 4423 \r\nQ 3450 4097 3450 3541 \r\nQ 3450 3153 3228 2886 \r\nQ 3006 2619 2597 2516 \r\nz\r\n\" id=\"DejaVuSans-33\" transform=\"scale(0.015625)\"/>\r\n       </defs>\r\n       <use xlink:href=\"#DejaVuSans-36\"/>\r\n       <use x=\"63.623047\" xlink:href=\"#DejaVuSans-32\"/>\r\n       <use x=\"127.246094\" xlink:href=\"#DejaVuSans-33\"/>\r\n      </g>\r\n     </g>\r\n    </g>\r\n    <g id=\"xtick_2\">\r\n     <g id=\"line2d_2\">\r\n      <g>\r\n       <use style=\"stroke:#000000;stroke-width:0.8;\" x=\"78.867187\" xlink:href=\"#m35d73e620a\" y=\"73.561879\"/>\r\n      </g>\r\n     </g>\r\n     <g id=\"text_2\">\r\n      <!-- 624 -->\r\n      <g transform=\"translate(69.323437 88.160316)scale(0.1 -0.1)\">\r\n       <defs>\r\n        <path d=\"M 2419 4116 \r\nL 825 1625 \r\nL 2419 1625 \r\nL 2419 4116 \r\nz\r\nM 2253 4666 \r\nL 3047 4666 \r\nL 3047 1625 \r\nL 3713 1625 \r\nL 3713 1100 \r\nL 3047 1100 \r\nL 3047 0 \r\nL 2419 0 \r\nL 2419 1100 \r\nL 313 1100 \r\nL 313 1709 \r\nL 2253 4666 \r\nz\r\n\" id=\"DejaVuSans-34\" transform=\"scale(0.015625)\"/>\r\n       </defs>\r\n       <use xlink:href=\"#DejaVuSans-36\"/>\r\n       <use x=\"63.623047\" xlink:href=\"#DejaVuSans-32\"/>\r\n       <use x=\"127.246094\" xlink:href=\"#DejaVuSans-34\"/>\r\n      </g>\r\n     </g>\r\n    </g>\r\n    <g id=\"xtick_3\">\r\n     <g id=\"line2d_3\">\r\n      <g>\r\n       <use style=\"stroke:#000000;stroke-width:0.8;\" x=\"116.067187\" xlink:href=\"#m35d73e620a\" y=\"73.561879\"/>\r\n      </g>\r\n     </g>\r\n     <g id=\"text_3\">\r\n      <!-- 625 -->\r\n      <g transform=\"translate(106.523437 88.160316)scale(0.1 -0.1)\">\r\n       <defs>\r\n        <path d=\"M 691 4666 \r\nL 3169 4666 \r\nL 3169 4134 \r\nL 1269 4134 \r\nL 1269 2991 \r\nQ 1406 3038 1543 3061 \r\nQ 1681 3084 1819 3084 \r\nQ 2600 3084 3056 2656 \r\nQ 3513 2228 3513 1497 \r\nQ 3513 744 3044 326 \r\nQ 2575 -91 1722 -91 \r\nQ 1428 -91 1123 -41 \r\nQ 819 9 494 109 \r\nL 494 744 \r\nQ 775 591 1075 516 \r\nQ 1375 441 1709 441 \r\nQ 2250 441 2565 725 \r\nQ 2881 1009 2881 1497 \r\nQ 2881 1984 2565 2268 \r\nQ 2250 2553 1709 2553 \r\nQ 1456 2553 1204 2497 \r\nQ 953 2441 691 2322 \r\nL 691 4666 \r\nz\r\n\" id=\"DejaVuSans-35\" transform=\"scale(0.015625)\"/>\r\n       </defs>\r\n       <use xlink:href=\"#DejaVuSans-36\"/>\r\n       <use x=\"63.623047\" xlink:href=\"#DejaVuSans-32\"/>\r\n       <use x=\"127.246094\" xlink:href=\"#DejaVuSans-35\"/>\r\n      </g>\r\n     </g>\r\n    </g>\r\n    <g id=\"xtick_4\">\r\n     <g id=\"line2d_4\">\r\n      <g>\r\n       <use style=\"stroke:#000000;stroke-width:0.8;\" x=\"153.267187\" xlink:href=\"#m35d73e620a\" y=\"73.561879\"/>\r\n      </g>\r\n     </g>\r\n     <g id=\"text_4\">\r\n      <!-- 626 -->\r\n      <g transform=\"translate(143.723437 88.160316)scale(0.1 -0.1)\">\r\n       <use xlink:href=\"#DejaVuSans-36\"/>\r\n       <use x=\"63.623047\" xlink:href=\"#DejaVuSans-32\"/>\r\n       <use x=\"127.246094\" xlink:href=\"#DejaVuSans-36\"/>\r\n      </g>\r\n     </g>\r\n    </g>\r\n    <g id=\"xtick_5\">\r\n     <g id=\"line2d_5\">\r\n      <g>\r\n       <use style=\"stroke:#000000;stroke-width:0.8;\" x=\"190.467187\" xlink:href=\"#m35d73e620a\" y=\"73.561879\"/>\r\n      </g>\r\n     </g>\r\n     <g id=\"text_5\">\r\n      <!-- 627 -->\r\n      <g transform=\"translate(180.923437 88.160316)scale(0.1 -0.1)\">\r\n       <defs>\r\n        <path d=\"M 525 4666 \r\nL 3525 4666 \r\nL 3525 4397 \r\nL 1831 0 \r\nL 1172 0 \r\nL 2766 4134 \r\nL 525 4134 \r\nL 525 4666 \r\nz\r\n\" id=\"DejaVuSans-37\" transform=\"scale(0.015625)\"/>\r\n       </defs>\r\n       <use xlink:href=\"#DejaVuSans-36\"/>\r\n       <use x=\"63.623047\" xlink:href=\"#DejaVuSans-32\"/>\r\n       <use x=\"127.246094\" xlink:href=\"#DejaVuSans-37\"/>\r\n      </g>\r\n     </g>\r\n    </g>\r\n    <g id=\"xtick_6\">\r\n     <g id=\"line2d_6\">\r\n      <g>\r\n       <use style=\"stroke:#000000;stroke-width:0.8;\" x=\"227.667187\" xlink:href=\"#m35d73e620a\" y=\"73.561879\"/>\r\n      </g>\r\n     </g>\r\n     <g id=\"text_6\">\r\n      <!-- 628 -->\r\n      <g transform=\"translate(218.123437 88.160316)scale(0.1 -0.1)\">\r\n       <defs>\r\n        <path d=\"M 2034 2216 \r\nQ 1584 2216 1326 1975 \r\nQ 1069 1734 1069 1313 \r\nQ 1069 891 1326 650 \r\nQ 1584 409 2034 409 \r\nQ 2484 409 2743 651 \r\nQ 3003 894 3003 1313 \r\nQ 3003 1734 2745 1975 \r\nQ 2488 2216 2034 2216 \r\nz\r\nM 1403 2484 \r\nQ 997 2584 770 2862 \r\nQ 544 3141 544 3541 \r\nQ 544 4100 942 4425 \r\nQ 1341 4750 2034 4750 \r\nQ 2731 4750 3128 4425 \r\nQ 3525 4100 3525 3541 \r\nQ 3525 3141 3298 2862 \r\nQ 3072 2584 2669 2484 \r\nQ 3125 2378 3379 2068 \r\nQ 3634 1759 3634 1313 \r\nQ 3634 634 3220 271 \r\nQ 2806 -91 2034 -91 \r\nQ 1263 -91 848 271 \r\nQ 434 634 434 1313 \r\nQ 434 1759 690 2068 \r\nQ 947 2378 1403 2484 \r\nz\r\nM 1172 3481 \r\nQ 1172 3119 1398 2916 \r\nQ 1625 2713 2034 2713 \r\nQ 2441 2713 2670 2916 \r\nQ 2900 3119 2900 3481 \r\nQ 2900 3844 2670 4047 \r\nQ 2441 4250 2034 4250 \r\nQ 1625 4250 1398 4047 \r\nQ 1172 3844 1172 3481 \r\nz\r\n\" id=\"DejaVuSans-38\" transform=\"scale(0.015625)\"/>\r\n       </defs>\r\n       <use xlink:href=\"#DejaVuSans-36\"/>\r\n       <use x=\"63.623047\" xlink:href=\"#DejaVuSans-32\"/>\r\n       <use x=\"127.246094\" xlink:href=\"#DejaVuSans-38\"/>\r\n      </g>\r\n     </g>\r\n    </g>\r\n    <g id=\"xtick_7\">\r\n     <g id=\"line2d_7\">\r\n      <g>\r\n       <use style=\"stroke:#000000;stroke-width:0.8;\" x=\"264.867187\" xlink:href=\"#m35d73e620a\" y=\"73.561879\"/>\r\n      </g>\r\n     </g>\r\n     <g id=\"text_7\">\r\n      <!-- 629 -->\r\n      <g transform=\"translate(255.323437 88.160316)scale(0.1 -0.1)\">\r\n       <defs>\r\n        <path d=\"M 703 97 \r\nL 703 672 \r\nQ 941 559 1184 500 \r\nQ 1428 441 1663 441 \r\nQ 2288 441 2617 861 \r\nQ 2947 1281 2994 2138 \r\nQ 2813 1869 2534 1725 \r\nQ 2256 1581 1919 1581 \r\nQ 1219 1581 811 2004 \r\nQ 403 2428 403 3163 \r\nQ 403 3881 828 4315 \r\nQ 1253 4750 1959 4750 \r\nQ 2769 4750 3195 4129 \r\nQ 3622 3509 3622 2328 \r\nQ 3622 1225 3098 567 \r\nQ 2575 -91 1691 -91 \r\nQ 1453 -91 1209 -44 \r\nQ 966 3 703 97 \r\nz\r\nM 1959 2075 \r\nQ 2384 2075 2632 2365 \r\nQ 2881 2656 2881 3163 \r\nQ 2881 3666 2632 3958 \r\nQ 2384 4250 1959 4250 \r\nQ 1534 4250 1286 3958 \r\nQ 1038 3666 1038 3163 \r\nQ 1038 2656 1286 2365 \r\nQ 1534 2075 1959 2075 \r\nz\r\n\" id=\"DejaVuSans-39\" transform=\"scale(0.015625)\"/>\r\n       </defs>\r\n       <use xlink:href=\"#DejaVuSans-36\"/>\r\n       <use x=\"63.623047\" xlink:href=\"#DejaVuSans-32\"/>\r\n       <use x=\"127.246094\" xlink:href=\"#DejaVuSans-39\"/>\r\n      </g>\r\n     </g>\r\n    </g>\r\n    <g id=\"xtick_8\">\r\n     <g id=\"line2d_8\">\r\n      <g>\r\n       <use style=\"stroke:#000000;stroke-width:0.8;\" x=\"302.067187\" xlink:href=\"#m35d73e620a\" y=\"73.561879\"/>\r\n      </g>\r\n     </g>\r\n     <g id=\"text_8\">\r\n      <!-- 630 -->\r\n      <g transform=\"translate(292.523437 88.160316)scale(0.1 -0.1)\">\r\n       <defs>\r\n        <path d=\"M 2034 4250 \r\nQ 1547 4250 1301 3770 \r\nQ 1056 3291 1056 2328 \r\nQ 1056 1369 1301 889 \r\nQ 1547 409 2034 409 \r\nQ 2525 409 2770 889 \r\nQ 3016 1369 3016 2328 \r\nQ 3016 3291 2770 3770 \r\nQ 2525 4250 2034 4250 \r\nz\r\nM 2034 4750 \r\nQ 2819 4750 3233 4129 \r\nQ 3647 3509 3647 2328 \r\nQ 3647 1150 3233 529 \r\nQ 2819 -91 2034 -91 \r\nQ 1250 -91 836 529 \r\nQ 422 1150 422 2328 \r\nQ 422 3509 836 4129 \r\nQ 1250 4750 2034 4750 \r\nz\r\n\" id=\"DejaVuSans-30\" transform=\"scale(0.015625)\"/>\r\n       </defs>\r\n       <use xlink:href=\"#DejaVuSans-36\"/>\r\n       <use x=\"63.623047\" xlink:href=\"#DejaVuSans-33\"/>\r\n       <use x=\"127.246094\" xlink:href=\"#DejaVuSans-30\"/>\r\n      </g>\r\n     </g>\r\n    </g>\r\n    <g id=\"xtick_9\">\r\n     <g id=\"line2d_9\">\r\n      <g>\r\n       <use style=\"stroke:#000000;stroke-width:0.8;\" x=\"339.267187\" xlink:href=\"#m35d73e620a\" y=\"73.561879\"/>\r\n      </g>\r\n     </g>\r\n     <g id=\"text_9\">\r\n      <!-- 631 -->\r\n      <g transform=\"translate(329.723437 88.160316)scale(0.1 -0.1)\">\r\n       <defs>\r\n        <path d=\"M 794 531 \r\nL 1825 531 \r\nL 1825 4091 \r\nL 703 3866 \r\nL 703 4441 \r\nL 1819 4666 \r\nL 2450 4666 \r\nL 2450 531 \r\nL 3481 531 \r\nL 3481 0 \r\nL 794 0 \r\nL 794 531 \r\nz\r\n\" id=\"DejaVuSans-31\" transform=\"scale(0.015625)\"/>\r\n       </defs>\r\n       <use xlink:href=\"#DejaVuSans-36\"/>\r\n       <use x=\"63.623047\" xlink:href=\"#DejaVuSans-33\"/>\r\n       <use x=\"127.246094\" xlink:href=\"#DejaVuSans-31\"/>\r\n      </g>\r\n     </g>\r\n    </g>\r\n    <g id=\"xtick_10\">\r\n     <g id=\"line2d_10\">\r\n      <g>\r\n       <use style=\"stroke:#000000;stroke-width:0.8;\" x=\"376.467187\" xlink:href=\"#m35d73e620a\" y=\"73.561879\"/>\r\n      </g>\r\n     </g>\r\n     <g id=\"text_10\">\r\n      <!-- 632 -->\r\n      <g transform=\"translate(366.923437 88.160316)scale(0.1 -0.1)\">\r\n       <use xlink:href=\"#DejaVuSans-36\"/>\r\n       <use x=\"63.623047\" xlink:href=\"#DejaVuSans-33\"/>\r\n       <use x=\"127.246094\" xlink:href=\"#DejaVuSans-32\"/>\r\n      </g>\r\n     </g>\r\n    </g>\r\n   </g>\r\n   <g id=\"matplotlib.axis_2\">\r\n    <g id=\"ytick_1\">\r\n     <g id=\"line2d_11\">\r\n      <defs>\r\n       <path d=\"M 0 0 \r\nL -3.5 0 \r\n\" id=\"md1e18dcdea\" style=\"stroke:#000000;stroke-width:0.8;\"/>\r\n      </defs>\r\n      <g>\r\n       <use style=\"stroke:#000000;stroke-width:0.8;\" x=\"41.667188\" xlink:href=\"#md1e18dcdea\" y=\"66.610472\"/>\r\n      </g>\r\n     </g>\r\n     <g id=\"text_11\">\r\n      <!-- −400 -->\r\n      <g transform=\"translate(7.2 70.409691)scale(0.1 -0.1)\">\r\n       <defs>\r\n        <path d=\"M 678 2272 \r\nL 4684 2272 \r\nL 4684 1741 \r\nL 678 1741 \r\nL 678 2272 \r\nz\r\n\" id=\"DejaVuSans-2212\" transform=\"scale(0.015625)\"/>\r\n       </defs>\r\n       <use xlink:href=\"#DejaVuSans-2212\"/>\r\n       <use x=\"83.789062\" xlink:href=\"#DejaVuSans-34\"/>\r\n       <use x=\"147.412109\" xlink:href=\"#DejaVuSans-30\"/>\r\n       <use x=\"211.035156\" xlink:href=\"#DejaVuSans-30\"/>\r\n      </g>\r\n     </g>\r\n    </g>\r\n    <g id=\"ytick_2\">\r\n     <g id=\"line2d_12\">\r\n      <g>\r\n       <use style=\"stroke:#000000;stroke-width:0.8;\" x=\"41.667188\" xlink:href=\"#md1e18dcdea\" y=\"38.804845\"/>\r\n      </g>\r\n     </g>\r\n     <g id=\"text_12\">\r\n      <!-- −200 -->\r\n      <g transform=\"translate(7.2 42.604064)scale(0.1 -0.1)\">\r\n       <use xlink:href=\"#DejaVuSans-2212\"/>\r\n       <use x=\"83.789062\" xlink:href=\"#DejaVuSans-32\"/>\r\n       <use x=\"147.412109\" xlink:href=\"#DejaVuSans-30\"/>\r\n       <use x=\"211.035156\" xlink:href=\"#DejaVuSans-30\"/>\r\n      </g>\r\n     </g>\r\n    </g>\r\n    <g id=\"ytick_3\">\r\n     <g id=\"line2d_13\">\r\n      <g>\r\n       <use style=\"stroke:#000000;stroke-width:0.8;\" x=\"41.667188\" xlink:href=\"#md1e18dcdea\" y=\"10.999219\"/>\r\n      </g>\r\n     </g>\r\n     <g id=\"text_13\">\r\n      <!-- 0 -->\r\n      <g transform=\"translate(28.304688 14.798437)scale(0.1 -0.1)\">\r\n       <use xlink:href=\"#DejaVuSans-30\"/>\r\n      </g>\r\n     </g>\r\n    </g>\r\n   </g>\r\n   <g id=\"line2d_14\">\r\n    <path clip-path=\"url(#p53175bb1e1)\" d=\"M 4.467187 12.211305 \r\nL 41.667187 12.256071 \r\nL 78.867187 12.524668 \r\nL 116.067187 13.19616 \r\nL 153.267187 13.106628 \r\nL 190.467187 35.579225 \r\nL 227.667187 60.424415 \r\nL 264.867187 66.467837 \r\nL 302.067187 66.467837 \r\nL 339.267187 66.378305 \r\nL 376.467187 66.154475 \r\nL 394.210937 65.983653 \r\n\" style=\"fill:none;stroke:#000000;stroke-linecap:square;stroke-width:1.5;\"/>\r\n   </g>\r\n   <g id=\"patch_3\">\r\n    <path d=\"M 41.667188 73.561879 \r\nL 41.667188 9.608937 \r\n\" style=\"fill:none;stroke:#000000;stroke-linecap:square;stroke-linejoin:miter;stroke-width:0.8;\"/>\r\n   </g>\r\n   <g id=\"patch_4\">\r\n    <path d=\"M 376.467188 73.561879 \r\nL 376.467188 9.608937 \r\n\" style=\"fill:none;stroke:#000000;stroke-linecap:square;stroke-linejoin:miter;stroke-width:0.8;\"/>\r\n   </g>\r\n   <g id=\"patch_5\">\r\n    <path d=\"M 41.667187 73.561879 \r\nL 376.467187 73.561879 \r\n\" style=\"fill:none;stroke:#000000;stroke-linecap:square;stroke-linejoin:miter;stroke-width:0.8;\"/>\r\n   </g>\r\n   <g id=\"patch_6\">\r\n    <path d=\"M 41.667187 9.608937 \r\nL 376.467187 9.608937 \r\n\" style=\"fill:none;stroke:#000000;stroke-linecap:square;stroke-linejoin:miter;stroke-width:0.8;\"/>\r\n   </g>\r\n  </g>\r\n  <g id=\"axes_2\">\r\n   <g id=\"patch_7\">\r\n    <path d=\"M 41.667188 150.305408 \r\nL 376.467188 150.305408 \r\nL 376.467188 86.352467 \r\nL 41.667188 86.352467 \r\nz\r\n\" style=\"fill:#ffffff;\"/>\r\n   </g>\r\n   <g id=\"matplotlib.axis_3\">\r\n    <g id=\"xtick_11\">\r\n     <g id=\"line2d_15\">\r\n      <g>\r\n       <use style=\"stroke:#000000;stroke-width:0.8;\" x=\"41.667187\" xlink:href=\"#m35d73e620a\" y=\"150.305408\"/>\r\n      </g>\r\n     </g>\r\n     <g id=\"text_14\">\r\n      <!-- 623 -->\r\n      <g transform=\"translate(32.123437 164.903846)scale(0.1 -0.1)\">\r\n       <use xlink:href=\"#DejaVuSans-36\"/>\r\n       <use x=\"63.623047\" xlink:href=\"#DejaVuSans-32\"/>\r\n       <use x=\"127.246094\" xlink:href=\"#DejaVuSans-33\"/>\r\n      </g>\r\n     </g>\r\n    </g>\r\n    <g id=\"xtick_12\">\r\n     <g id=\"line2d_16\">\r\n      <g>\r\n       <use style=\"stroke:#000000;stroke-width:0.8;\" x=\"78.867187\" xlink:href=\"#m35d73e620a\" y=\"150.305408\"/>\r\n      </g>\r\n     </g>\r\n     <g id=\"text_15\">\r\n      <!-- 624 -->\r\n      <g transform=\"translate(69.323437 164.903846)scale(0.1 -0.1)\">\r\n       <use xlink:href=\"#DejaVuSans-36\"/>\r\n       <use x=\"63.623047\" xlink:href=\"#DejaVuSans-32\"/>\r\n       <use x=\"127.246094\" xlink:href=\"#DejaVuSans-34\"/>\r\n      </g>\r\n     </g>\r\n    </g>\r\n    <g id=\"xtick_13\">\r\n     <g id=\"line2d_17\">\r\n      <g>\r\n       <use style=\"stroke:#000000;stroke-width:0.8;\" x=\"116.067187\" xlink:href=\"#m35d73e620a\" y=\"150.305408\"/>\r\n      </g>\r\n     </g>\r\n     <g id=\"text_16\">\r\n      <!-- 625 -->\r\n      <g transform=\"translate(106.523437 164.903846)scale(0.1 -0.1)\">\r\n       <use xlink:href=\"#DejaVuSans-36\"/>\r\n       <use x=\"63.623047\" xlink:href=\"#DejaVuSans-32\"/>\r\n       <use x=\"127.246094\" xlink:href=\"#DejaVuSans-35\"/>\r\n      </g>\r\n     </g>\r\n    </g>\r\n    <g id=\"xtick_14\">\r\n     <g id=\"line2d_18\">\r\n      <g>\r\n       <use style=\"stroke:#000000;stroke-width:0.8;\" x=\"153.267187\" xlink:href=\"#m35d73e620a\" y=\"150.305408\"/>\r\n      </g>\r\n     </g>\r\n     <g id=\"text_17\">\r\n      <!-- 626 -->\r\n      <g transform=\"translate(143.723437 164.903846)scale(0.1 -0.1)\">\r\n       <use xlink:href=\"#DejaVuSans-36\"/>\r\n       <use x=\"63.623047\" xlink:href=\"#DejaVuSans-32\"/>\r\n       <use x=\"127.246094\" xlink:href=\"#DejaVuSans-36\"/>\r\n      </g>\r\n     </g>\r\n    </g>\r\n    <g id=\"xtick_15\">\r\n     <g id=\"line2d_19\">\r\n      <g>\r\n       <use style=\"stroke:#000000;stroke-width:0.8;\" x=\"190.467187\" xlink:href=\"#m35d73e620a\" y=\"150.305408\"/>\r\n      </g>\r\n     </g>\r\n     <g id=\"text_18\">\r\n      <!-- 627 -->\r\n      <g transform=\"translate(180.923437 164.903846)scale(0.1 -0.1)\">\r\n       <use xlink:href=\"#DejaVuSans-36\"/>\r\n       <use x=\"63.623047\" xlink:href=\"#DejaVuSans-32\"/>\r\n       <use x=\"127.246094\" xlink:href=\"#DejaVuSans-37\"/>\r\n      </g>\r\n     </g>\r\n    </g>\r\n    <g id=\"xtick_16\">\r\n     <g id=\"line2d_20\">\r\n      <g>\r\n       <use style=\"stroke:#000000;stroke-width:0.8;\" x=\"227.667187\" xlink:href=\"#m35d73e620a\" y=\"150.305408\"/>\r\n      </g>\r\n     </g>\r\n     <g id=\"text_19\">\r\n      <!-- 628 -->\r\n      <g transform=\"translate(218.123437 164.903846)scale(0.1 -0.1)\">\r\n       <use xlink:href=\"#DejaVuSans-36\"/>\r\n       <use x=\"63.623047\" xlink:href=\"#DejaVuSans-32\"/>\r\n       <use x=\"127.246094\" xlink:href=\"#DejaVuSans-38\"/>\r\n      </g>\r\n     </g>\r\n    </g>\r\n    <g id=\"xtick_17\">\r\n     <g id=\"line2d_21\">\r\n      <g>\r\n       <use style=\"stroke:#000000;stroke-width:0.8;\" x=\"264.867187\" xlink:href=\"#m35d73e620a\" y=\"150.305408\"/>\r\n      </g>\r\n     </g>\r\n     <g id=\"text_20\">\r\n      <!-- 629 -->\r\n      <g transform=\"translate(255.323437 164.903846)scale(0.1 -0.1)\">\r\n       <use xlink:href=\"#DejaVuSans-36\"/>\r\n       <use x=\"63.623047\" xlink:href=\"#DejaVuSans-32\"/>\r\n       <use x=\"127.246094\" xlink:href=\"#DejaVuSans-39\"/>\r\n      </g>\r\n     </g>\r\n    </g>\r\n    <g id=\"xtick_18\">\r\n     <g id=\"line2d_22\">\r\n      <g>\r\n       <use style=\"stroke:#000000;stroke-width:0.8;\" x=\"302.067187\" xlink:href=\"#m35d73e620a\" y=\"150.305408\"/>\r\n      </g>\r\n     </g>\r\n     <g id=\"text_21\">\r\n      <!-- 630 -->\r\n      <g transform=\"translate(292.523437 164.903846)scale(0.1 -0.1)\">\r\n       <use xlink:href=\"#DejaVuSans-36\"/>\r\n       <use x=\"63.623047\" xlink:href=\"#DejaVuSans-33\"/>\r\n       <use x=\"127.246094\" xlink:href=\"#DejaVuSans-30\"/>\r\n      </g>\r\n     </g>\r\n    </g>\r\n    <g id=\"xtick_19\">\r\n     <g id=\"line2d_23\">\r\n      <g>\r\n       <use style=\"stroke:#000000;stroke-width:0.8;\" x=\"339.267187\" xlink:href=\"#m35d73e620a\" y=\"150.305408\"/>\r\n      </g>\r\n     </g>\r\n     <g id=\"text_22\">\r\n      <!-- 631 -->\r\n      <g transform=\"translate(329.723437 164.903846)scale(0.1 -0.1)\">\r\n       <use xlink:href=\"#DejaVuSans-36\"/>\r\n       <use x=\"63.623047\" xlink:href=\"#DejaVuSans-33\"/>\r\n       <use x=\"127.246094\" xlink:href=\"#DejaVuSans-31\"/>\r\n      </g>\r\n     </g>\r\n    </g>\r\n    <g id=\"xtick_20\">\r\n     <g id=\"line2d_24\">\r\n      <g>\r\n       <use style=\"stroke:#000000;stroke-width:0.8;\" x=\"376.467187\" xlink:href=\"#m35d73e620a\" y=\"150.305408\"/>\r\n      </g>\r\n     </g>\r\n     <g id=\"text_23\">\r\n      <!-- 632 -->\r\n      <g transform=\"translate(366.923437 164.903846)scale(0.1 -0.1)\">\r\n       <use xlink:href=\"#DejaVuSans-36\"/>\r\n       <use x=\"63.623047\" xlink:href=\"#DejaVuSans-33\"/>\r\n       <use x=\"127.246094\" xlink:href=\"#DejaVuSans-32\"/>\r\n      </g>\r\n     </g>\r\n    </g>\r\n   </g>\r\n   <g id=\"matplotlib.axis_4\">\r\n    <g id=\"ytick_4\">\r\n     <g id=\"line2d_25\">\r\n      <g>\r\n       <use style=\"stroke:#000000;stroke-width:0.8;\" x=\"41.667188\" xlink:href=\"#md1e18dcdea\" y=\"150.305408\"/>\r\n      </g>\r\n     </g>\r\n     <g id=\"text_24\">\r\n      <!-- −10 -->\r\n      <g transform=\"translate(13.5625 154.104627)scale(0.1 -0.1)\">\r\n       <use xlink:href=\"#DejaVuSans-2212\"/>\r\n       <use x=\"83.789062\" xlink:href=\"#DejaVuSans-31\"/>\r\n       <use x=\"147.412109\" xlink:href=\"#DejaVuSans-30\"/>\r\n      </g>\r\n     </g>\r\n    </g>\r\n    <g id=\"ytick_5\">\r\n     <g id=\"line2d_26\">\r\n      <g>\r\n       <use style=\"stroke:#000000;stroke-width:0.8;\" x=\"41.667188\" xlink:href=\"#md1e18dcdea\" y=\"123.658349\"/>\r\n      </g>\r\n     </g>\r\n     <g id=\"text_25\">\r\n      <!-- −5 -->\r\n      <g transform=\"translate(19.925 127.457568)scale(0.1 -0.1)\">\r\n       <use xlink:href=\"#DejaVuSans-2212\"/>\r\n       <use x=\"83.789062\" xlink:href=\"#DejaVuSans-35\"/>\r\n      </g>\r\n     </g>\r\n    </g>\r\n    <g id=\"ytick_6\">\r\n     <g id=\"line2d_27\">\r\n      <g>\r\n       <use style=\"stroke:#000000;stroke-width:0.8;\" x=\"41.667188\" xlink:href=\"#md1e18dcdea\" y=\"97.01129\"/>\r\n      </g>\r\n     </g>\r\n     <g id=\"text_26\">\r\n      <!-- 0 -->\r\n      <g transform=\"translate(28.304688 100.810509)scale(0.1 -0.1)\">\r\n       <use xlink:href=\"#DejaVuSans-30\"/>\r\n      </g>\r\n     </g>\r\n    </g>\r\n   </g>\r\n   <g id=\"line2d_28\">\r\n    <path clip-path=\"url(#pbf60f3d5f5)\" d=\"M 4.467187 105.947709 \r\nL 41.667187 103.373656 \r\nL 78.867187 105.261295 \r\nL 116.067187 104.403278 \r\nL 153.267187 127.569754 \r\nL 190.467187 131.688238 \r\nL 227.667187 131.688238 \r\nL 264.867187 131.688238 \r\nL 302.067187 130.31541 \r\nL 339.267187 131.859841 \r\nL 376.467187 130.83022 \r\nL 394.210937 131.566887 \r\n\" style=\"fill:none;stroke:#ff0000;stroke-linecap:square;stroke-width:1.5;\"/>\r\n   </g>\r\n   <g id=\"patch_8\">\r\n    <path d=\"M 41.667188 150.305408 \r\nL 41.667188 86.352467 \r\n\" style=\"fill:none;stroke:#000000;stroke-linecap:square;stroke-linejoin:miter;stroke-width:0.8;\"/>\r\n   </g>\r\n   <g id=\"patch_9\">\r\n    <path d=\"M 376.467188 150.305408 \r\nL 376.467188 86.352467 \r\n\" style=\"fill:none;stroke:#000000;stroke-linecap:square;stroke-linejoin:miter;stroke-width:0.8;\"/>\r\n   </g>\r\n   <g id=\"patch_10\">\r\n    <path d=\"M 41.667187 150.305408 \r\nL 376.467187 150.305408 \r\n\" style=\"fill:none;stroke:#000000;stroke-linecap:square;stroke-linejoin:miter;stroke-width:0.8;\"/>\r\n   </g>\r\n   <g id=\"patch_11\">\r\n    <path d=\"M 41.667187 86.352467 \r\nL 376.467187 86.352467 \r\n\" style=\"fill:none;stroke:#000000;stroke-linecap:square;stroke-linejoin:miter;stroke-width:0.8;\"/>\r\n   </g>\r\n  </g>\r\n  <g id=\"axes_3\">\r\n   <g id=\"patch_12\">\r\n    <path d=\"M 41.667188 227.048937 \r\nL 376.467188 227.048937 \r\nL 376.467188 163.095996 \r\nL 41.667188 163.095996 \r\nz\r\n\" style=\"fill:#ffffff;\"/>\r\n   </g>\r\n   <g id=\"matplotlib.axis_5\">\r\n    <g id=\"xtick_21\">\r\n     <g id=\"line2d_29\">\r\n      <g>\r\n       <use style=\"stroke:#000000;stroke-width:0.8;\" x=\"41.667187\" xlink:href=\"#m35d73e620a\" y=\"227.048937\"/>\r\n      </g>\r\n     </g>\r\n     <g id=\"text_27\">\r\n      <!-- 623 -->\r\n      <g transform=\"translate(32.123437 241.647375)scale(0.1 -0.1)\">\r\n       <use xlink:href=\"#DejaVuSans-36\"/>\r\n       <use x=\"63.623047\" xlink:href=\"#DejaVuSans-32\"/>\r\n       <use x=\"127.246094\" xlink:href=\"#DejaVuSans-33\"/>\r\n      </g>\r\n     </g>\r\n    </g>\r\n    <g id=\"xtick_22\">\r\n     <g id=\"line2d_30\">\r\n      <g>\r\n       <use style=\"stroke:#000000;stroke-width:0.8;\" x=\"78.867187\" xlink:href=\"#m35d73e620a\" y=\"227.048937\"/>\r\n      </g>\r\n     </g>\r\n     <g id=\"text_28\">\r\n      <!-- 624 -->\r\n      <g transform=\"translate(69.323437 241.647375)scale(0.1 -0.1)\">\r\n       <use xlink:href=\"#DejaVuSans-36\"/>\r\n       <use x=\"63.623047\" xlink:href=\"#DejaVuSans-32\"/>\r\n       <use x=\"127.246094\" xlink:href=\"#DejaVuSans-34\"/>\r\n      </g>\r\n     </g>\r\n    </g>\r\n    <g id=\"xtick_23\">\r\n     <g id=\"line2d_31\">\r\n      <g>\r\n       <use style=\"stroke:#000000;stroke-width:0.8;\" x=\"116.067187\" xlink:href=\"#m35d73e620a\" y=\"227.048937\"/>\r\n      </g>\r\n     </g>\r\n     <g id=\"text_29\">\r\n      <!-- 625 -->\r\n      <g transform=\"translate(106.523437 241.647375)scale(0.1 -0.1)\">\r\n       <use xlink:href=\"#DejaVuSans-36\"/>\r\n       <use x=\"63.623047\" xlink:href=\"#DejaVuSans-32\"/>\r\n       <use x=\"127.246094\" xlink:href=\"#DejaVuSans-35\"/>\r\n      </g>\r\n     </g>\r\n    </g>\r\n    <g id=\"xtick_24\">\r\n     <g id=\"line2d_32\">\r\n      <g>\r\n       <use style=\"stroke:#000000;stroke-width:0.8;\" x=\"153.267187\" xlink:href=\"#m35d73e620a\" y=\"227.048937\"/>\r\n      </g>\r\n     </g>\r\n     <g id=\"text_30\">\r\n      <!-- 626 -->\r\n      <g transform=\"translate(143.723437 241.647375)scale(0.1 -0.1)\">\r\n       <use xlink:href=\"#DejaVuSans-36\"/>\r\n       <use x=\"63.623047\" xlink:href=\"#DejaVuSans-32\"/>\r\n       <use x=\"127.246094\" xlink:href=\"#DejaVuSans-36\"/>\r\n      </g>\r\n     </g>\r\n    </g>\r\n    <g id=\"xtick_25\">\r\n     <g id=\"line2d_33\">\r\n      <g>\r\n       <use style=\"stroke:#000000;stroke-width:0.8;\" x=\"190.467187\" xlink:href=\"#m35d73e620a\" y=\"227.048937\"/>\r\n      </g>\r\n     </g>\r\n     <g id=\"text_31\">\r\n      <!-- 627 -->\r\n      <g transform=\"translate(180.923437 241.647375)scale(0.1 -0.1)\">\r\n       <use xlink:href=\"#DejaVuSans-36\"/>\r\n       <use x=\"63.623047\" xlink:href=\"#DejaVuSans-32\"/>\r\n       <use x=\"127.246094\" xlink:href=\"#DejaVuSans-37\"/>\r\n      </g>\r\n     </g>\r\n    </g>\r\n    <g id=\"xtick_26\">\r\n     <g id=\"line2d_34\">\r\n      <g>\r\n       <use style=\"stroke:#000000;stroke-width:0.8;\" x=\"227.667187\" xlink:href=\"#m35d73e620a\" y=\"227.048937\"/>\r\n      </g>\r\n     </g>\r\n     <g id=\"text_32\">\r\n      <!-- 628 -->\r\n      <g transform=\"translate(218.123437 241.647375)scale(0.1 -0.1)\">\r\n       <use xlink:href=\"#DejaVuSans-36\"/>\r\n       <use x=\"63.623047\" xlink:href=\"#DejaVuSans-32\"/>\r\n       <use x=\"127.246094\" xlink:href=\"#DejaVuSans-38\"/>\r\n      </g>\r\n     </g>\r\n    </g>\r\n    <g id=\"xtick_27\">\r\n     <g id=\"line2d_35\">\r\n      <g>\r\n       <use style=\"stroke:#000000;stroke-width:0.8;\" x=\"264.867187\" xlink:href=\"#m35d73e620a\" y=\"227.048937\"/>\r\n      </g>\r\n     </g>\r\n     <g id=\"text_33\">\r\n      <!-- 629 -->\r\n      <g transform=\"translate(255.323437 241.647375)scale(0.1 -0.1)\">\r\n       <use xlink:href=\"#DejaVuSans-36\"/>\r\n       <use x=\"63.623047\" xlink:href=\"#DejaVuSans-32\"/>\r\n       <use x=\"127.246094\" xlink:href=\"#DejaVuSans-39\"/>\r\n      </g>\r\n     </g>\r\n    </g>\r\n    <g id=\"xtick_28\">\r\n     <g id=\"line2d_36\">\r\n      <g>\r\n       <use style=\"stroke:#000000;stroke-width:0.8;\" x=\"302.067187\" xlink:href=\"#m35d73e620a\" y=\"227.048937\"/>\r\n      </g>\r\n     </g>\r\n     <g id=\"text_34\">\r\n      <!-- 630 -->\r\n      <g transform=\"translate(292.523437 241.647375)scale(0.1 -0.1)\">\r\n       <use xlink:href=\"#DejaVuSans-36\"/>\r\n       <use x=\"63.623047\" xlink:href=\"#DejaVuSans-33\"/>\r\n       <use x=\"127.246094\" xlink:href=\"#DejaVuSans-30\"/>\r\n      </g>\r\n     </g>\r\n    </g>\r\n    <g id=\"xtick_29\">\r\n     <g id=\"line2d_37\">\r\n      <g>\r\n       <use style=\"stroke:#000000;stroke-width:0.8;\" x=\"339.267187\" xlink:href=\"#m35d73e620a\" y=\"227.048937\"/>\r\n      </g>\r\n     </g>\r\n     <g id=\"text_35\">\r\n      <!-- 631 -->\r\n      <g transform=\"translate(329.723437 241.647375)scale(0.1 -0.1)\">\r\n       <use xlink:href=\"#DejaVuSans-36\"/>\r\n       <use x=\"63.623047\" xlink:href=\"#DejaVuSans-33\"/>\r\n       <use x=\"127.246094\" xlink:href=\"#DejaVuSans-31\"/>\r\n      </g>\r\n     </g>\r\n    </g>\r\n    <g id=\"xtick_30\">\r\n     <g id=\"line2d_38\">\r\n      <g>\r\n       <use style=\"stroke:#000000;stroke-width:0.8;\" x=\"376.467187\" xlink:href=\"#m35d73e620a\" y=\"227.048937\"/>\r\n      </g>\r\n     </g>\r\n     <g id=\"text_36\">\r\n      <!-- 632 -->\r\n      <g transform=\"translate(366.923437 241.647375)scale(0.1 -0.1)\">\r\n       <use xlink:href=\"#DejaVuSans-36\"/>\r\n       <use x=\"63.623047\" xlink:href=\"#DejaVuSans-33\"/>\r\n       <use x=\"127.246094\" xlink:href=\"#DejaVuSans-32\"/>\r\n      </g>\r\n     </g>\r\n    </g>\r\n   </g>\r\n   <g id=\"matplotlib.axis_6\">\r\n    <g id=\"ytick_7\">\r\n     <g id=\"line2d_39\">\r\n      <g>\r\n       <use style=\"stroke:#000000;stroke-width:0.8;\" x=\"41.667188\" xlink:href=\"#md1e18dcdea\" y=\"227.048937\"/>\r\n      </g>\r\n     </g>\r\n     <g id=\"text_37\">\r\n      <!-- −10 -->\r\n      <g transform=\"translate(13.5625 230.848156)scale(0.1 -0.1)\">\r\n       <use xlink:href=\"#DejaVuSans-2212\"/>\r\n       <use x=\"83.789062\" xlink:href=\"#DejaVuSans-31\"/>\r\n       <use x=\"147.412109\" xlink:href=\"#DejaVuSans-30\"/>\r\n      </g>\r\n     </g>\r\n    </g>\r\n    <g id=\"ytick_8\">\r\n     <g id=\"line2d_40\">\r\n      <g>\r\n       <use style=\"stroke:#000000;stroke-width:0.8;\" x=\"41.667188\" xlink:href=\"#md1e18dcdea\" y=\"200.401879\"/>\r\n      </g>\r\n     </g>\r\n     <g id=\"text_38\">\r\n      <!-- −5 -->\r\n      <g transform=\"translate(19.925 204.201097)scale(0.1 -0.1)\">\r\n       <use xlink:href=\"#DejaVuSans-2212\"/>\r\n       <use x=\"83.789062\" xlink:href=\"#DejaVuSans-35\"/>\r\n      </g>\r\n     </g>\r\n    </g>\r\n    <g id=\"ytick_9\">\r\n     <g id=\"line2d_41\">\r\n      <g>\r\n       <use style=\"stroke:#000000;stroke-width:0.8;\" x=\"41.667188\" xlink:href=\"#md1e18dcdea\" y=\"173.75482\"/>\r\n      </g>\r\n     </g>\r\n     <g id=\"text_39\">\r\n      <!-- 0 -->\r\n      <g transform=\"translate(28.304688 177.554039)scale(0.1 -0.1)\">\r\n       <use xlink:href=\"#DejaVuSans-30\"/>\r\n      </g>\r\n     </g>\r\n    </g>\r\n   </g>\r\n   <g id=\"line2d_42\">\r\n    <path clip-path=\"url(#p9c106da9de)\" d=\"M 4.467187 173.75482 \r\nL 41.667187 173.75482 \r\nL 78.867187 173.75482 \r\nL 116.067187 200.401879 \r\nL 153.267187 200.401879 \r\nL 190.467187 200.401879 \r\nL 227.667187 200.401879 \r\nL 264.867187 200.401879 \r\nL 302.067187 200.401879 \r\nL 339.267187 200.401879 \r\nL 376.467187 200.401879 \r\nL 394.210937 200.401879 \r\n\" style=\"fill:none;stroke:#00bfbf;stroke-linecap:square;stroke-width:1.5;\"/>\r\n   </g>\r\n   <g id=\"patch_13\">\r\n    <path d=\"M 41.667188 227.048937 \r\nL 41.667188 163.095996 \r\n\" style=\"fill:none;stroke:#000000;stroke-linecap:square;stroke-linejoin:miter;stroke-width:0.8;\"/>\r\n   </g>\r\n   <g id=\"patch_14\">\r\n    <path d=\"M 376.467188 227.048937 \r\nL 376.467188 163.095996 \r\n\" style=\"fill:none;stroke:#000000;stroke-linecap:square;stroke-linejoin:miter;stroke-width:0.8;\"/>\r\n   </g>\r\n   <g id=\"patch_15\">\r\n    <path d=\"M 41.667187 227.048937 \r\nL 376.467187 227.048937 \r\n\" style=\"fill:none;stroke:#000000;stroke-linecap:square;stroke-linejoin:miter;stroke-width:0.8;\"/>\r\n   </g>\r\n   <g id=\"patch_16\">\r\n    <path d=\"M 41.667187 163.095996 \r\nL 376.467187 163.095996 \r\n\" style=\"fill:none;stroke:#000000;stroke-linecap:square;stroke-linejoin:miter;stroke-width:0.8;\"/>\r\n   </g>\r\n  </g>\r\n </g>\r\n <defs>\r\n  <clipPath id=\"p53175bb1e1\">\r\n   <rect height=\"63.952941\" width=\"334.8\" x=\"41.667188\" y=\"9.608937\"/>\r\n  </clipPath>\r\n  <clipPath id=\"pbf60f3d5f5\">\r\n   <rect height=\"63.952941\" width=\"334.8\" x=\"41.667188\" y=\"86.352467\"/>\r\n  </clipPath>\r\n  <clipPath id=\"p9c106da9de\">\r\n   <rect height=\"63.952941\" width=\"334.8\" x=\"41.667188\" y=\"163.095996\"/>\r\n  </clipPath>\r\n </defs>\r\n</svg>\r\n",
      "image/png": "[encoded data removed]"
     },
     "metadata": {
      "needs_background": "light"
     }
    }
   ],
   "source": [
    "# To plot inline\n",
    "%matplotlib inline\n",
    "\n",
    "# Note how there is a further delay for the channel B\n",
    "plt.figure(1)\n",
    "plt.subplot(311)\n",
    "plt.plot(sweep_IB, 'k')\n",
    "plt.axis([test_pulse_OA_indices[0]-2, test_pulse_OA_indices[7], -450, 10])\n",
    "plt.subplot(312)\n",
    "plt.plot(sweep_IA, 'r')\n",
    "plt.axis([test_pulse_OA_indices[0]-2, test_pulse_OA_indices[7], -10, 2])\n",
    "plt.subplot(313)\n",
    "plt.plot(sweep_OA, 'c')\n",
    "plt.axis([test_pulse_OA_indices[0]-2, test_pulse_OA_indices[7], -10, 2])\n",
    "plt.show()"
   ]
  },
  {
   "cell_type": "code",
   "execution_count": 12,
   "metadata": {},
   "outputs": [],
   "source": [
    "# To plot in an adjustable pop up window\n",
    "%matplotlib tk\n",
    "\n",
    "# Note how there is a further delay for the channel B\n",
    "plt.figure(2)\n",
    "plt.subplot(311)\n",
    "plt.plot(sweep_IB, 'k')\n",
    "plt.axis([test_pulse_OA_indices[-2], test_pulse_OA_indices[-1]+8, -450, 20])\n",
    "plt.subplot(312)\n",
    "plt.plot(sweep_IA, 'r')\n",
    "plt.axis([test_pulse_OA_indices[-2], test_pulse_OA_indices[-1]+8, -10, 2])\n",
    "plt.subplot(313)\n",
    "plt.plot(sweep_OA, 'c')\n",
    "plt.axis([test_pulse_OA_indices[-2], test_pulse_OA_indices[-1]+8, -10, 2])\n",
    "plt.show()"
   ]
  },
  {
   "source": [
    "### 2.2 | Get test_pulse indices to remove the epochs where voltage is injected from analysis"
   ],
   "cell_type": "markdown",
   "metadata": {}
  },
  {
   "cell_type": "code",
   "execution_count": null,
   "metadata": {},
   "outputs": [],
   "source": [
    "test_pulse_IB_start = test_pulse_OA_indices[0] + 1 # \n",
    "print(test_pulse_IB_start)\n",
    "test_pulse_IB_end = test_pulse_OA_indices[-1] + 1 + 4\n",
    "print(test_pulse_IB_end)"
   ]
  },
  {
   "source": [
    "## 3 | Find spikes"
   ],
   "cell_type": "markdown",
   "metadata": {}
  },
  {
   "cell_type": "code",
   "execution_count": 18,
   "metadata": {},
   "outputs": [
    {
     "output_type": "stream",
     "name": "stdout",
     "text": [
      "Warning: Cannot change to a different GUI toolkit: widget. Using tk instead.\n"
     ]
    }
   ],
   "source": [
    "# Note how there is a further delay for the channel B\n",
    "plt.figure(1)\n",
    "plt.plot(sweep_IB, 'k')\n",
    "#plt.xlim(left=test_pulse_IB_end)\n",
    "plt.show()"
   ]
  },
  {
   "cell_type": "code",
   "execution_count": null,
   "metadata": {},
   "outputs": [],
   "source": [
    "plt.figure(1)\n",
    "plt.plot(np.diff(sweep_IB), 'k')\n",
    "plt.xlim(left=test_pulse_IB_end)\n",
    "plt.show()"
   ]
  },
  {
   "cell_type": "code",
   "execution_count": null,
   "metadata": {},
   "outputs": [],
   "source": [
    "comp = lambda a, b: a < b\n",
    "comp(2, 2)"
   ]
  },
  {
   "cell_type": "code",
   "execution_count": null,
   "metadata": {},
   "outputs": [],
   "source": [
    "indices = np.arange(test_pulse_IB_start, test_pulse_IB_end)\n",
    "sweep_IB_no_testpulse = np.delete(sweep_IB, indices)\n",
    "sweep_IB_no_testpulse"
   ]
  },
  {
   "cell_type": "code",
   "execution_count": null,
   "metadata": {},
   "outputs": [],
   "source": [
    "np.where(sweep_IB_no_testpulse < (-50))"
   ]
  },
  {
   "cell_type": "code",
   "execution_count": null,
   "metadata": {},
   "outputs": [],
   "source": [
    "test_pulse_OA_indices"
   ]
  },
  {
   "cell_type": "code",
   "execution_count": null,
   "metadata": {},
   "outputs": [],
   "source": [
    "plt.figure(1)\n",
    "plt.plot(sweep_IB_no_testpulse, 'k')\n",
    "plt.axis([(5761-200), (5761+200), -100, 50])\n",
    "plt.show()"
   ]
  },
  {
   "cell_type": "code",
   "execution_count": null,
   "metadata": {},
   "outputs": [],
   "source": [
    "from scipy.signal import find_peaks\n",
    "help(find_peaks)"
   ]
  },
  {
   "cell_type": "code",
   "execution_count": null,
   "metadata": {},
   "outputs": [],
   "source": [
    "peaks, properties = find_peaks(-sweep_IB_no_testpulse, height = None, distance = 5, prominence = 50, width = 2)\n",
    "print(len(peaks))\n",
    "peaks"
   ]
  },
  {
   "cell_type": "code",
   "execution_count": null,
   "metadata": {},
   "outputs": [],
   "source": [
    "properties['prominences']"
   ]
  },
  {
   "cell_type": "code",
   "execution_count": null,
   "metadata": {},
   "outputs": [],
   "source": [
    "plt.plot(peaks, sweep_IB_no_testpulse[peaks], \"xr\"); plt.plot(sweep_IB_no_testpulse); plt.legend(['peaks'])\n",
    "plt.show()"
   ]
  },
  {
   "source": [
    "### Loop over sweeps to first delete all test_pulses and then concatenate the rest"
   ],
   "cell_type": "markdown",
   "metadata": {}
  },
  {
   "cell_type": "code",
   "execution_count": null,
   "metadata": {},
   "outputs": [],
   "source": [
    "# Load data\n",
    "channels_data_frame, time, dt, folder_name, file_name = importFile(curated_channel = 'Sweeps_Analysis')\n",
    "print(\"file imported\")"
   ]
  },
  {
   "cell_type": "code",
   "execution_count": null,
   "metadata": {},
   "outputs": [],
   "source": [
    "for sweep in channels_data_frame.columns:\n",
    "    sweep_IB = np.array(channels_data_frame.at['Channel B', sweep])\n",
    "    sweep_OA = np.array(channels_data_frame.at['Output A', sweep])\n",
    "\n",
    "    test_pulse = np.where(sweep_OA < 0)\n",
    "    test_pulse_OA_indices = test_pulse[0]\n",
    "    test_pulse_IB_end = test_pulse_OA_indices[-1] + 1 + 4\n",
    "\n",
    "    sweep_IB_no_testpulse = sweep_IB[test_pulse_IB_end:]\n",
    "\n",
    "    peaks, properties = find_peaks(-sweep_IB_no_testpulse,\n",
    "                                   height = None,\n",
    "                                   threshold = None,\n",
    "                                   distance = 5,\n",
    "                                   prominence = 50,\n",
    "                                   width = 2,\n",
    "                                   wlen = None,\n",
    "                                   rel_height = None,\n",
    "                                   plateau_size = None)\n",
    "                                   \n",
    "\n",
    "\n",
    "\n",
    "\n"
   ]
  },
  {
   "cell_type": "code",
   "execution_count": null,
   "metadata": {},
   "outputs": [],
   "source": [
    "print(len(sweep_IB))\n",
    "print(len(sweep_IB[test_pulse_IB_end:]))"
   ]
  },
  {
   "cell_type": "code",
   "execution_count": null,
   "metadata": {},
   "outputs": [],
   "source": [
    "plt.plot(sweep_IB[test_pulse_IB_end:])\n",
    "plt.show()"
   ]
  },
  {
   "cell_type": "code",
   "execution_count": null,
   "metadata": {},
   "outputs": [],
   "source": [
    "c = np.array(channels_data_frame.loc['Channel B', :])\n",
    "d = np.concatenate(c)\n",
    "plt.plot(d, 'r')\n",
    "#plt.axis([0, len(d), -200, 200])\n",
    "plt.show()"
   ]
  },
  {
   "cell_type": "code",
   "execution_count": null,
   "metadata": {},
   "outputs": [],
   "source": [
    "peaks, properties = find_peaks(-sweep_IB_no_testpulse, height = None, distance = 5, prominence = 50, width = 2)\n",
    "peaks"
   ]
  },
  {
   "cell_type": "code",
   "execution_count": null,
   "metadata": {},
   "outputs": [],
   "source": [
    "plt.plot(peaks, sweep_IB_no_testpulse[peaks], \"xr\"); plt.plot(sweep_IB_no_testpulse); plt.legend(['peaks'])\n",
    "plt.show()"
   ]
  },
  {
   "source": [
    "# Types of firing rate to assess\n",
    "\n",
    " * Instantaneous firing rate: inverse of the interspike interval\n",
    "\n",
    " * Firing rate over full recording\n",
    "\n",
    " * Firing rate over time windows (1s?)"
   ],
   "cell_type": "markdown",
   "metadata": {}
  }
 ]
}