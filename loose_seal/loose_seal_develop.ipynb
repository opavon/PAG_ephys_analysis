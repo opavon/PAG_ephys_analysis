{
 "metadata": {
  "language_info": {
   "codemirror_mode": {
    "name": "ipython",
    "version": 3
   },
   "file_extension": ".py",
   "mimetype": "text/x-python",
   "name": "python",
   "nbconvert_exporter": "python",
   "pygments_lexer": "ipython3",
   "version": "3.8.0"
  },
  "orig_nbformat": 2,
  "kernelspec": {
   "name": "python380jvsc74a57bd02f664273e531ff7d05ac97865ce1d4a67fb518bd75932c2c41a023ddf3c68bce",
   "display_name": "Python 3.8.0 64-bit ('ephys': conda)"
  },
  "metadata": {
   "interpreter": {
    "hash": "2f664273e531ff7d05ac97865ce1d4a67fb518bd75932c2c41a023ddf3c68bce"
   }
  }
 },
 "nbformat": 4,
 "nbformat_minor": 2,
 "cells": [
  {
   "source": [
    "## 1 | Import packages"
   ],
   "cell_type": "markdown",
   "metadata": {}
  },
  {
   "cell_type": "code",
   "execution_count": 4,
   "metadata": {},
   "outputs": [
    {
     "output_type": "stream",
     "name": "stdout",
     "text": [
      "done!\n"
     ]
    }
   ],
   "source": [
    "import os\n",
    "import h5py\n",
    "import numpy as np\n",
    "import tkinter\n",
    "from tkinter.filedialog import askopenfilename, askopenfilenames\n",
    "from collections import defaultdict\n",
    "from nptdms import TdmsFile\n",
    "print(\"done!\")"
   ]
  },
  {
   "source": [
    "## 2 | Use tkinter to choose a file and get the path to it"
   ],
   "cell_type": "markdown",
   "metadata": {}
  },
  {
   "cell_type": "code",
   "execution_count": null,
   "metadata": {},
   "outputs": [],
   "source": [
    "# test the code\n",
    "root = tkinter.Tk()\n",
    "root.attributes('-topmost', True) # Make window appear on top\n",
    "in_path = askopenfilename()\n",
    "print(in_path)\n",
    "root.destroy() # Close the root window\n",
    "\n",
    "# Split the pathname path into a pair, (head, tail) where tail is the last pathname component and head is everything leading up to that.\n",
    "folder_name = os.path.split(in_path)[0]\n",
    "file_name = os.path.split(in_path)[1]\n",
    "print(folder_name)\n",
    "print(file_name)"
   ]
  },
  {
   "cell_type": "code",
   "execution_count": null,
   "metadata": {},
   "outputs": [],
   "source": [
    "def importFile():\n",
    "    \"\"\"\n",
    "    `importFile` opens a window to select a file to import.\n",
    "    Returns path and calls `openFile` to extract data.\"\n",
    "    \"\"\"\n",
    "\n",
    "    root = tkinter.Tk()\n",
    "    root.attributes('-topmost', True) # Make window appear on top\n",
    "    in_path = askopenfilename() # Open dialogue to select file\n",
    "    root.destroy() # Close the root window\n",
    "\n",
    "    folder_name = os.path.split(in_path)[0] # Get path until folder\n",
    "    file_name = os.path.split(in_path)[1] # Get filename\n",
    "    \n",
    "    voltage_mV, current_pA, command, ttl, time, dt = openFile(in_path) # Call openFile() function\n",
    "    \n",
    "    return voltage_mV, current_pA, command, ttl, time, dt, folder_name, file_name"
   ]
  },
  {
   "source": [
    "## 3 | Open a file"
   ],
   "cell_type": "markdown",
   "metadata": {}
  },
  {
   "cell_type": "code",
   "execution_count": null,
   "metadata": {},
   "outputs": [],
   "source": [
    "def openFile(in_path, curated_channel = None):\n",
    "    \"\"\"\n",
    "    `openFile` checks whether you are attempting to open a `.tdms` or a `.hdf5` file.\n",
    "    Extracts the data from selected channels.\n",
    "    \"\"\"\n",
    "\n",
    "    if '.tdms' in in_path:\n",
    "        extracted_channels, time, dt = openTDMSfile(in_path)\n",
    "    elif '.hdf5' in in_path:\n",
    "        extracted_channels, time, dt = openHDF5file(in_path, curated_channel = curated_channel)\n",
    "    \n",
    "    voltage_mV = extracted_channels[0]\n",
    "    current_pA = extracted_channels[1]\n",
    "    command = extracted_channels[2]\n",
    "    ttl = extracted_channels[3]\n",
    "    \n",
    "    return voltage_mV, current_pA, command, ttl, time, dt"
   ]
  },
  {
   "source": [
    "### 3.1 | Open an .hdf5 file and extract channels"
   ],
   "cell_type": "markdown",
   "metadata": {}
  },
  {
   "cell_type": "code",
   "execution_count": 12,
   "metadata": {},
   "outputs": [
    {
     "output_type": "stream",
     "name": "stdout",
     "text": [
      "D:/Dropbox (UCL)/Project_paginhibition/analysis/loose_seal/analysis_sample_cells/dlpag_vgat_201201_c5_LDIBX_OP_VC_clear_nointerval_1.hdf5\nD:/Dropbox (UCL)/Project_paginhibition/analysis/loose_seal/analysis_sample_cells\ndlpag_vgat_201201_c5_LDIBX_OP_VC_clear_nointerval_1.hdf5\n"
     ]
    }
   ],
   "source": [
    "# Choose a .hdf5 file to test the code\n",
    "root = tkinter.Tk()\n",
    "root.attributes('-topmost', True) # Make window appear on top\n",
    "in_path = askopenfilename()\n",
    "print(in_path)\n",
    "root.destroy() # Close the root window\n",
    "\n",
    "# Split the pathname path into a pair, (head, tail) where tail is the last pathname component and head is everything leading up to that.\n",
    "folder_name = os.path.split(in_path)[0]\n",
    "file_name = os.path.split(in_path)[1]\n",
    "print(folder_name)\n",
    "print(file_name)"
   ]
  },
  {
   "cell_type": "code",
   "execution_count": 13,
   "metadata": {},
   "outputs": [
    {
     "output_type": "stream",
     "name": "stdout",
     "text": [
      "['Channel A', 'Channel B', 'Output A', 'Output B', 'Sweeps_Analysis', 'Time']\n(0, 11, 22, 25, 26, 27, 28, 29, 30, 1, 2, 3, 4, 5, 6, 7, 8, 9, 10, 12, 13, 14, 15, 16, 17, 18, 19, 20, 21, 23, 24)\n(1, 2, 3, 4, 5, 6, 7, 8, 9, 10, 11, 12, 13, 14, 15, 16, 17, 18, 19, 20, 21, 22, 23, 24, 25, 26, 27, 28, 29, 30, 31)\n"
     ]
    }
   ],
   "source": [
    "#print(in_path)\n",
    "test_file = h5py.File(in_path, 'r')\n",
    "print(list(test_file.keys()))\n",
    "test_file['Channel B'].keys()\n",
    "\n",
    "trialKeysInHDF5 = list(test_file['Channel B'].keys())\n",
    "#print(trialKeysInHDF5)\n",
    "dataDict = defaultdict(list)\n",
    "\n",
    "sortI, numericalOrder = zip(*sorted(enumerate([int(x) for x in trialKeysInHDF5]), \n",
    "                                    key = lambda i:i[1]))\n",
    "\n",
    "print(sortI)\n",
    "print(numericalOrder)\n",
    "\n",
    "# # How zip() works:\n",
    "# a = (\"John\", \"Charles\", \"Mike\")\n",
    "# b = (2, 1, 3)\n",
    "# x = sorted(zip(b, a))\n",
    "# list(x)"
   ]
  },
  {
   "cell_type": "code",
   "execution_count": 14,
   "metadata": {},
   "outputs": [
    {
     "output_type": "stream",
     "name": "stdout",
     "text": [
      "['1', '10', '11', '12', '13', '14', '15', '16', '17', '18', '19', '2', '20', '21', '22', '23', '24', '25', '26', '27', '28', '29', '3', '30', '31', '4', '5', '6', '7', '8', '9']\n[1, 10, 11, 12, 13, 14, 15, 16, 17, 18, 19, 2, 20, 21, 22, 23, 24, 25, 26, 27, 28, 29, 3, 30, 31, 4, 5, 6, 7, 8, 9]\n[1, 10, 11, 12, 13, 14, 15, 16, 17, 18, 19, 2, 20, 21, 22, 23, 24, 25, 26, 27, 28, 29, 3, 30, 31, 4, 5, 6, 7, 8, 9]\n[1, 2, 3, 4, 5, 6, 7, 8, 9, 10, 11, 12, 13, 14, 15, 16, 17, 18, 19, 20, 21, 22, 23, 24, 25, 26, 27, 28, 29, 30, 31]\n[0, 11, 22, 25, 26, 27, 28, 29, 30, 1, 2, 3, 4, 5, 6, 7, 8, 9, 10, 12, 13, 14, 15, 16, 17, 18, 19, 20, 21, 23, 24]\n[0, 9, 10, 11, 12, 13, 14, 15, 16, 17, 18, 1, 19, 20, 21, 22, 23, 24, 25, 26, 27, 28, 2, 29, 30, 3, 4, 5, 6, 7, 8]\n['1', '2', '3', '4', '5', '6', '7', '8', '9', '10', '11', '12', '13', '14', '15', '16', '17', '18', '19', '20', '21', '22', '23', '24', '25', '26', '27', '28', '29', '30', '31']\n"
     ]
    }
   ],
   "source": [
    "test_file = h5py.File(in_path, 'r')\n",
    "\n",
    "a = list(test_file['Channel B'].keys())\n",
    "print(a)\n",
    "\n",
    "b = [int(x) for x in a]\n",
    "print(b)\n",
    "\n",
    "c = [(x-(min(b))+1) for x in b]\n",
    "print(c)\n",
    "\n",
    "d = sorted(c)\n",
    "print(d)\n",
    "\n",
    "e = list(np.argsort(c, axis=None))\n",
    "print(e)\n",
    "\n",
    "f = [(x-b[0]) for x in b]\n",
    "print(f)\n",
    "\n",
    "z = [x for _, x in sorted(zip(c, a))]\n",
    "print(z)\n",
    "\n",
    "# corrected_test_file = defaultdict(list)\n",
    "# for i in range(len(e)):\n",
    "#     correctedTrialKey = a[e[i]]\n",
    "#     corrected_test_file['Output B'].append(np.array(test_file['Output B'][correctedTrialKey]))\n",
    "# print(corrected_test_file['Channel B'][0:10])\n",
    "\n",
    "# uncorrected_test_file = defaultdict(list)\n",
    "# for i in range(len(f)):\n",
    "#     uncorrectedTrialKey = a[f[i]]\n",
    "#     uncorrected_test_file['Output B'].append(np.array(test_file['Output B'][uncorrectedTrialKey]))\n",
    "# print(uncorrected_test_file['Channel B'][0:10])"
   ]
  },
  {
   "cell_type": "code",
   "execution_count": 15,
   "metadata": {},
   "outputs": [
    {
     "output_type": "stream",
     "name": "stdout",
     "text": [
      "['4053', '4054', '4055', '4056', '4057', '4058', '4059', '4060', '4061', '4062', '4063', '4064', '4065', '4066', '4067', '4068', '4069', '4070', '4071', '4072', '4073', '4074', '4075', '4076', '4077', '4078', '4079', '4080', '4081', '4082', '4083']\n[4053, 4054, 4055, 4056, 4057, 4058, 4059, 4060, 4061, 4062, 4063, 4064, 4065, 4066, 4067, 4068, 4069, 4070, 4071, 4072, 4073, 4074, 4075, 4076, 4077, 4078, 4079, 4080, 4081, 4082, 4083]\n[4053, 4054, 4055, 4056, 4057, 4058, 4059, 4060, 4061, 4062, 4063, 4064, 4065, 4066, 4067, 4068, 4069, 4070, 4071, 4072, 4073, 4074, 4075, 4076, 4077, 4078, 4079, 4080, 4081, 4082, 4083]\n"
     ]
    }
   ],
   "source": [
    "#print(in_path)\n",
    "test_file = h5py.File(in_path, 'r')\n",
    "#print(list(test_file.keys()))\n",
    "test_file['Output B'].keys()\n",
    "\n",
    "trialKeysInHDF5 = list(test_file['Output B'].keys())\n",
    "print(trialKeysInHDF5)\n",
    "dataDict = defaultdict(list)\n",
    "\n",
    "trialKeysInHDF5_int = [int(x) for x in trialKeysInHDF5]\n",
    "print(trialKeysInHDF5_int)\n",
    "trialKeysInHDF5_int.sort()\n",
    "print(trialKeysInHDF5_int)"
   ]
  },
  {
   "cell_type": "code",
   "execution_count": 16,
   "metadata": {},
   "outputs": [
    {
     "output_type": "stream",
     "name": "stdout",
     "text": [
      "range(0, 1)\n<KeysViewHDF5 ['4053', '4054', '4055', '4056', '4057', '4058', '4059', '4060', '4061', '4062', '4063', '4064', '4065', '4066', '4067', '4068', '4069', '4070', '4071', '4072', '4073', '4074', '4075', '4076', '4077', '4078', '4079', '4080', '4081', '4082', '4083']>\n"
     ]
    },
    {
     "output_type": "execute_result",
     "data": {
      "text/plain": [
       "<HDF5 dataset \"4053\": shape (1875,), type \"<f8\">"
      ]
     },
     "metadata": {},
     "execution_count": 16
    }
   ],
   "source": [
    "print(range(len(list(test_file['Time'].keys()))))\n",
    "print(test_file['Output B'].keys())\n",
    "test_file['Output B']['4053']"
   ]
  },
  {
   "cell_type": "code",
   "execution_count": 17,
   "metadata": {},
   "outputs": [
    {
     "output_type": "stream",
     "name": "stdout",
     "text": [
      "['1', '10', '11', '12', '13', '14', '15', '16', '17', '18', '19', '2', '20', '21', '22', '23', '24', '25', '26', '27', '28', '29', '3', '30', '31', '4', '5', '6', '7', '8', '9']\n['10', '11', '12', '13', '14', '15', '16', '17', '18', '19', '20', '21', '22', '23', '24', '7', '8', '9']\n[1, 10, 11, 12, 13, 14, 15, 16, 17, 18, 19, 2, 20, 21, 22, 23, 24, 25, 26, 27, 28, 29, 3, 30, 31, 4, 5, 6, 7, 8, 9]\n[10, 11, 12, 13, 14, 15, 16, 17, 18, 19, 20, 21, 22, 23, 24, 7, 8, 9]\n[1, 10, 11, 12, 13, 14, 15, 16, 17, 18, 19, 2, 20, 21, 22, 23, 24, 25, 26, 27, 28, 29, 3, 30, 31, 4, 5, 6, 7, 8, 9]\n[4, 5, 6, 7, 8, 9, 10, 11, 12, 13, 14, 15, 16, 17, 18, 1, 2, 3]\n[0, 11, 22, 25, 26, 27, 28, 29, 30, 1, 2, 3, 4, 5, 6, 7, 8, 9, 10, 12, 13, 14, 15, 16, 17, 18, 19, 20, 21, 23, 24]\n[15, 16, 17, 0, 1, 2, 3, 4, 5, 6, 7, 8, 9, 10, 11, 12, 13, 14]\n[0, 11, 22, 25, 26, 27, 28, 29, 30, 1, 2, 3, 4, 5, 6, 7, 8, 9, 10, 12, 13, 14, 15, 16, 17, 18, 19, 20, 21, 23, 24]\n[15, 16, 17, 0, 1, 2, 3, 4, 5, 6, 7, 8, 9, 10, 11, 12, 13, 14]\n[array([-11.61622083,  -7.75230007,  -8.71828026, ...,   5.12743612,\n         6.09341636,   9.95733732]), array([ 9.63534391,  5.77142295, 11.88929782, ..., -2.27841225,\n       -6.46432647, -7.10831327]), array([  0.29753499,  -0.66844522,   1.90750203, ..., -20.95402915,\n       -23.85196961, -25.13994314]), array([-20.63203576, -17.73409527, -22.56399607, ..., -16.7681151 ,\n       -17.41210188, -14.83615476]), array([-11.93821422, -13.87017458, -14.19216798, ..., -11.29422743,\n       -11.93821422, -14.51416137]), array([ -7.75230007,  -8.71828026,  -9.68426045, ...,  -8.39628686,\n        -9.36226706, -13.54818119]), array([-4.53236606, -0.66844522, -5.82033967, ...,  2.55148885,\n        4.16145589,  8.34737025]), array([ 5.44942954,  6.73740318, -0.34645182, ..., 16.3972057 ,\n       15.75321886, 13.1772715 ]), array([-3.24439246, -4.21037266, -0.99043863, ...,  0.94152181,\n        4.80544271,  7.0593966 ]), array([  8.66936366,   4.80544271,   0.6195284 , ..., -27.3938968 ,\n       -29.32585708, -31.57981071]), array([-24.81794976, -25.13994314, -29.96984383, ..., -12.9041944 ,\n       -12.26020762, -17.73409527]), array([-10.97223404, -17.73409527, -15.80213493, ..., -11.29422743,\n       -23.52997622, -17.41210188]), array([-10.00625385,  -8.07429346, -10.00625385, ...,   8.66936366,\n         9.95733732,  12.85527808]), array([ 6.09341636,  6.73740318,  6.09341636, ..., -3.88837926,\n       -4.85435947, -8.39628686]), array([ -2.92239905,  -0.34645182,  -2.27841225, ..., -18.37808205,\n       -14.51416137, -14.19216798]), array([-12.58220101, -10.65024064, -12.9041944 , ..., -19.6660556 ,\n       -21.9200093 , -20.31004237]), array([-12.26020762, -11.29422743, -14.83615476, ..., -12.9041944 ,\n       -16.7681151 , -16.7681151 ]), array([ -3.24439246,   0.6195284 ,  -1.95641884, ..., -19.34406221,\n       -13.2261878 , -12.9041944 ])]\n[[array([-11.61622083,  -7.75230007,  -8.71828026, ...,   5.12743612,\n         6.09341636,   9.95733732]), array([ 9.63534391,  5.77142295, 11.88929782, ..., -2.27841225,\n       -6.46432647, -7.10831327]), array([  0.29753499,  -0.66844522,   1.90750203, ..., -20.95402915,\n       -23.85196961, -25.13994314]), array([-20.63203576, -17.73409527, -22.56399607, ..., -16.7681151 ,\n       -17.41210188, -14.83615476]), array([-11.93821422, -13.87017458, -14.19216798, ..., -11.29422743,\n       -11.93821422, -14.51416137]), array([ -7.75230007,  -8.71828026,  -9.68426045, ...,  -8.39628686,\n        -9.36226706, -13.54818119]), array([-4.53236606, -0.66844522, -5.82033967, ...,  2.55148885,\n        4.16145589,  8.34737025]), array([ 5.44942954,  6.73740318, -0.34645182, ..., 16.3972057 ,\n       15.75321886, 13.1772715 ]), array([-3.24439246, -4.21037266, -0.99043863, ...,  0.94152181,\n        4.80544271,  7.0593966 ]), array([  8.66936366,   4.80544271,   0.6195284 , ..., -27.3938968 ,\n       -29.32585708, -31.57981071]), array([-24.81794976, -25.13994314, -29.96984383, ..., -12.9041944 ,\n       -12.26020762, -17.73409527]), array([-10.97223404, -17.73409527, -15.80213493, ..., -11.29422743,\n       -23.52997622, -17.41210188]), array([-10.00625385,  -8.07429346, -10.00625385, ...,   8.66936366,\n         9.95733732,  12.85527808]), array([ 6.09341636,  6.73740318,  6.09341636, ..., -3.88837926,\n       -4.85435947, -8.39628686]), array([ -2.92239905,  -0.34645182,  -2.27841225, ..., -18.37808205,\n       -14.51416137, -14.19216798]), array([-12.58220101, -10.65024064, -12.9041944 , ..., -19.6660556 ,\n       -21.9200093 , -20.31004237]), array([-12.26020762, -11.29422743, -14.83615476, ..., -12.9041944 ,\n       -16.7681151 , -16.7681151 ]), array([ -3.24439246,   0.6195284 ,  -1.95641884, ..., -19.34406221,\n       -13.2261878 , -12.9041944 ])]]\n"
     ]
    }
   ],
   "source": [
    "test_file = h5py.File(in_path, 'r')\n",
    "a = list(test_file['Channel B'].keys())\n",
    "a_curated = list(test_file['Sweeps_Analysis'].keys())\n",
    "print(a)\n",
    "print(a_curated)\n",
    "\n",
    "b = [int(x) for x in a]\n",
    "b_curated = [int(x) for x in a_curated]\n",
    "print(b)\n",
    "print(b_curated)\n",
    "\n",
    "c = [(x-(min(b))+1) for x in b]\n",
    "c_curated = [(x-(min(b_curated))+1) for x in b_curated]\n",
    "print(c)\n",
    "print(c_curated)\n",
    "\n",
    "e = list(np.argsort(c))\n",
    "e_curated = list(np.argsort(c_curated))\n",
    "print(e)\n",
    "print(e_curated)\n",
    "\n",
    "f = list(np.argsort(b))\n",
    "f_curated = list(np.argsort(b_curated))\n",
    "print(f)\n",
    "print(f_curated)\n",
    "\n",
    "\n",
    "dataDict = defaultdict(list)\n",
    "extractedChannels = []\n",
    "for i in range(len(f_curated)):\n",
    "    corrected_a_curated = a_curated[f_curated[i]]\n",
    "    dataDict['Sweeps_Analysis'].append(np.array(test_file['Sweeps_Analysis'][corrected_a_curated]))\n",
    "print(list(dataDict['Sweeps_Analysis']))\n",
    "extractedChannels.append(dataDict['Sweeps_Analysis'])\n",
    "print(extractedChannels)\n"
   ]
  },
  {
   "cell_type": "code",
   "execution_count": 35,
   "metadata": {},
   "outputs": [
    {
     "output_type": "stream",
     "name": "stdout",
     "text": [
      "['4053', '4054', '4055', '4056', '4057', '4058', '4059', '4060', '4061', '4062', '4063', '4064', '4065', '4066', '4067', '4068', '4069', '4070', '4071', '4072', '4073', '4074', '4075', '4076', '4077', '4078', '4079', '4080', '4081', '4082', '4083']\n['10', '11', '12', '13', '14', '15', '16', '17', '18', '19', '20', '21', '22', '23', '24', '7', '8', '9']\n[4053, 4054, 4055, 4056, 4057, 4058, 4059, 4060, 4061, 4062, 4063, 4064, 4065, 4066, 4067, 4068, 4069, 4070, 4071, 4072, 4073, 4074, 4075, 4076, 4077, 4078, 4079, 4080, 4081, 4082, 4083]\n[10, 11, 12, 13, 14, 15, 16, 17, 18, 19, 20, 21, 22, 23, 24, 7, 8, 9]\n[0, 1, 2, 3, 4, 5, 6, 7, 8, 9, 10, 11, 12, 13, 14, 15, 16, 17, 18, 19, 20, 21, 22, 23, 24, 25, 26, 27, 28, 29, 30]\n[15, 16, 17, 0, 1, 2, 3, 4, 5, 6, 7, 8, 9, 10, 11, 12, 13, 14]\n"
     ]
    }
   ],
   "source": [
    "test_file = h5py.File(in_path, 'r')\n",
    "\n",
    "# Get keys from hdf5\n",
    "trialKeysInHDF5 = list(test_file['Output B'].keys())\n",
    "trialKeysInHDF5_curated = list(test_file['Sweeps_Analysis'].keys())\n",
    "print(trialKeysInHDF5)\n",
    "print(trialKeysInHDF5_curated)\n",
    "\n",
    "# Convert to integers so you can sort numerically\n",
    "trialKeysInHDF5_int = [int(x) for x in trialKeysInHDF5]\n",
    "trialKeysInHDF5_curated_int = [int(x) for x in trialKeysInHDF5_curated]\n",
    "print(trialKeysInHDF5_int)\n",
    "print(trialKeysInHDF5_curated_int)\n",
    "\n",
    "# Fix those cases when trial names start at a random number (e.g. sometimes \"Output\" start at \"14197\", whereas \"Channel\" always start at \"1\")\n",
    "# trialKeysInHDF5_int_from1 = [(x-min(trialKeysInHDF5_int)+1) for x in trialKeysInHDF5_int] # aka numerical order\n",
    "# print(trialKeysInHDF5_int_from1)\n",
    "\n",
    "# trialKeysInHDF5_sorting_indices = list(np.argsort(trialKeysInHDF5_int_from1)) # aka sortIndices\n",
    "# print(trialKeysInHDF5_sorting_indices)\n",
    "\n",
    "trialKeysInHDF5_sorting_indices_2 = list(np.argsort(trialKeysInHDF5_int)) # aka sortIndices\n",
    "trialKeysInHDF5_curated_sorting_indices_2 = list(np.argsort(trialKeysInHDF5_curated_int)) # aka sortIndices\n",
    "print(trialKeysInHDF5_sorting_indices_2)\n",
    "print(trialKeysInHDF5_curated_sorting_indices_2)\n",
    "\n",
    "#trialKeysInHDF5_sorting_indices == trialKeysInHDF5_sorting_indices_2\n",
    "\n",
    "\n",
    "# corrected_test_file = defaultdict(list)\n",
    "# for i in range(len(trialKeysInHDF5_sorting_indices)):\n",
    "#      correctedTrialKey = trialKeysInHDF5[trialKeysInHDF5_sorting_indices[i]]\n",
    "#      corrected_test_file['Channel B'].append(np.array(test_file['Channel B'][correctedTrialKey]))"
   ]
  },
  {
   "cell_type": "code",
   "execution_count": 49,
   "metadata": {},
   "outputs": [
    {
     "output_type": "stream",
     "name": "stdout",
     "text": [
      "['4053', '4054', '4055', '4056', '4057', '4058', '4059', '4060', '4061', '4062', '4063', '4064', '4065', '4066', '4067', '4068', '4069', '4070', '4071', '4072', '4073', '4074', '4075', '4076', '4077', '4078', '4079', '4080', '4081', '4082', '4083']\n['10', '11', '12', '13', '14', '15', '16', '17', '18', '19', '20', '21', '22', '23', '24', '7', '8', '9']\n[4053, 4054, 4055, 4056, 4057, 4058, 4059, 4060, 4061, 4062, 4063, 4064, 4065, 4066, 4067, 4068, 4069, 4070, 4071, 4072, 4073, 4074, 4075, 4076, 4077, 4078, 4079, 4080, 4081, 4082, 4083]\n[10, 11, 12, 13, 14, 15, 16, 17, 18, 19, 20, 21, 22, 23, 24, 7, 8, 9]\n[1, 2, 3, 4, 5, 6, 7, 8, 9, 10, 11, 12, 13, 14, 15, 16, 17, 18, 19, 20, 21, 22, 23, 24, 25, 26, 27, 28, 29, 30, 31]\n[0, 1, 2, 3, 4, 5, 6, 7, 8, 9, 10, 11, 12, 13, 14, 15, 16, 17, 18, 19, 20, 21, 22, 23, 24, 25, 26, 27, 28, 29, 30]\n[15, 16, 17, 0, 1, 2, 3, 4, 5, 6, 7, 8, 9, 10, 11, 12, 13, 14]\n[7, 8, 9, 10, 11, 12, 13, 14, 15, 16, 17, 18, 19, 20, 21, 22, 23, 24]\n[1, 2, 3, 4, 5, 6, 7, 8, 9, 10, 11, 12, 13, 14, 15, 16, 17, 18, 19, 20, 21, 22, 23, 24, 25, 26, 27, 28, 29, 30, 31]\n6\n[6, 7, 8, 9, 10, 11, 12, 13, 14, 15, 16, 17, 18, 19, 20, 21, 22, 23]\n"
     ]
    },
    {
     "output_type": "execute_result",
     "data": {
      "text/plain": [
       "<HDF5 dataset \"4059\": shape (1875,), type \"<f8\">"
      ]
     },
     "metadata": {},
     "execution_count": 49
    }
   ],
   "source": [
    "# For the curated version of an Output:\n",
    "test_file = h5py.File(in_path, 'r')\n",
    "\n",
    "# Get keys from hdf5\n",
    "trialKeysInHDF5 = list(test_file['Output B'].keys())\n",
    "trialKeysInHDF5_curated = list(test_file['Sweeps_Analysis'].keys())\n",
    "print(trialKeysInHDF5)\n",
    "print(trialKeysInHDF5_curated)\n",
    "\n",
    "# Convert to integers so you can sort numerically\n",
    "trialKeysInHDF5_int = [int(x) for x in trialKeysInHDF5]\n",
    "trialKeysInHDF5_curated_int = [int(x) for x in trialKeysInHDF5_curated]\n",
    "print(trialKeysInHDF5_int)\n",
    "print(trialKeysInHDF5_curated_int)\n",
    "\n",
    "# Fix those cases when trial names start at a random number (e.g. sometimes \"Output\" start at \"14197\", whereas \"Channel\" always start at \"1\")\n",
    "trialKeysInHDF5_int_from1 = [(x-min(trialKeysInHDF5_int)+1) for x in trialKeysInHDF5_int] # aka numerical order\n",
    "print(trialKeysInHDF5_int_from1)\n",
    "\n",
    "# trialKeysInHDF5_sorting_indices = list(np.argsort(trialKeysInHDF5_int_from1)) # aka sortIndices\n",
    "# print(trialKeysInHDF5_sorting_indices)\n",
    "\n",
    "trialKeysInHDF5_sorting_indices_2 = list(np.argsort(trialKeysInHDF5_int)) # aka sortIndices\n",
    "trialKeysInHDF5_curated_sorting_indices_2 = list(np.argsort(trialKeysInHDF5_curated_int)) # aka sortIndices\n",
    "print(trialKeysInHDF5_sorting_indices_2)\n",
    "print(trialKeysInHDF5_curated_sorting_indices_2)\n",
    "\n",
    "\n",
    "a = sorted(trialKeysInHDF5_curated_int)\n",
    "b = trialKeysInHDF5_int_from1\n",
    "print(a)\n",
    "print(b)\n",
    "print(b.index(a[0]))\n",
    "c = [b.index(a[i]) for i in range(len(a))]\n",
    "print(c)\n",
    "test_file['Output B'][trialKeysInHDF5[c[0]]]"
   ]
  },
  {
   "cell_type": "code",
   "execution_count": null,
   "metadata": {},
   "outputs": [],
   "source": [
    "def openHDF5file(in_path,\n",
    "                 channel_list = ['Channel A', 'Channel B', 'Output A', 'Output B'],\n",
    "                 curated_channel = None):\n",
    "    \"\"\"\n",
    "    Opens the selected `.hdf5` file and extracts data from chosen channels.\n",
    "    \n",
    "    :channel_list: list of channels to extract. If empty, defaults to 'Channel A', 'Channel B', 'Output A', 'Output B'.\n",
    "    :curated_channel: e.g. copy of a 'Channel' where some sweeps/trials have been deleted due to noise or quality.\n",
    "    \"\"\"\n",
    "\n",
    "    # Read hdf5 file:\n",
    "    hdf5_file = h5py.File(in_path, 'r')\n",
    "    \n",
    "    # Define empty dictionary to populate with correctly sorted data:\n",
    "    data_dict = defaultdict(list)\n",
    "    \n",
    "    # Iterate through channels to find trial indices and sort them numerically:\n",
    "    for channel in hdf5_file.keys():\n",
    "        \n",
    "        # Fix hdf5 indexing. Otherwise it sorts sweeps alphabetically (as 1, 10, 11, [...], 2, 21, 22...)\n",
    "        if 'Channel' in channel:\n",
    "            # Get keys from hdf5 (i.e. the name of each sweep/trial)\n",
    "            # These have been sorted alphabetically as in strings: \n",
    "            trialKeysInHDF5 = list(hdf5_file[channel].keys())\n",
    "\n",
    "            # Convert to integers so you can sort numerically:\n",
    "            trialKeysInHDF5_int = [int(x) for x in trialKeysInHDF5]\n",
    "            \n",
    "            # Get the indices that will sort the array:\n",
    "            trialKeysInHDF5_sorting_indices = list(np.argsort(trialKeysInHDF5_int))\n",
    "\n",
    "            if curated_channel is not None:\n",
    "                trialKeysInHDF5_curated = list(hdf5_file[curated_channel].keys())\n",
    "                trialKeysInHDF5_curated_int = [int(x) for x in trialKeysInHDF5_curated]\n",
    "                trialKeysInHDF5_curated_sorting_indices = list(np.argsort(trialKeysInHDF5_curated_int))\n",
    "\n",
    "\n",
    "        elif 'Output' in channel:\n",
    "            trialKeysInHDF5 = list(hdf5_file[channel].keys())\n",
    "            trialKeysInHDF5_int = [int(x) for x in trialKeysInHDF5]\n",
    "            trialKeysInHDF5_int_from1 = [(x-min(trialKeysInHDF5_int)+1) for x in trialKeysInHDF5_int]\n",
    "            trialKeysInHDF5_sorting_indices = list(np.argsort(trialKeysInHDF5_int))\n",
    "\n",
    "            if curated_channel is not None:\n",
    "                trialKeysInHDF5_curated = list(hdf5_file[curated_channel].keys())\n",
    "                trialKeysInHDF5_curated_int = [int(x) for x in trialKeysInHDF5_curated]\n",
    "                trialKeysInHDF5_curated_sorting_indices = list(np.argsort(trialKeysInHDF5_curated_int))\n",
    "        \n",
    "        elif 'Sweeps_Analysis' in channel:\n",
    "            trialKeysInHDF5 = list(hdf5_file[channel].keys())\n",
    "            trialKeysInHDF5_int = [int(x) for x in trialKeysInHDF5]\n",
    "            trialKeysInHDF5_sorting_indices = list(np.argsort(trialKeysInHDF5_int))\n",
    "\n",
    "        else:\n",
    "            trialKeysInHDF5 = list(hdf5_file[channel].keys())\n",
    "            sortI = range(len(trialKeysInHDF5))\n",
    "\n",
    "        for i in range(len(sortI)):\n",
    "            correctedTrialKey = trialKeysInHDF5[sortI[i]] \n",
    "            dataDict[channel].append(np.array(hdf5_file[channel][correctedTrialKey]))\n",
    "    \n",
    "    extracted_channels = []\n",
    "    for channel in channel_list:\n",
    "    \n",
    "    if len(dataDict['Time']) >0:\n",
    "    else:\n",
    "    \n",
    "    return\n",
    "\n",
    "        \n",
    "        \n",
    "        \n",
    "        \n",
    "\n",
    "------------------------------\n",
    "\n",
    "\n",
    "        # Fix hdf5 indexing. Otherwise it sorts sweeps alphabetically (as 1, 10, 11, [...], 2, 21, 22...)\n",
    "        if 'Channel' in channel or 'Output' in channel:\n",
    "            # Get keys from hdf5 (i.e. the name of each sweep/trial)\n",
    "            # These have been sorted alphabetically as in strings: \n",
    "            trialKeysInHDF5 = list(hdf5_file[channel].keys())\n",
    "\n",
    "            # Convert to integers so you can sort numerically:\n",
    "            trialKeysInHDF5_int = [int(x) for x in trialKeysInHDF5]\n",
    "            \n",
    "            # Fix those cases when trial names start at a random number\n",
    "            # (e.g. whereas \"Channel\" always start at \"1\", sometimes \"Output\" start at \"14197\")\n",
    "            trialKeysInHDF5_int_from1 = [(x-min(trialKeysInHDF5_int)+1) for x in trialKeysInHDF5_int]\n",
    "            \n",
    "            # Get the indices that will sort the array:\n",
    "            trialKeysInHDF5_sorting_indices = list(np.argsort(trialKeysInHDF5_int_from1))\n",
    "\n",
    "            \n",
    "            # Check if a curated_channel is provided. If it is, reduce all channels to the curated trials.\n",
    "            # This ensures that both Channels and Outputs have the same number of trials after manually curating a recording.\n",
    "            if curated_channel is not None:\n",
    "                # Get keys from curated_channel: \n",
    "                curated_trialKeysInHDF5 = list(hdf5_file[curated_channel].keys())\n",
    "\n",
    "                # Convert to integers so you can sort numerically:\n",
    "                curated_trialKeysInHDF5_int = [int(x) for x in curated_trialKeysInHDF5]\n",
    "                \n",
    "                # Get the indices that will sort the array:\n",
    "                trialKeysInHDF5_sorting_indices = list(np.argsort(trialKeysInHDF5_int_from1))\n",
    "\n",
    "\n",
    "        else:\n",
    "            \n",
    "\n",
    "    extracted_channels = []\n",
    "    \n",
    "    # Keep only useful channels\n",
    "    for channel in channel_list: \n",
    "        extracted_channels.append(dataDict[channel])\n",
    "\n",
    "    # Get time and delta_t\n",
    "    if len(dataDict['Time']) >0:\n",
    "        time = dataDict['Time'][0]\n",
    "        dt = np.mean(np.diff(time))\n",
    "    else:\n",
    "        dt = 0.04\n",
    "        time = np.linspace(0, len(dataDict['Channel A'][0])*dt, len(['Channel A'][0]))\n",
    "    \n",
    "    return extracted_channels, time, dt"
   ]
  },
  {
   "source": [
    "### 3.2 | Open .tdms file and extract channels"
   ],
   "cell_type": "markdown",
   "metadata": {}
  },
  {
   "cell_type": "code",
   "execution_count": null,
   "metadata": {},
   "outputs": [],
   "source": [
    "# Choose a .tdms file to test the code\n",
    "root = tkinter.Tk()\n",
    "root.attributes(\"-topmost\", True) # Make window appear on top\n",
    "in_path = askopenfilename()\n",
    "print(in_path)\n",
    "root.destroy() # Close the root window\n",
    "\n",
    "# Split the pathname path into a pair, (head, tail) where tail is the last pathname component and head is everything leading up to that.\n",
    "folder_name = os.path.split(in_path)[0]\n",
    "file_name = os.path.split(in_path)[1]\n",
    "print(folder_name)\n",
    "print(file_name)"
   ]
  },
  {
   "cell_type": "code",
   "execution_count": null,
   "metadata": {},
   "outputs": [],
   "source": [
    "def openTDMSfile(in_path, channel_list = ['Channel A', 'Channel B', 'Output A', 'Output B']):\n",
    "    \"\"\"\n",
    "    `openTDMSfile` returns a list of arrays, where each is a sweep/trial.\n",
    "    \"\"\"\n",
    "    \n",
    "    # Load .tdms file\n",
    "    tdms_file = TdmsFile(in_path) \n",
    "    dataDict = defaultdict(list)\n",
    "    \n",
    "    # Iterate through channels and extract data from sweeps/trials\n",
    "    for group in tdms_file.groups():\n",
    "        i=0\n",
    "        for sweep in group.channels():\n",
    "            dataDict[group.name].append(sweep.data)\n",
    "            i+=1\n",
    "                       \n",
    "    # Keep only useful channels\n",
    "    extracted_channels = []\n",
    "\n",
    "    for channel in channel_list: \n",
    "        extracted_channels.append(dataDict[channel])\n",
    "    \n",
    "    # Get time and delta_t\n",
    "    time = dataDict['Time'][0]\n",
    "    dt = np.mean(np.diff(time))\n",
    "    \n",
    "    return extracted_channels, time, dt"
   ]
  },
  {
   "source": [
    "## 4 | Find Test Pulse and obtain seal resistance"
   ],
   "cell_type": "markdown",
   "metadata": {}
  },
  {
   "cell_type": "code",
   "execution_count": null,
   "metadata": {},
   "outputs": [],
   "source": [
    "def parse_TTL_edges(TTL, edgeType):\n",
    "    trial =0\n",
    "    edges = []\n",
    "    \n",
    "    while len(edges)<1 and trial < len(TTL):\n",
    "    \n",
    "        if 'rising' in edgeType:\n",
    "            edges = np.where(np.diff(TTL[trial])>0) \n",
    "        elif 'falling' in edgeType:\n",
    "            edges = np.where(np.diff(TTL[trial])<0) \n",
    "        elif 'both' in edgeType:\n",
    "            edges = np.where(np.diff(TTL[trial])!=0)    \n",
    "            \n",
    "        edges = edges + np.full(len(edges),1) #+1 to correct the shift due to differentiation\n",
    "        edges = edges[0] #just to unwrap the array\n",
    "        \n",
    "        trial = trial+1\n",
    "    \n",
    "    \n",
    "    return edges"
   ]
  }
 ]
}