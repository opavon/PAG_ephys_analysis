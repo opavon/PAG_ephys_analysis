{
 "metadata": {
  "language_info": {
   "codemirror_mode": {
    "name": "ipython",
    "version": 3
   },
   "file_extension": ".py",
   "mimetype": "text/x-python",
   "name": "python",
   "nbconvert_exporter": "python",
   "pygments_lexer": "ipython3",
   "version": "3.8.0"
  },
  "orig_nbformat": 2,
  "kernelspec": {
   "name": "python380jvsc74a57bd03f42c24bac474001db25a65874baca9673a25c1149ca6577ebc3304546e4b10d",
   "display_name": "Python 3.8.0 64-bit ('ephys': conda)"
  },
  "metadata": {
   "interpreter": {
    "hash": "2f664273e531ff7d05ac97865ce1d4a67fb518bd75932c2c41a023ddf3c68bce"
   }
  }
 },
 "nbformat": 4,
 "nbformat_minor": 2,
 "cells": [
  {
   "source": [
    "## 1 | Import packages"
   ],
   "cell_type": "markdown",
   "metadata": {}
  },
  {
   "cell_type": "code",
   "execution_count": 7,
   "metadata": {},
   "outputs": [
    {
     "output_type": "stream",
     "name": "stdout",
     "text": [
      "done!\n"
     ]
    }
   ],
   "source": [
    "import os\n",
    "import h5py\n",
    "import numpy as np\n",
    "import pandas as pd\n",
    "import tkinter\n",
    "from tkinter.filedialog import askopenfilename, askopenfilenames\n",
    "from collections import defaultdict\n",
    "from nptdms import TdmsFile\n",
    "print(\"done!\")"
   ]
  },
  {
   "source": [
    "## 2 | Use tkinter to choose a file and get the path to it"
   ],
   "cell_type": "markdown",
   "metadata": {}
  },
  {
   "cell_type": "code",
   "execution_count": 2,
   "metadata": {},
   "outputs": [
    {
     "output_type": "stream",
     "name": "stdout",
     "text": [
      "D:/Dropbox (UCL - SWC)/Project_paginhibition/analysis/loose_seal/analysis_sample_cells/dlpag_vgat_201201_c5_LDIBX_OP_VC_clear_nointerval_1.hdf5\nD:/Dropbox (UCL - SWC)/Project_paginhibition/analysis/loose_seal/analysis_sample_cells\ndlpag_vgat_201201_c5_LDIBX_OP_VC_clear_nointerval_1.hdf5\n"
     ]
    }
   ],
   "source": [
    "# Choose a file to test the code:\n",
    "root = tkinter.Tk()\n",
    "root.attributes('-topmost', True) # Make window appear on top\n",
    "in_path = askopenfilename() # Open dialogue to select file\n",
    "print(in_path)\n",
    "root.destroy() # Close the root window\n",
    "\n",
    "# Split the pathname path into a pair, (head, tail) where tail is the last pathname component and head is everything leading up to that.\n",
    "folder_name = os.path.split(in_path)[0] # Get path until folder\n",
    "file_name = os.path.split(in_path)[1] # Get filename\n",
    "print(folder_name)\n",
    "print(file_name)"
   ]
  },
  {
   "cell_type": "code",
   "execution_count": null,
   "metadata": {},
   "outputs": [],
   "source": [
    "def importFile():\n",
    "    \"\"\"\n",
    "    `importFile` opens a window to select a file to import.\n",
    "    Returns path and calls `openFile` to extract data.\"\n",
    "    \"\"\"\n",
    "\n",
    "    root = tkinter.Tk()\n",
    "    root.attributes('-topmost', True) # Make window appear on top\n",
    "    in_path = askopenfilename() # Open dialogue to select file\n",
    "    root.destroy() # Close the root window\n",
    "\n",
    "    folder_name = os.path.split(in_path)[0] # Get path until folder\n",
    "    file_name = os.path.split(in_path)[1] # Get filename\n",
    "    \n",
    "    voltage_mV, current_pA, command, ttl, time, dt = openFile(in_path) # Call openFile() function\n",
    "    \n",
    "    return voltage_mV, current_pA, command, ttl, time, dt, folder_name, file_name"
   ]
  },
  {
   "source": [
    "## 3 | Open a file"
   ],
   "cell_type": "markdown",
   "metadata": {}
  },
  {
   "cell_type": "code",
   "execution_count": null,
   "metadata": {},
   "outputs": [],
   "source": [
    "def openFile(in_path, curated_channel = None):\n",
    "    \"\"\"\n",
    "    `openFile` checks whether you are attempting to open a `.tdms` or a `.hdf5` file.\n",
    "    Extracts the data from selected channels.\n",
    "    \"\"\"\n",
    "\n",
    "    if '.tdms' in in_path:\n",
    "        extracted_channels, time, dt = openTDMSfile(in_path)\n",
    "    elif '.hdf5' in in_path:\n",
    "        extracted_channels, time, dt = openHDF5file(in_path, curated_channel = curated_channel)\n",
    "    \n",
    "    voltage_mV = extracted_channels[0]\n",
    "    current_pA = extracted_channels[1]\n",
    "    command = extracted_channels[2]\n",
    "    ttl = extracted_channels[3]\n",
    "    \n",
    "    return voltage_mV, current_pA, command, ttl, time, dt"
   ]
  },
  {
   "source": [
    "### 3.1 | Open an .hdf5 file and extract channels"
   ],
   "cell_type": "markdown",
   "metadata": {}
  },
  {
   "cell_type": "code",
   "execution_count": 12,
   "metadata": {},
   "outputs": [
    {
     "output_type": "stream",
     "name": "stdout",
     "text": [
      "D:/Dropbox (UCL)/Project_paginhibition/analysis/loose_seal/analysis_sample_cells/dlpag_vgat_201201_c5_LDIBX_OP_VC_clear_nointerval_1.hdf5\nD:/Dropbox (UCL)/Project_paginhibition/analysis/loose_seal/analysis_sample_cells\ndlpag_vgat_201201_c5_LDIBX_OP_VC_clear_nointerval_1.hdf5\n"
     ]
    }
   ],
   "source": [
    "# Choose a .hdf5 file to test the code\n",
    "root = tkinter.Tk()\n",
    "root.attributes('-topmost', True) # Make window appear on top\n",
    "in_path = askopenfilename() # Open dialogue to select file\n",
    "print(in_path)\n",
    "root.destroy() # Close the root window\n",
    "\n",
    "# Split the pathname path into a pair, (head, tail) where tail is the last pathname component and head is everything leading up to that.\n",
    "folder_name = os.path.split(in_path)[0] # Get path until folder\n",
    "file_name = os.path.split(in_path)[1] # Get filename\n",
    "print(folder_name)\n",
    "print(file_name)"
   ]
  },
  {
   "cell_type": "code",
   "execution_count": null,
   "metadata": {},
   "outputs": [],
   "source": [
    "def openHDF5file(in_path,\n",
    "                 channel_list = ['Channel A', 'Channel B', 'Output A', 'Output B'],\n",
    "                 curated_channel = None):\n",
    "    \"\"\"\n",
    "    Opens the selected `.hdf5` file and extracts sorted data from chosen channels.\n",
    "    \n",
    "    :channel_list: list of channels to extract. If empty, defaults to 'Channel A', 'Channel B', 'Output A', 'Output B'.\n",
    "    :curated_channel: e.g. copy of a 'Channel' where some sweeps/trials have been deleted due to noise or quality.\n",
    "    \"\"\"\n",
    "\n",
    "    # Read hdf5 file:\n",
    "    hdf5_file = h5py.File(in_path, 'r')\n",
    "    \n",
    "    # Define empty dictionary to populate with correctly sorted data:\n",
    "    data_dict = defaultdict(list)\n",
    "    # Define empty dictionary to populate with corrected trialKeys:\n",
    "    key_dict = defaultdict(list)\n",
    "    \n",
    "    # Iterate through channels to find trial indices and sort them numerically:\n",
    "    for channel in hdf5_file.keys():\n",
    "        \n",
    "        # Fix hdf5 indexing. Otherwise it sorts sweeps alphabetically (as 1, 10, 11, [...], 2, 21, 22...)\n",
    "        if 'Channel' in channel:\n",
    "            # Get keys from hdf5 (i.e. the name of each sweep/trial)\n",
    "            # These have been sorted alphabetically as in strings: \n",
    "            trialKeysInHDF5 = list(hdf5_file[channel].keys())\n",
    "            \n",
    "            # Convert to integers so you can sort numerically:\n",
    "            trialKeysInHDF5_int = [int(x) for x in trialKeysInHDF5]\n",
    "            \n",
    "            # Get the indices that will sort the array:\n",
    "            trialKeysInHDF5_sorting_indices = list(np.argsort(trialKeysInHDF5_int))\n",
    "            \n",
    "            if curated_channel is not None:\n",
    "                # Use trial keys from curated_channel to ensure same number of trials are present in all channels.\n",
    "                trialKeysInHDF5 = list(hdf5_file[curated_channel].keys())\n",
    "                trialKeysInHDF5_int = [int(x) for x in trialKeysInHDF5]\n",
    "                trialKeysInHDF5_sorting_indices = list(np.argsort(trialKeysInHDF5_int))\n",
    "        \n",
    "        # In the case of 'Output' channels, we need to add an extra step.\n",
    "        # Whereas trialKeys for \"Channel\" always start at \"1\", \"Output\" starts at random values like \"14197\".\n",
    "        elif 'Output' in channel:\n",
    "            trialKeysInHDF5 = list(hdf5_file[channel].keys())\n",
    "            trialKeysInHDF5_int = [int(x) for x in trialKeysInHDF5]\n",
    "            trialKeysInHDF5_sorting_indices = list(np.argsort(trialKeysInHDF5_int))\n",
    "            # Transform them so they start from 1 and can be compared to the curated_channel keys:\n",
    "            trialKeysInHDF5_int_from1 = [(x-min(trialKeysInHDF5_int)+1) for x in trialKeysInHDF5_int]\n",
    "     \n",
    "            if curated_channel is not None:\n",
    "                # Compare the trial keys starting from 1 to those from the curated channel.\n",
    "                # Then use the indices of matching keys to extract only the curated trials to analyse.\n",
    "                trialKeysInHDF5_curated = list(hdf5_file[curated_channel].keys())\n",
    "                trialKeysInHDF5_curated_int = [int(x) for x in trialKeysInHDF5_curated]\n",
    "                trialKeysInHDF5_curated_sorting_indices = list(np.argsort(trialKeysInHDF5_curated_int))\n",
    "                # Sort the curated integer keys so you can use them in the list.index() step.\n",
    "                trialKeysInHDF5_curated_int_sorted = sorted(trialKeysInHDF5_curated_int)\n",
    "                # For the sorted curated trial keys, find the index of the value matching each curated_channel trial.\n",
    "                # Use this as the sorting indices.\n",
    "                trialKeysInHDF5_sorting_indices = [trialKeysInHDF5_int_from1.index(trialKeysInHDF5_curated_int_sorted[i]) for i in range(len(trialKeysInHDF5_curated_int_sorted))]\n",
    "\n",
    "        # 'Sweeps_Analysis' will be a copy of either 'Channel A' or 'Channel B' that has been curated.\n",
    "        # Should be the same provided as curated_channel, which will be used to subset all the channels.\n",
    "        # Won't be extracted as would only be a duplication.\n",
    "        elif 'Sweeps_Analysis' in channel:\n",
    "            trialKeysInHDF5 = list(hdf5_file[channel].keys())\n",
    "            trialKeysInHDF5_int = [int(x) for x in trialKeysInHDF5]\n",
    "            trialKeysInHDF5_sorting_indices = list(np.argsort(trialKeysInHDF5_int))\n",
    "\n",
    "        # To extract 'Time':\n",
    "        elif 'Time' in channel:\n",
    "            trialKeysInHDF5 = list(hdf5_file[channel].keys())\n",
    "            trialKeysInHDF5_sorting_indices = range(len(trialKeysInHDF5))\n",
    "        \n",
    "        # In case there is any other channel in the hdf5 file you haven't accounted for:\n",
    "        else:\n",
    "            # Print a warning:\n",
    "            print(f\"Unrecognised {channel}: check function. This channel may not be properly sorted.\")\n",
    "            trialKeysInHDF5 = list(hdf5_file[curated_channel].keys())\n",
    "            trialKeysInHDF5_int = [int(x) for x in trialKeysInHDF5]\n",
    "            trialKeysInHDF5_sorting_indices = list(np.argsort(trialKeysInHDF5_int))\n",
    "\n",
    "        # Once you have the correct indices to obtain sorted trial keys, extract the ordered data:\n",
    "        for i in range(len(trialKeysInHDF5_sorting_indices)):\n",
    "            correctedTrialKey = trialKeysInHDF5[trialKeysInHDF5_sorting_indices[i]] \n",
    "            data_dict[channel].append(np.array(hdf5_file[channel][correctedTrialKey]))\n",
    "            key_dict[channel].append(correctedTrialKey)\n",
    "    \n",
    "    extracted_channels = []\n",
    "    corrected_trial_keys = []\n",
    "\n",
    "    # Keep only the useful channels and their trial keys:\n",
    "    for channel in channel_list:\n",
    "        extracted_channels.append(data_dict[channel])\n",
    "        corrected_trial_keys.append(key_dict[channel])\n",
    "    \n",
    "    # Get time and delta_t\n",
    "    if len(data_dict['Time']) >0:\n",
    "        time = data_dict['Time']\n",
    "        dt = np.mean(np.diff(time))\n",
    "    else:\n",
    "        dt = 0.04\n",
    "        time = np.linspace(0, len(data_dict['Channel A'][0])*dt, len(['Channel A'][0]))\n",
    "    \n",
    "    # Create data frame of data:\n",
    "    channels_data_frame = pd.DataFrame(extracted_channels, index = channel_list, columns = corrected_trial_keys[0])\n",
    "\n",
    "    return extracted_channels, corrected_trial_keys, channel_list, channels_data_frame, time, dt"
   ]
  },
  {
   "source": [
    "### 3.2 | Open .tdms file and extract channels"
   ],
   "cell_type": "markdown",
   "metadata": {}
  },
  {
   "cell_type": "code",
   "execution_count": null,
   "metadata": {},
   "outputs": [],
   "source": [
    "# Choose a .tdms file to test the code\n",
    "root = tkinter.Tk()\n",
    "root.attributes('-topmost', True) # Make window appear on top\n",
    "in_path = askopenfilename() # Open dialogue to select file\n",
    "print(in_path)\n",
    "root.destroy() # Close the root window\n",
    "\n",
    "# Split the pathname path into a pair, (head, tail) where tail is the last pathname component and head is everything leading up to that.\n",
    "folder_name = os.path.split(in_path)[0] # Get path until folder\n",
    "file_name = os.path.split(in_path)[1] # Get filename\n",
    "print(folder_name)\n",
    "print(file_name)"
   ]
  },
  {
   "cell_type": "code",
   "execution_count": null,
   "metadata": {},
   "outputs": [],
   "source": [
    "def openTDMSfile(in_path, channel_list = ['Channel A', 'Channel B', 'Output A', 'Output B']):\n",
    "    \"\"\"\n",
    "    `openTDMSfile` returns a list of arrays, where each is a sweep/trial.\n",
    "    \"\"\"\n",
    "    \n",
    "    # Load .tdms file\n",
    "    tdms_file = TdmsFile(in_path) \n",
    "    data_dict = defaultdict(list)\n",
    "    \n",
    "    # Iterate through channels and extract data from sweeps/trials\n",
    "    for group in tdms_file.groups():\n",
    "        i=0\n",
    "        for sweep in group.channels():\n",
    "            data_dict[group.name].append(sweep.data)\n",
    "            i+=1\n",
    "                       \n",
    "    # Keep only useful channels\n",
    "    extracted_channels = []\n",
    "\n",
    "    for channel in channel_list: \n",
    "        extracted_channels.append(data_dict[channel])\n",
    "    \n",
    "    # Get time and delta_t\n",
    "    time = data_dict['Time'][0]\n",
    "    dt = np.mean(np.diff(time))\n",
    "    \n",
    "    return extracted_channels, time, dt"
   ]
  },
  {
   "source": [
    "## 4 | Find Test Pulse and obtain seal resistance"
   ],
   "cell_type": "markdown",
   "metadata": {}
  },
  {
   "cell_type": "code",
   "execution_count": null,
   "metadata": {},
   "outputs": [],
   "source": [
    "def parse_TTL_edges(TTL, edgeType):\n",
    "    trial =0\n",
    "    edges = []\n",
    "    \n",
    "    while len(edges)<1 and trial < len(TTL):\n",
    "    \n",
    "        if 'rising' in edgeType:\n",
    "            edges = np.where(np.diff(TTL[trial])>0) \n",
    "        elif 'falling' in edgeType:\n",
    "            edges = np.where(np.diff(TTL[trial])<0) \n",
    "        elif 'both' in edgeType:\n",
    "            edges = np.where(np.diff(TTL[trial])!=0)    \n",
    "            \n",
    "        edges = edges + np.full(len(edges),1) #+1 to correct the shift due to differentiation\n",
    "        edges = edges[0] #just to unwrap the array\n",
    "        \n",
    "        trial = trial+1\n",
    "    \n",
    "    \n",
    "    return edges"
   ]
  }
 ]
}