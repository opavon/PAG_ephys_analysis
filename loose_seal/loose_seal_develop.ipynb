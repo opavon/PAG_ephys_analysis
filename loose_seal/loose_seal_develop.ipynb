{
 "metadata": {
  "language_info": {
   "codemirror_mode": {
    "name": "ipython",
    "version": 3
   },
   "file_extension": ".py",
   "mimetype": "text/x-python",
   "name": "python",
   "nbconvert_exporter": "python",
   "pygments_lexer": "ipython3",
   "version": "3.8.0"
  },
  "orig_nbformat": 2,
  "kernelspec": {
   "name": "python380jvsc74a57bd03f42c24bac474001db25a65874baca9673a25c1149ca6577ebc3304546e4b10d",
   "display_name": "Python 3.8.0 64-bit ('ephys': conda)"
  },
  "metadata": {
   "interpreter": {
    "hash": "3f42c24bac474001db25a65874baca9673a25c1149ca6577ebc3304546e4b10d"
   }
  }
 },
 "nbformat": 4,
 "nbformat_minor": 2,
 "cells": [
  {
   "source": [
    "## 1 | Import packages"
   ],
   "cell_type": "markdown",
   "metadata": {}
  },
  {
   "cell_type": "code",
   "execution_count": 1,
   "metadata": {},
   "outputs": [
    {
     "output_type": "stream",
     "name": "stdout",
     "text": [
      "done!\n"
     ]
    }
   ],
   "source": [
    "import os\n",
    "import h5py\n",
    "import numpy as np\n",
    "import tkinter\n",
    "from tkinter.filedialog import askopenfilename, askopenfilenames\n",
    "from collections import defaultdict\n",
    "from nptdms import TdmsFile\n",
    "print(\"done!\")"
   ]
  },
  {
   "source": [
    "## 2 | Use tkinter to choose a file and get the path to it"
   ],
   "cell_type": "markdown",
   "metadata": {}
  },
  {
   "cell_type": "code",
   "execution_count": null,
   "metadata": {},
   "outputs": [],
   "source": [
    "# test the code\n",
    "root = tkinter.Tk()\n",
    "root.attributes(\"-topmost\", True) # Make window appear on top\n",
    "in_path = askopenfilename()\n",
    "print(in_path)\n",
    "root.destroy() # Close the root window\n",
    "\n",
    "# Split the pathname path into a pair, (head, tail) where tail is the last pathname component and head is everything leading up to that.\n",
    "folder_name = os.path.split(in_path)[0]\n",
    "file_name = os.path.split(in_path)[1]\n",
    "print(folder_name)\n",
    "print(file_name)"
   ]
  },
  {
   "cell_type": "code",
   "execution_count": null,
   "metadata": {},
   "outputs": [],
   "source": [
    "def importFile():\n",
    "    \"\"\"\n",
    "    `importFile` opens a window to select a file to import.\n",
    "    Returns path and calls `openFile` to extract data.\"\n",
    "    \"\"\"\n",
    "\n",
    "    root = tkinter.Tk()\n",
    "    root.attributes(\"-topmost\", True) # Make window appear on top\n",
    "    in_path = askopenfilename() # Open dialogue to select file\n",
    "    root.destroy() # Close the root window\n",
    "\n",
    "    folder_name = os.path.split(in_path)[0] # Get path until folder\n",
    "    file_name = os.path.split(in_path)[1] # Get filename\n",
    "    \n",
    "    voltage_mV, current_pA, command, ttl, time, dt = openFile(in_path) # Call openFile() function\n",
    "    \n",
    "    return voltage_mV, current_pA, command, ttl, time, dt, folder_name, file_name"
   ]
  },
  {
   "source": [
    "## 3 | Open a file"
   ],
   "cell_type": "markdown",
   "metadata": {}
  },
  {
   "cell_type": "code",
   "execution_count": null,
   "metadata": {},
   "outputs": [],
   "source": [
    "def openFile(in_path, curated_channel = None):\n",
    "    \"\"\"\n",
    "    `openFile` checks whether you are attempting to open a `.tdms` or a `.hdf5` file.\n",
    "    Extracts the data from selected channels.\n",
    "    \"\"\"\n",
    "\n",
    "    if '.tdms' in in_path:\n",
    "        extracted_channels, time, dt = openTDMSfile(in_path)\n",
    "    elif '.hdf5' in in_path:\n",
    "        extracted_channels, time, dt = openHDF5file(in_path, curated_channel = curated_channel)\n",
    "    \n",
    "    voltage_mV = extracted_channels[0]\n",
    "    current_pA = extracted_channels[1]\n",
    "    command = extracted_channels[2]\n",
    "    ttl = extracted_channels[3]\n",
    "    \n",
    "    return voltage_mV, current_pA, command, ttl, time, dt"
   ]
  },
  {
   "source": [
    "### 3.1 | Open an .hdf5 file and extract channels"
   ],
   "cell_type": "markdown",
   "metadata": {}
  },
  {
   "cell_type": "code",
   "execution_count": 5,
   "metadata": {},
   "outputs": [
    {
     "output_type": "stream",
     "name": "stdout",
     "text": [
      "D:/Dropbox (UCL - SWC)/Project_paginhibition/analysis/loose_seal/analysis_sample_cells/dmpag_vgat_171123_c5_LIBD_OP_clear_VC_1.hdf5\nD:/Dropbox (UCL - SWC)/Project_paginhibition/analysis/loose_seal/analysis_sample_cells\ndmpag_vgat_171123_c5_LIBD_OP_clear_VC_1.hdf5\n"
     ]
    }
   ],
   "source": [
    "# Choose a .hdf5 file to test the code\n",
    "root = tkinter.Tk()\n",
    "root.attributes(\"-topmost\", True) # Make window appear on top\n",
    "in_path = askopenfilename()\n",
    "print(in_path)\n",
    "root.destroy() # Close the root window\n",
    "\n",
    "# Split the pathname path into a pair, (head, tail) where tail is the last pathname component and head is everything leading up to that.\n",
    "folder_name = os.path.split(in_path)[0]\n",
    "file_name = os.path.split(in_path)[1]\n",
    "print(folder_name)\n",
    "print(file_name)"
   ]
  },
  {
   "cell_type": "code",
   "execution_count": 12,
   "metadata": {},
   "outputs": [
    {
     "output_type": "stream",
     "name": "stdout",
     "text": [
      "(0, 11, 22, 33, 44, 55, 66, 75, 76, 1, 2, 3, 4, 5, 6, 7, 8, 9, 10, 12, 13, 14, 15, 16, 17, 18, 19, 20, 21, 23, 24, 25, 26, 27, 28, 29, 30, 31, 32, 34, 35, 36, 37, 38, 39, 40, 41, 42, 43, 45, 46, 47, 48, 49, 50, 51, 52, 53, 54, 56, 57, 58, 59, 60, 61, 62, 63, 64, 65, 67, 68, 69, 70, 71, 72, 73, 74)\n(1, 2, 3, 4, 5, 6, 7, 8, 9, 10, 11, 12, 13, 14, 15, 16, 17, 18, 19, 20, 21, 22, 23, 24, 25, 26, 27, 28, 29, 30, 31, 32, 33, 34, 35, 36, 37, 38, 39, 40, 41, 42, 43, 44, 45, 46, 47, 48, 49, 50, 51, 52, 53, 54, 55, 56, 57, 58, 59, 60, 61, 62, 63, 64, 65, 66, 67, 68, 69, 70, 71, 72, 73, 74, 75, 76, 77)\n"
     ]
    }
   ],
   "source": [
    "#print(in_path)\n",
    "test_file = h5py.File(in_path, 'r')\n",
    "#print(list(test_file.keys()))\n",
    "test_file['Output B'].keys()\n",
    "\n",
    "trialKeysInHDF5 = list(test_file['Channel A'].keys())\n",
    "#print(trialKeysInHDF5)\n",
    "dataDict = defaultdict(list)\n",
    "\n",
    "sortI, numericalOrder = zip(*sorted(enumerate([int(x) for x in trialKeysInHDF5]), \n",
    "                                    key = lambda i:i[1]))\n",
    "\n",
    "print(sortI)\n",
    "print(numericalOrder)"
   ]
  },
  {
   "cell_type": "code",
   "execution_count": 18,
   "metadata": {},
   "outputs": [
    {
     "output_type": "stream",
     "name": "stdout",
     "text": [
      "['14197', '14198', '14199', '14200', '14201', '14202', '14203', '14204', '14205', '14206', '14207', '14208', '14209', '14210', '14211', '14212', '14213', '14214', '14215', '14216', '14217', '14218', '14219', '14220', '14221', '14222', '14223', '14224', '14225', '14226', '14227', '14228', '14229', '14230', '14231', '14232', '14233', '14234', '14235', '14236', '14237', '14238', '14239', '14240', '14241', '14242', '14243', '14244', '14245', '14246', '14247', '14248', '14249', '14250', '14251', '14252', '14253', '14254', '14255', '14256', '14257', '14258', '14259', '14260', '14261', '14262', '14263', '14264', '14265', '14266', '14267', '14268', '14269', '14270', '14271', '14272', '14273']\n[14197, 14198, 14199, 14200, 14201, 14202, 14203, 14204, 14205, 14206, 14207, 14208, 14209, 14210, 14211, 14212, 14213, 14214, 14215, 14216, 14217, 14218, 14219, 14220, 14221, 14222, 14223, 14224, 14225, 14226, 14227, 14228, 14229, 14230, 14231, 14232, 14233, 14234, 14235, 14236, 14237, 14238, 14239, 14240, 14241, 14242, 14243, 14244, 14245, 14246, 14247, 14248, 14249, 14250, 14251, 14252, 14253, 14254, 14255, 14256, 14257, 14258, 14259, 14260, 14261, 14262, 14263, 14264, 14265, 14266, 14267, 14268, 14269, 14270, 14271, 14272, 14273]\n[14197, 14198, 14199, 14200, 14201, 14202, 14203, 14204, 14205, 14206, 14207, 14208, 14209, 14210, 14211, 14212, 14213, 14214, 14215, 14216, 14217, 14218, 14219, 14220, 14221, 14222, 14223, 14224, 14225, 14226, 14227, 14228, 14229, 14230, 14231, 14232, 14233, 14234, 14235, 14236, 14237, 14238, 14239, 14240, 14241, 14242, 14243, 14244, 14245, 14246, 14247, 14248, 14249, 14250, 14251, 14252, 14253, 14254, 14255, 14256, 14257, 14258, 14259, 14260, 14261, 14262, 14263, 14264, 14265, 14266, 14267, 14268, 14269, 14270, 14271, 14272, 14273]\n"
     ]
    }
   ],
   "source": [
    "#print(in_path)\n",
    "test_file = h5py.File(in_path, 'r')\n",
    "#print(list(test_file.keys()))\n",
    "test_file['Output B'].keys()\n",
    "\n",
    "trialKeysInHDF5 = list(test_file['Output B'].keys())\n",
    "print(trialKeysInHDF5)\n",
    "dataDict = defaultdict(list)\n",
    "\n",
    "trialKeysInHDF5_int = [int(x) for x in trialKeysInHDF5]\n",
    "print(trialKeysInHDF5_int)\n",
    "trialKeysInHDF5_int.sort()\n",
    "print(trialKeysInHDF5_int)\n",
    "\n"
   ]
  },
  {
   "cell_type": "code",
   "execution_count": 22,
   "metadata": {},
   "outputs": [
    {
     "output_type": "stream",
     "name": "stdout",
     "text": [
      "<KeysViewHDF5 ['14197', '14198', '14199', '14200', '14201', '14202', '14203', '14204', '14205', '14206', '14207', '14208', '14209', '14210', '14211', '14212', '14213', '14214', '14215', '14216', '14217', '14218', '14219', '14220', '14221', '14222', '14223', '14224', '14225', '14226', '14227', '14228', '14229', '14230', '14231', '14232', '14233', '14234', '14235', '14236', '14237', '14238', '14239', '14240', '14241', '14242', '14243', '14244', '14245', '14246', '14247', '14248', '14249', '14250', '14251', '14252', '14253', '14254', '14255', '14256', '14257', '14258', '14259', '14260', '14261', '14262', '14263', '14264', '14265', '14266', '14267', '14268', '14269', '14270', '14271', '14272', '14273']>\n"
     ]
    },
    {
     "output_type": "execute_result",
     "data": {
      "text/plain": [
       "<HDF5 dataset \"14197\": shape (2500,), type \"<f8\">"
      ]
     },
     "metadata": {},
     "execution_count": 22
    }
   ],
   "source": [
    "print(test_file['Output B'].keys())\n",
    "test_file['Output B']['14197']"
   ]
  },
  {
   "cell_type": "code",
   "execution_count": null,
   "metadata": {},
   "outputs": [],
   "source": [
    "def openHDF5file(in_path,\n",
    "                 channel_list = ['Channel A', 'Channel B', 'Output A', 'Output B'],\n",
    "                 curated_channel = None):\n",
    "    \"\"\"\n",
    "    Opens the selected `.hdf5` file and extracts data from chosen channels.\n",
    "    \n",
    "    :channel_list: list of channels to extract. If empty, defaults to 'Channel A', 'Channel B', 'Output A', 'Output B'.\n",
    "    :curated_channel: e.g. copy of 'Channel B' where some sweeps/trials have been deleted due to noise.\n",
    "    \"\"\"\n",
    "\n",
    "    hdf5_file = h5py.File(in_path, 'r')\n",
    "    \n",
    "    dataDict = defaultdict(list)\n",
    "    \n",
    "    for channel in hdf5_file.keys():\n",
    "        \n",
    "        # Fix HDF5 indexing. Otherwise it sorts sweeps alphabetically (as 1, 10, 11, [...], 2, 21, 22...)\n",
    "        if 'Channel' in channel or 'Output' in channel:\n",
    "            trialKeysInHDF5 = list(hdf5_file[channel].keys())\n",
    "            # This has been sorted alphabetically as in strings.\n",
    "            # Can be simulated by sorted([str(x) for x in range(numTrials)]).\n",
    "            \n",
    "            # Resort numerically, and get the sorting indexes.\n",
    "            sortI, numericalOrder = zip(*sorted(enumerate([int(x) for x in trialKeysInHDF5]), \n",
    "                                                key = lambda i:i[1]))\n",
    "                                        \n",
    "            # Do the same for the curated channel.\n",
    "            if curated_channel is not None: \n",
    "                sortI, numericalOrder = zip(*sorted(enumerate([int(x) for x in list(hdf5_file[curated_channel].keys())]),\n",
    "                                                    key=lambda i:i[1]))\n",
    "                                                    \n",
    "                if 'Channel' in channel: trialKeysInHDF5 = list(hdf5_file[curated_channel].keys())\n",
    "                if 'Output' in channel: sortI = [int(x)-1 for x in numericalOrder] #note, may not work as expected if very first trial is deleted ? but doesnt matter as output is usually the same across trials in a given file\n",
    "                #print(channel, trialKeysInHDF5, sortI)\n",
    "        else:\n",
    "            trialKeysInHDF5 = list(hdf5_file[channel].keys())\n",
    "            sortI = range(len(trialKeysInHDF5))\n",
    "            #print('not sorted')\n",
    "            \n",
    "        for i in range(len(sortI)):\n",
    "            correctedTrialKey = trialKeysInHDF5[sortI[i]] \n",
    "            dataDict[channel].append(np.array(hdf5_file[channel][correctedTrialKey]))\n",
    "   \n",
    "    extracted_channels = []\n",
    "    \n",
    "    # Keep only useful channels\n",
    "    for channel in channel_list: \n",
    "        extracted_channels.append(dataDict[channel])\n",
    "\n",
    "    # Get time and delta_t\n",
    "    if len(dataDict['Time']) >0:\n",
    "        time = dataDict['Time'][0]\n",
    "        dt = np.mean(np.diff(time))\n",
    "    else:\n",
    "        dt = 0.04\n",
    "        time = np.linspace(0, len(dataDict['Channel A'][0])*dt, len(['Channel A'][0]))\n",
    "    \n",
    "    return extracted_channels, time, dt"
   ]
  },
  {
   "source": [
    "### 3.2 | Open .tdms file and extract channels"
   ],
   "cell_type": "markdown",
   "metadata": {}
  },
  {
   "cell_type": "code",
   "execution_count": null,
   "metadata": {},
   "outputs": [],
   "source": [
    "# Choose a .tdms file to test the code\n",
    "root = tkinter.Tk()\n",
    "root.attributes(\"-topmost\", True) # Make window appear on top\n",
    "in_path = askopenfilename()\n",
    "print(in_path)\n",
    "root.destroy() # Close the root window\n",
    "\n",
    "# Split the pathname path into a pair, (head, tail) where tail is the last pathname component and head is everything leading up to that.\n",
    "folder_name = os.path.split(in_path)[0]\n",
    "file_name = os.path.split(in_path)[1]\n",
    "print(folder_name)\n",
    "print(file_name)"
   ]
  },
  {
   "cell_type": "code",
   "execution_count": null,
   "metadata": {},
   "outputs": [],
   "source": [
    "def openTDMSfile(in_path, channel_list = ['Channel A', 'Channel B', 'Output A', 'Output B']):\n",
    "    \"\"\"\n",
    "    `openTDMSfile` returns a list of arrays, where each is a sweep/trial.\n",
    "    \"\"\"\n",
    "    \n",
    "    # Load .tdms file\n",
    "    tdms_file = TdmsFile(in_path) \n",
    "    dataDict = defaultdict(list)\n",
    "    \n",
    "    # Iterate through channels and extract data from sweeps/trials\n",
    "    for group in tdms_file.groups():\n",
    "        i=0\n",
    "        for sweep in group.channels():\n",
    "            dataDict[group.name].append(sweep.data)\n",
    "            i+=1\n",
    "                       \n",
    "    # Keep only useful channels\n",
    "    extracted_channels = []\n",
    "\n",
    "    for channel in channel_list: \n",
    "        extracted_channels.append(dataDict[channel])\n",
    "    \n",
    "    # Get time and delta_t\n",
    "    time = dataDict['Time'][0]\n",
    "    dt = np.mean(np.diff(time))\n",
    "    \n",
    "    return extracted_channels, time, dt"
   ]
  },
  {
   "source": [
    "## 4 | Find Test Pulse and obtain seal resistance"
   ],
   "cell_type": "markdown",
   "metadata": {}
  },
  {
   "cell_type": "code",
   "execution_count": null,
   "metadata": {},
   "outputs": [],
   "source": [
    "def parse_TTL_edges(TTL, edgeType):\n",
    "    trial =0\n",
    "    edges = []\n",
    "    \n",
    "    while len(edges)<1 and trial < len(TTL):\n",
    "    \n",
    "        if 'rising' in edgeType:\n",
    "            edges = np.where(np.diff(TTL[trial])>0) \n",
    "        elif 'falling' in edgeType:\n",
    "            edges = np.where(np.diff(TTL[trial])<0) \n",
    "        elif 'both' in edgeType:\n",
    "            edges = np.where(np.diff(TTL[trial])!=0)    \n",
    "            \n",
    "        edges = edges + np.full(len(edges),1) #+1 to correct the shift due to differentiation\n",
    "        edges = edges[0] #just to unwrap the array\n",
    "        \n",
    "        trial = trial+1\n",
    "    \n",
    "    \n",
    "    return edges"
   ]
  }
 ]
}