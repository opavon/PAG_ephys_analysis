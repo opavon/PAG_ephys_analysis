{
 "metadata": {
  "language_info": {
   "codemirror_mode": {
    "name": "ipython",
    "version": 3
   },
   "file_extension": ".py",
   "mimetype": "text/x-python",
   "name": "python",
   "nbconvert_exporter": "python",
   "pygments_lexer": "ipython3",
   "version": "3.8.0"
  },
  "orig_nbformat": 2,
  "kernelspec": {
   "name": "python380jvsc74a57bd03f42c24bac474001db25a65874baca9673a25c1149ca6577ebc3304546e4b10d",
   "display_name": "Python 3.8.0 64-bit ('ephys': conda)"
  },
  "metadata": {
   "interpreter": {
    "hash": "3f42c24bac474001db25a65874baca9673a25c1149ca6577ebc3304546e4b10d"
   }
  }
 },
 "nbformat": 4,
 "nbformat_minor": 2,
 "cells": [
  {
   "source": [
    "## 1 | Import packages"
   ],
   "cell_type": "markdown",
   "metadata": {}
  },
  {
   "cell_type": "code",
   "execution_count": null,
   "metadata": {},
   "outputs": [],
   "source": [
    "import os\n",
    "import h5py\n",
    "import numpy as np\n",
    "import tkinter\n",
    "from tkinter.filedialog import askopenfilename, askopenfilenames\n",
    "from collections import defaultdict\n",
    "from nptdms import TdmsFile\n",
    "print(\"done!\")"
   ]
  },
  {
   "source": [
    "## 2 | Use tkinter to choose a file and get the path to it"
   ],
   "cell_type": "markdown",
   "metadata": {}
  },
  {
   "cell_type": "code",
   "execution_count": null,
   "metadata": {},
   "outputs": [],
   "source": [
    "# test the code\n",
    "root = tkinter.Tk()\n",
    "root.attributes(\"-topmost\", True) # make window appear on top\n",
    "in_path = askopenfilename()\n",
    "print(in_path)\n",
    "root.destroy() # close the root window\n",
    "\n",
    "# Split the pathname path into a pair, (head, tail) where tail is the last pathname component and head is everything leading up to that.\n",
    "folder_name = os.path.split(in_path)[0]\n",
    "file_name = os.path.split(in_path)[1]\n",
    "print(folder_name)\n",
    "print(file_name)"
   ]
  },
  {
   "cell_type": "code",
   "execution_count": null,
   "metadata": {},
   "outputs": [],
   "source": [
    "def importFile():\n",
    "    \"__importFile__ will open a window where you can navigate and select a file to import. It will then store its path and call the __openFile__ function to exctract its contents.\"\n",
    "    \n",
    "    root = tkinter.Tk()\n",
    "    root.attributes(\"-topmost\", True) # make window appear on top\n",
    "    in_path = askopenfilename() # open dialogue to select file\n",
    "    root.destroy() # close the root window\n",
    "\n",
    "    folder_name = os.path.split(in_path)[0] # get path until folder\n",
    "    file_name = os.path.split(in_path)[1] # get filename\n",
    "    \n",
    "    voltage_mV, current_pA, command, ttl, time, dt = openFile(in_path)\n",
    "    \n",
    "    return voltage_mV, current_pA, command, ttl, time, dt, folder_name"
   ]
  },
  {
   "source": [
    "## 3 | Open a file"
   ],
   "cell_type": "markdown",
   "metadata": {}
  },
  {
   "cell_type": "code",
   "execution_count": null,
   "metadata": {},
   "outputs": [],
   "source": [
    "def openFile(in_path, curated_channel = None):\n",
    "    \"__openFile__ will check whether you are attempting to open a tdms or a hdf5 file and will attempt to extract the data from each of the useful channels.\"\n",
    "\n",
    "    if '.tdms' in in_path:\n",
    "        extracted_channels, time, dt = openTDMSfile(in_path)\n",
    "    elif '.hdf5' in in_path:\n",
    "        extracted_channels, time, dt = openHDF5file(in_path, curated_channel = curated_channel)\n",
    "    \n",
    "    voltage_mV = extracted_channels[0]\n",
    "    current_pA = extracted_channels[1]\n",
    "    command = extracted_channels[2]\n",
    "    ttl = extracted_channels[3]\n",
    "    \n",
    "    return voltage_mV, current_pA, command, ttl, time, dt"
   ]
  },
  {
   "source": [
    "### 3.1 | Open an .hdf5 file and extract channels"
   ],
   "cell_type": "markdown",
   "metadata": {}
  },
  {
   "cell_type": "code",
   "execution_count": null,
   "metadata": {},
   "outputs": [],
   "source": [
    "# Choose a .hdf5 file to test the code\n",
    "root = tkinter.Tk()\n",
    "root.attributes(\"-topmost\", True) # make window appear on top\n",
    "in_path = askopenfilename()\n",
    "print(in_path)\n",
    "root.destroy() # close the root window\n",
    "\n",
    "# Split the pathname path into a pair, (head, tail) where tail is the last pathname component and head is everything leading up to that.\n",
    "folder_name = os.path.split(in_path)[0]\n",
    "file_name = os.path.split(in_path)[1]\n",
    "print(folder_name)\n",
    "print(file_name)"
   ]
  },
  {
   "cell_type": "code",
   "execution_count": null,
   "metadata": {},
   "outputs": [],
   "source": [
    "print(in_path)\n",
    "test_file = h5py.File(in_path, 'r')\n",
    "list(test_file.keys())\n",
    "\n",
    "dataDict = defaultdict(list)\n",
    "list(dataDict)"
   ]
  },
  {
   "cell_type": "code",
   "execution_count": null,
   "metadata": {},
   "outputs": [],
   "source": [
    "def openHDF5file(in_path,\n",
    "                 channel_list = ['Channel A', 'Channel B', 'Output A', 'Output B'],\n",
    "                 curated_channel = None):\n",
    "    \"What is this function doing?\"\n",
    "\n",
    "    hdf5_file = h5py.File(in_path, 'r')\n",
    "    \n",
    "    dataDict = defaultdict(list)\n",
    "    \n",
    "    for channel in hdf5_file.keys():\n",
    "        \n",
    "        #to fix hdf5 indexing\n",
    "        if 'Channel' in channel or 'Output' in channel:\n",
    "            trialKeysInHDF5 = list(hdf5_file[channel].keys()) # which has been sorted alphabatically as in strings. can be simulated by sorted([str(x) for x in range(numTrials)]) \n",
    "            sortI, numericalOrder = zip(*sorted(enumerate([int(x) for x in trialKeysInHDF5]),key=lambda i:i[1])) # resort numerically, and get the sorting indexes \n",
    "            \n",
    "            if curated_channel is not None: \n",
    "                sortI, numericalOrder = zip(*sorted(enumerate([int(x) for x in list(hdf5_file[curated_channel].keys())]),key=lambda i:i[1]))\n",
    "                if 'Channel' in channel: trialKeysInHDF5 = list(hdf5_file[curated_channel].keys())\n",
    "                if 'Output' in channel: sortI = [int(x)-1 for x in numericalOrder] #note, may not work as expected if very first trial is deleted ? but doesnt matter as output is usually the same across trials in a given file\n",
    "#            print(channel, trialKeysInHDF5, sortI)\n",
    "        else:\n",
    "            trialKeysInHDF5 = list(hdf5_file[channel].keys())\n",
    "            sortI = range(len(trialKeysInHDF5))\n",
    "#            print('not sorted')\n",
    "            \n",
    "        for i in range(len(sortI)):\n",
    "            correctedTrialKey = trialKeysInHDF5[sortI[i]] \n",
    "            dataDict[channel].append(np.array(hdf5_file[channel][correctedTrialKey]))\n",
    "   \n",
    "    extractedChannels = []\n",
    "    \n",
    "    for channel in channel_list:\n",
    "        extractedChannels.append(dataDict[channel])\n",
    "\n",
    "    \n",
    "    if len(dataDict['Time']) >0:\n",
    "        time = dataDict['Time'][0]\n",
    "        dt = np.mean(np.diff(time))\n",
    "    else:\n",
    "        dt = 0.04\n",
    "        time = np.linspace(0, len(dataDict['Channel A'][0])*dt, len(['Channel A'][0]))\n",
    "    \n",
    "    return extractedChannels, time, dt"
   ]
  },
  {
   "source": [
    "### 3.2 | Open .tdms file and extract channels"
   ],
   "cell_type": "markdown",
   "metadata": {}
  },
  {
   "cell_type": "code",
   "execution_count": null,
   "metadata": {},
   "outputs": [],
   "source": [
    "# Choose a .tdms file to test the code\n",
    "root = tkinter.Tk()\n",
    "root.attributes(\"-topmost\", True) # make window appear on top\n",
    "in_path = askopenfilename()\n",
    "print(in_path)\n",
    "root.destroy() # close the root window\n",
    "\n",
    "# Split the pathname path into a pair, (head, tail) where tail is the last pathname component and head is everything leading up to that.\n",
    "folder_name = os.path.split(in_path)[0]\n",
    "file_name = os.path.split(in_path)[1]\n",
    "print(folder_name)\n",
    "print(file_name)"
   ]
  },
  {
   "cell_type": "code",
   "execution_count": null,
   "metadata": {},
   "outputs": [],
   "source": [
    "def openTDMSfile(in_path, channel_list = ['Channel A', 'Channel B', 'Output A', 'Output B']):\n",
    "    \"__openTDMSfile__ returns a list of arrays, where each is a sweep/trial i.e. [np.array(trial)].\"\n",
    "    \n",
    "    tdms_file = TdmsFile(in_path)\n",
    "    \n",
    "    dataDict = defaultdict(list)\n",
    "    \n",
    "    for group in tdms_file.groups():\n",
    "        i=0\n",
    "        for sweep in group.channels():\n",
    "            dataDict[group.name].append(sweep.data)\n",
    "            i+=1\n",
    "                       \n",
    "    extracted_channels = []\n",
    "    \n",
    "    for channel in channel_list: # keep only useful channels\n",
    "        extracted_channels.append(dataDict[channel])\n",
    "    \n",
    "    time = dataDict['Time'][0]\n",
    "    dt = np.mean(np.diff(time))\n",
    "    \n",
    "    return extracted_channels, time, dt"
   ]
  },
  {
   "source": [
    "## 4 | Find Test Pulse and obtain seal resistance"
   ],
   "cell_type": "markdown",
   "metadata": {}
  },
  {
   "cell_type": "code",
   "execution_count": null,
   "metadata": {},
   "outputs": [],
   "source": [
    "def parse_TTL_edges(TTL, edgeType):\n",
    "    trial =0\n",
    "    edges = []\n",
    "    \n",
    "    while len(edges)<1 and trial < len(TTL):\n",
    "    \n",
    "        if 'rising' in edgeType:\n",
    "            edges = np.where(np.diff(TTL[trial])>0) \n",
    "        elif 'falling' in edgeType:\n",
    "            edges = np.where(np.diff(TTL[trial])<0) \n",
    "        elif 'both' in edgeType:\n",
    "            edges = np.where(np.diff(TTL[trial])!=0)    \n",
    "            \n",
    "        edges = edges + np.full(len(edges),1) #+1 to correct the shift due to differentiation\n",
    "        edges = edges[0] #just to unwrap the array\n",
    "        \n",
    "        trial = trial+1\n",
    "    \n",
    "    \n",
    "    return edges"
   ]
  }
 ]
}