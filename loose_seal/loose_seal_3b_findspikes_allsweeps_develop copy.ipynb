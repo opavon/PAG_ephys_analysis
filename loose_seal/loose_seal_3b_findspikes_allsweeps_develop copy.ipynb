{
 "metadata": {
  "language_info": {
   "codemirror_mode": {
    "name": "ipython",
    "version": 3
   },
   "file_extension": ".py",
   "mimetype": "text/x-python",
   "name": "python",
   "nbconvert_exporter": "python",
   "pygments_lexer": "ipython3",
   "version": "3.8.0"
  },
  "orig_nbformat": 2,
  "kernelspec": {
   "name": "python3",
   "display_name": "Python 3.8.0 64-bit ('ephys': conda)"
  },
  "interpreter": {
   "hash": "2f664273e531ff7d05ac97865ce1d4a67fb518bd75932c2c41a023ddf3c68bce"
  }
 },
 "nbformat": 4,
 "nbformat_minor": 2,
 "cells": [
  {
   "source": [
    "## 0 | Import packages"
   ],
   "cell_type": "markdown",
   "metadata": {}
  },
  {
   "cell_type": "code",
   "execution_count": 265,
   "metadata": {},
   "outputs": [
    {
     "output_type": "stream",
     "name": "stdout",
     "text": [
      "done!\n"
     ]
    }
   ],
   "source": [
    "import os\n",
    "import h5py\n",
    "import numpy as np\n",
    "import pandas as pd\n",
    "import tkinter\n",
    "import matplotlib.pyplot as plt\n",
    "from matplotlib.patches import Rectangle\n",
    "from utilities import importFile, openFile, openHDF5file, getLooseRseal\n",
    "from tkinter.filedialog import askopenfilename, askopenfilenames\n",
    "from collections import defaultdict\n",
    "from nptdms import TdmsFile\n",
    "from scipy import stats\n",
    "from scipy.signal import find_peaks\n",
    "print(\"done!\")"
   ]
  },
  {
   "source": [
    "## 1 | Use find_peaks() to detect spikes in all sweeps\n",
    "\n",
    "Now that we can detect spikes and are sure we are not counting noise, we can continue to do the same for all the sweeps of the cell we are analysing. We are going to need a few things. We are going to need to (1) be able to plot the histogram of prominences for the detected peaks and (2) be able to ask the user for input so it can set the adequate prominence bracket to detect spikes and not noise. And we need to do this on a sweep by sweep basis."
   ],
   "cell_type": "markdown",
   "metadata": {}
  },
  {
   "source": [
    "### 1.1 | Ask for input and plot within a loop\n",
    "\n",
    "We can ask for input with the input() function, and convert the value to integer."
   ],
   "cell_type": "markdown",
   "metadata": {}
  },
  {
   "cell_type": "code",
   "execution_count": null,
   "metadata": {},
   "outputs": [],
   "source": [
    "prominence_min = int(input(\"Enter the min value for the desired prominence\"))\n",
    "prominence_max = int(input(\"Enter the max value for the desired prominence\"))\n",
    "\n",
    "print(prominence_min)\n",
    "print(prominence_max)"
   ]
  },
  {
   "source": [
    "We next need a way to first show the histogram, and then ask for the user input."
   ],
   "cell_type": "markdown",
   "metadata": {}
  },
  {
   "cell_type": "code",
   "execution_count": null,
   "metadata": {},
   "outputs": [],
   "source": [
    "%matplotlib tk\n",
    "#%matplotlib inline\n",
    "\n",
    "for i in range(10):\n",
    "    plt.scatter(1, i)\n",
    "    plt.show(block = True)\n",
    "    plt.close()\n",
    "    \n",
    "    prominence_min = int(input(\"Enter the min value for the desired prominence\"))\n",
    "    prominence_max = int(input(\"Enter the max value for the desired prominence\"))\n",
    "    print(f'For sweep number {i}, you chose a prominence between {prominence_min} and {prominence_max}')"
   ]
  },
  {
   "source": [
    "Would it work if we just concatenate all sweeps?"
   ],
   "cell_type": "markdown",
   "metadata": {}
  },
  {
   "cell_type": "code",
   "execution_count": null,
   "metadata": {},
   "outputs": [],
   "source": [
    "c = np.array(channels_data_frame.loc['Channel B', :])\n",
    "sweep_IB_concatenated = np.concatenate(c)\n",
    "\n",
    "%matplotlib tk\n",
    "\n",
    "plt.figure(1)\n",
    "plt.plot(sweep_IB_concatenated, 'k')\n",
    "#plt.xlim(left=test_pulse_IB_end)\n",
    "plt.title('Figure 4.1: Concatenated Sweeps', fontsize = 14)\n",
    "plt.ylabel('current [pA]')\n",
    "plt.show()"
   ]
  },
  {
   "cell_type": "code",
   "execution_count": null,
   "metadata": {},
   "outputs": [],
   "source": [
    "Rseal_data_frame = getLooseRseal_bumped(file_name, channels_data_frame)\n",
    "Rseal_data_frame"
   ]
  },
  {
   "cell_type": "code",
   "execution_count": null,
   "metadata": {},
   "outputs": [],
   "source": [
    "plt.hist(np.array(Rseal_data_frame.loc['test_pulse_membrane', :]), bins = 50, density = False, histtype = 'bar', log = False)\n",
    "plt.title('Figure 4.2: Membrane response to test_pulse', fontsize = 14)\n",
    "plt.xlabel('current [pA]', fontsize = 12)\n",
    "plt.show()"
   ]
  },
  {
   "cell_type": "code",
   "execution_count": null,
   "metadata": {},
   "outputs": [],
   "source": [
    "peaks_concatenated, properties_concatenaded = find_peaks(-sweep_IB_concatenated, height = (None, None), threshold = (None, None), distance = None, prominence = (None, None), width = (None, None))\n",
    "# Reverse the sign of the data to detect the lower peak of the spike (some are unipolar and only go down) and to avoid the noise.\n",
    "print(len(peaks_concatenated))\n",
    "peaks_concatenated"
   ]
  },
  {
   "cell_type": "code",
   "execution_count": null,
   "metadata": {},
   "outputs": [],
   "source": [
    "plt.hist(properties_concatenaded['widths'], bins = 50, density = False, histtype = 'bar', log = True)\n",
    "plt.title('Figure 4.3: Prominence of detected peaks', fontsize = 14)\n",
    "plt.xlabel('peak prominence [pA]', fontsize = 12)\n",
    "plt.show()"
   ]
  },
  {
   "cell_type": "code",
   "execution_count": null,
   "metadata": {},
   "outputs": [],
   "source": [
    "np.where(properties_concatenaded['widths'] > 2000)"
   ]
  },
  {
   "cell_type": "code",
   "execution_count": null,
   "metadata": {},
   "outputs": [],
   "source": [
    "%matplotlib tk\n",
    "\n",
    "# Set colormap\n",
    "cmap = plt.get_cmap('Pastel2')\n",
    "noise_color = cmap(0)\n",
    "spikes_color = cmap(1)\n",
    "\n",
    "# Define region corresponding to spike size (pA)\n",
    "spike_size_left_edge = 120\n",
    "spike_size_right_edge = 240\n",
    "\n",
    "n, bins, patches = plt.hist(properties_concatenaded['prominences'], bins = 200, density = False, histtype = 'bar', log = True)\n",
    "# Use log = True to see the smaller peak in the histogram that corresponds to the spikes\n",
    "\n",
    "for i in range(len(patches)):\n",
    "    if (spike_size_left_edge < bins[i] < spike_size_right_edge):\n",
    "        patches[i].set_facecolor(spikes_color)\n",
    "    else:\n",
    "        patches[i].set_facecolor(noise_color)\n",
    "\n",
    "plt.title('Figure 4.4: Prominence of detected peaks', fontsize = 14)\n",
    "plt.xlabel('peak prominence [pA]', fontsize = 12)\n",
    "plt.show()"
   ]
  },
  {
   "cell_type": "code",
   "execution_count": null,
   "metadata": {},
   "outputs": [],
   "source": [
    "peaks, properties = find_peaks(-sweep_IB_concatenated, height = (0.5), threshold = (None, None), distance = None, prominence = (Nonee), width = (None(None0), wlen = (10/dt))\n",
    "# Reverse the sign of the data to detect the lower peak of the spike (some are unipolar and only go down) and to avoid the noise.\n",
    "print(len(peaks))\n",
    "peaks"
   ]
  },
  {
   "cell_type": "code",
   "execution_count": null,
   "metadata": {},
   "outputs": [],
   "source": [
    "sum(properties_concatenaded['prominences'] > 232)"
   ]
  },
  {
   "cell_type": "code",
   "execution_count": null,
   "metadata": {},
   "outputs": [],
   "source": [
    "plt.plot(peaks, sweep_IB_concatenated[peaks >232], \"or\")"
   ]
  },
  {
   "cell_type": "code",
   "execution_count": null,
   "metadata": {},
   "outputs": [],
   "source": [
    "%matplotlib tk\n",
    "\n",
    "plt.plot(peaks, sweep_IB_concatenated[peaks], \"xr\"; plt.plot(sweep_IB_concatenated); plt.legend(['peaks'])\n",
    "plt.title('Figure 4.5: Detected peaks', fontsize = 14)\n",
    "plt.xlabel('samples', fontsize = 12)\n",
    "plt.ylabel('current [pA]', fontsize = 12)\n",
    "plt.show()"
   ]
  },
  {
   "cell_type": "code",
   "execution_count": null,
   "metadata": {},
   "outputs": [],
   "source": [
    "len(peaks) / (len(sweep_IB_concatenated)*dt*1000)"
   ]
  },
  {
   "source": [
    "### 1.2. | Find spikes on a sweep by sweep basis\n",
    "\n",
    "Let's first remind ourselves of the data frame shape.\n"
   ],
   "cell_type": "markdown",
   "metadata": {}
  },
  {
   "cell_type": "code",
   "execution_count": null,
   "metadata": {},
   "outputs": [],
   "source": [
    "# Load data\n",
    "channels_data_frame, time, dt, folder_name, file_name = importFile(curated_channel = 'Sweeps_Analysis')\n",
    "print(\"file imported\")"
   ]
  },
  {
   "cell_type": "code",
   "execution_count": null,
   "metadata": {},
   "outputs": [],
   "source": [
    "channels_data_frame"
   ]
  },
  {
   "cell_type": "code",
   "execution_count": null,
   "metadata": {},
   "outputs": [],
   "source": [
    "# pandas.DataFrame.columns - The column labels of the DataFrame.\n",
    "print(channels_data_frame.columns)\n",
    "\n",
    "# pandas.DataFrame.index - The index (row labels) of the DataFrame.\n",
    "print(channels_data_frame.index)\n",
    "\n",
    "# pandas.DataFrame.iloc - integer-location based indexing for selection by position.\n",
    "channels_data_frame.loc[['Channel A', 'Channel B'],:]"
   ]
  },
  {
   "cell_type": "code",
   "execution_count": null,
   "metadata": {},
   "outputs": [],
   "source": [
    "for sweep in channels_data_frame.columns:\n",
    "    sweep_IB = np.array(channels_data_frame.at['Channel B', sweep])\n",
    "\n",
    "    peaks, properties = find_peaks(-sweep_IB,\n",
    "                                   height = None,\n",
    "                                   threshold = None,\n",
    "                                   distance = 5,\n",
    "                                   prominence = 50,\n",
    "                                   width = 2,\n",
    "                                   wlen = None,\n",
    "                                   rel_height = None,\n",
    "                                   plateau_size = None)\n",
    "                                "
   ]
  },
  {
   "cell_type": "code",
   "execution_count": null,
   "metadata": {},
   "outputs": [],
   "source": [
    "    cell_name = [file_name.split('.')[0]] # Get the file name without the extension\n",
    "    print(cell_name)\n",
    "    seal_resistance = []\n",
    "    trial_keys = []\n",
    "\n",
    "    for sweep in channels_data_frame.columns:\n",
    "        \n",
    "        sweep_IA = np.array(channels_data_frame.at['Channel A', sweep])\n",
    "        sweep_IB = np.array(channels_data_frame.at['Channel B', sweep])\n",
    "        sweep_OA = np.array(channels_data_frame.at['Output A', sweep])\n",
    "\n",
    "        # Get the indices of the test_pulse using the Output Channel\n",
    "        test_pulse = np.where(sweep_OA < 0)\n",
    "        test_pulse_OA_indices = test_pulse[0]\n",
    "\n",
    "        # # Find the edges of the test_pulse\n",
    "        # test_pulse_start = np.where(np.diff(sweep_OA) < (0))\n",
    "        # test_pulse_end = np.where(np.diff(sweep_OA) > (0))\n",
    "        # # Extract them from the tuple\n",
    "        # test_pulse_start_i = test_pulse_start[0][0]\n",
    "        # test_pulse_end_i = test_pulse_end[0][0]\n",
    "\n",
    "        # Use the indices of the test_pulse command to define baseline period and test period\n",
    "        sweep_OA_baseline = np.mean(sweep_OA[:(test_pulse_OA_indices[0]-1)]) # -1 to stop baseline before command starts\n",
    "        sweep_OA_pulse = np.mean(sweep_OA[test_pulse_OA_indices])\n",
    "        test_pulse_command = sweep_OA_baseline - sweep_OA_pulse # mV\n",
    "\n",
    "        # # Use the indices of the test_pulse command to define baseline period and test period\n",
    "        # sweep_OA_baseline = np.mean(sweep_OA[int(test_pulse_start_i - (20/0.04)):test_pulse_start_i])\n",
    "        # sweep_OA_pulse = np.mean(sweep_OA[int(test_pulse_end_i - (49/0.04)):test_pulse_end_i])\n",
    "        # test_pulse_command = sweep_OA_baseline - sweep_OA_pulse #mV\n",
    "\n",
    "\n",
    "        # Use the test_pulse indices to get the baseline and cell response to calculate the seal resistance\n",
    "        # To be exact and account for the delays between digital command and output from the amplifier, you could add +1 to the first index to calculate the baseline.\n",
    "        sweep_IB_baseline = np.mean(sweep_IB[:(test_pulse_OA_indices[0])])\n",
    "        # Similary, to avoid using the values recorded while the test pulse command begins, you can skip a milisecond (+4 indices) to the beginning, to ensure you start averaging once the signal has reached the cell. To be extra exact, you could add +2 to the last index so you use all the samples. However, this shouldn't make a difference, so we just skip the milisecond to avoid the transition period.\n",
    "        sweep_IB_pulse = np.mean(sweep_IB[(test_pulse_OA_indices[0]+4):(test_pulse_OA_indices[-1])])\n",
    "        test_pulse_membrane = sweep_IB_baseline - sweep_IB_pulse # pA\n",
    "\n",
    "        # # Do the same as above but for the Current channel\n",
    "        # sweep_IB_baseline = np.mean(sweep_IB[int(test_pulse_start_i - (20/0.04)):test_pulse_start_i])\n",
    "        # sweep_IB_pulse = np.mean(sweep_IB[int(test_pulse_end_i - (49/0.04)):test_pulse_end_i])\n",
    "        # test_pulse_membrane = sweep_IB_baseline - sweep_IB_pulse #pA\n",
    "\n",
    "        # Get seal resistance = mV/pA\n",
    "        Rseal = (test_pulse_command / test_pulse_membrane) * 1000 # to get MOhm\n",
    "        \n",
    "        # append results\n",
    "        seal_resistance.append(Rseal)\n",
    "        trial_keys.append(sweep)\n",
    "\n",
    "    # Create data frame of data:\n",
    "    extracted_Rseal_data_frame = pd.DataFrame([seal_resistance], index = cell_name, columns = trial_keys)\n"
   ]
  },
  {
   "source": [
    "# Types of firing rate to assess\n",
    "\n",
    " * Instantaneous firing rate: inverse of the interspike interval\n",
    "\n",
    " * Firing rate over full recording\n",
    "\n",
    " * Firing rate over time windows (1s?)"
   ],
   "cell_type": "markdown",
   "metadata": {}
  }
 ]
}