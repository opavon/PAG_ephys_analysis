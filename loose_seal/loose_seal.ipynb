{
 "metadata": {
  "language_info": {
   "codemirror_mode": {
    "name": "ipython",
    "version": 3
   },
   "file_extension": ".py",
   "mimetype": "text/x-python",
   "name": "python",
   "nbconvert_exporter": "python",
   "pygments_lexer": "ipython3",
   "version": "3.8.0"
  },
  "orig_nbformat": 2,
  "kernelspec": {
   "name": "python380jvsc74a57bd03f42c24bac474001db25a65874baca9673a25c1149ca6577ebc3304546e4b10d",
   "display_name": "Python 3.8.0 64-bit ('ephys': conda)"
  },
  "metadata": {
   "interpreter": {
    "hash": "3f42c24bac474001db25a65874baca9673a25c1149ca6577ebc3304546e4b10d"
   }
  }
 },
 "nbformat": 4,
 "nbformat_minor": 2,
 "cells": [
  {
   "source": [
    "## 1 | Import packages and set defaults"
   ],
   "cell_type": "markdown",
   "metadata": {}
  },
  {
   "cell_type": "code",
   "execution_count": 21,
   "metadata": {},
   "outputs": [
    {
     "output_type": "stream",
     "name": "stdout",
     "text": [
      "done!\n"
     ]
    }
   ],
   "source": [
    "import os\n",
    "import h5py\n",
    "import numpy as np\n",
    "import tkinter\n",
    "from tkinter.filedialog import askopenfilename, askopenfilenames\n",
    "from collections import defaultdict\n",
    "print(\"done!\")\n"
   ]
  },
  {
   "source": [
    "## 2 | Try to access a file"
   ],
   "cell_type": "markdown",
   "metadata": {}
  },
  {
   "cell_type": "code",
   "execution_count": 5,
   "metadata": {},
   "outputs": [
    {
     "output_type": "stream",
     "name": "stdout",
     "text": [
      "D:/Dropbox (UCL - SWC)/Project_paginhibition/analysis/loose_seal/analysis_sample_cells/dmpag_vgat_171123_c5_LIBD_OP_clear_VC_1.hdf5\n"
     ]
    }
   ],
   "source": [
    "tkinter.Tk().withdraw() # Close the root window\n",
    "in_path = askopenfilename()\n",
    "print(file_path)"
   ]
  },
  {
   "cell_type": "code",
   "execution_count": 12,
   "metadata": {},
   "outputs": [
    {
     "output_type": "stream",
     "name": "stdout",
     "text": [
      "D:/Dropbox (UCL - SWC)/Project_paginhibition/analysis/loose_seal/analysis_sample_cells\ndmpag_vgat_171123_c5_LIBD_OP_clear_VC_1.hdf5\n"
     ]
    }
   ],
   "source": [
    "folder_name = os.path.split(in_path)[0]\n",
    "file_name = os.path.split(in_path)[1]\n",
    "# Split the pathname path into a pair, (head, tail) where tail is the last pathname component and head is everything leading up to that. The tail part will never contain a slash; if path ends in a slash, tail will be empty. If there is no slash in path, head will be empty. If path is empty, both head and tail are empty. Trailing slashes are stripped from head unless it is the root (one or more slashes only). In all cases, join(head, tail) returns a path to the same location as path (but the strings may differ).\n",
    "print(folder_name)\n",
    "print(file_name)"
   ]
  },
  {
   "cell_type": "code",
   "execution_count": null,
   "metadata": {},
   "outputs": [],
   "source": [
    "def importFile():\n",
    "    \"What is this function doing?\"\n",
    "    \n",
    "    tkinter.Tk().withdraw() # Close the root window\n",
    "    in_path = askopenfilename()\n",
    "    folder_name = os.path.split(in_path)[0]\n",
    "    file_name = os.path.split(in_path)[1]\n",
    "    \n",
    "    voltage_mV, current_pA, command, ttl, time, dt = openFile(in_path)\n",
    "    \n",
    "    return voltage_mV, current_pA, command, ttl, time, dt, folder_name"
   ]
  },
  {
   "cell_type": "code",
   "execution_count": null,
   "metadata": {},
   "outputs": [],
   "source": [
    "def openFile(in_path, curated_channel = None):\n",
    "    \"What is this function doing?\"\n",
    "\n",
    "    if '.tdms' in in_path:\n",
    "        extracted_channels, time, dt = openTDMSfile(in_path)\n",
    "    elif '.hdf5' in in_path:\n",
    "        extracted_channels, time, dt = openHDF5file(in_path, curated_channel = curated_channel)\n",
    "    \n",
    "    voltage_mV = extracted_channels[0]\n",
    "    current_pA = extracted_channels[1]\n",
    "    command = extracted_channels[2]\n",
    "    ttl = extracted_channels[3]\n",
    "    \n",
    "    return voltage_mV, current_pA, command, ttl, time, dt"
   ]
  },
  {
   "cell_type": "code",
   "execution_count": 23,
   "metadata": {},
   "outputs": [
    {
     "output_type": "stream",
     "name": "stdout",
     "text": [
      "D:/Dropbox (UCL - SWC)/Project_paginhibition/analysis/loose_seal/analysis_sample_cells/dmpag_vgat_171123_c5_LIBD_OP_clear_VC_1.hdf5\n"
     ]
    },
    {
     "output_type": "execute_result",
     "data": {
      "text/plain": [
       "[]"
      ]
     },
     "metadata": {},
     "execution_count": 23
    }
   ],
   "source": [
    "print(in_path)\n",
    "test_file = h5py.File(in_path, 'r')\n",
    "list(test_file.keys())\n",
    "\n",
    "dataDict = defaultdict(list)\n",
    "list(dataDict)\n"
   ]
  },
  {
   "cell_type": "code",
   "execution_count": null,
   "metadata": {},
   "outputs": [],
   "source": [
    "def openHDF5file(in_path,\n",
    "                 channel_list = ['Channel A', 'Channel B', 'Output A', 'Output B'],\n",
    "                 curated_channel = None):\n",
    "    \"What is this function doing?\"\n",
    "\n",
    "    hdf5_file = h5py.File(in_path, 'r')\n",
    "    \n",
    "    dataDict = defaultdict(list)\n",
    "    \n",
    "    for channel in hdf5_file.keys():\n",
    "        \n",
    "        #to fix hdf5 indexing\n",
    "        if 'Channel' in channel or 'Output' in channel:\n",
    "            trialKeysInHDF5 = list(hdf5_file[channel].keys()) # which has been sorted alphabatically as in strings. can be simulated by sorted([str(x) for x in range(numTrials)]) \n",
    "            sortI, numericalOrder = zip(*sorted(enumerate([int(x) for x in trialKeysInHDF5]),key=lambda i:i[1])) # resort numerically, and get the sorting indexes \n",
    "            \n",
    "            if curated_channel is not None: \n",
    "                sortI, numericalOrder = zip(*sorted(enumerate([int(x) for x in list(hdf5_file[curated_channel].keys())]),key=lambda i:i[1]))\n",
    "                if 'Channel' in channel: trialKeysInHDF5 = list(hdf5_file[curated_channel].keys())\n",
    "                if 'Output' in channel: sortI = [int(x)-1 for x in numericalOrder] #note, may not work as expected if very first trial is deleted ? but doesnt matter as output is usually the same across trials in a given file\n",
    "#            print(channel, trialKeysInHDF5, sortI)\n",
    "        else:\n",
    "            trialKeysInHDF5 = list(hdf5_file[channel].keys())\n",
    "            sortI = range(len(trialKeysInHDF5))\n",
    "#            print('not sorted')\n",
    "            \n",
    "        for i in range(len(sortI)):\n",
    "            correctedTrialKey = trialKeysInHDF5[sortI[i]] \n",
    "            dataDict[channel].append(np.array(hdf5_file[channel][correctedTrialKey]))\n",
    "   \n",
    "    extractedChannels = []\n",
    "    \n",
    "    for channel in channel_list:\n",
    "        extractedChannels.append(dataDict[channel])\n",
    "\n",
    "    \n",
    "    if len(dataDict['Time']) >0:\n",
    "        time = dataDict['Time'][0]\n",
    "        dt = np.mean(np.diff(time))\n",
    "    else:\n",
    "        dt = 0.04\n",
    "        time = np.linspace(0, len(dataDict['Channel A'][0])*dt, len(['Channel A'][0]))\n",
    "    \n",
    "    return extractedChannels, time, dt"
   ]
  },
  {
   "cell_type": "code",
   "execution_count": null,
   "metadata": {},
   "outputs": [],
   "source": [
    "def openTDMSfile(in_path, channel_list = ['Channel A', 'Channel B', 'Output A', 'Output B']):\n",
    "\n",
    "    #returns list of arrays, each are trials i.e. [np.array(trial)]\n",
    "    \n",
    "    tdms_file = TdmsFile(in_path)\n",
    "    \n",
    "    dataDict = defaultdict(list)\n",
    "    \n",
    "    for group in tdms_file.groups():\n",
    "        i=0\n",
    "        for channel in tdms_file.group_channels(group):\n",
    "            #channelname = re.findall(r\"'(.*?)'\", channel.path , re.DOTALL)[1]            \n",
    "            dataDict[group].append(channel.data)\n",
    "            i+=1\n",
    "     \n",
    "                       \n",
    "    extractedChannels = []\n",
    "    \n",
    "    for channel in channel_list:\n",
    "        extractedChannels.append(dataDict[channel])\n",
    "    \n",
    "    time = dataDict['Time'][0]\n",
    "    dt = np.mean(np.diff(time))\n",
    "    \n",
    "    return extractedChannels, time, dt"
   ]
  },
  {
   "cell_type": "code",
   "execution_count": null,
   "metadata": {},
   "outputs": [],
   "source": [
    "def parse_TTL_edges(TTL, edgeType):\n",
    "    trial =0\n",
    "    edges = []\n",
    "    \n",
    "    while len(edges)<1 and trial < len(TTL):\n",
    "    \n",
    "        if 'rising' in edgeType:\n",
    "            edges = np.where(np.diff(TTL[trial])>0) \n",
    "        elif 'falling' in edgeType:\n",
    "            edges = np.where(np.diff(TTL[trial])<0) \n",
    "        elif 'both' in edgeType:\n",
    "            edges = np.where(np.diff(TTL[trial])!=0)    \n",
    "            \n",
    "        edges = edges + np.full(len(edges),1) #+1 to correct the shift due to differentiation\n",
    "        edges = edges[0] #just to unwrap the array\n",
    "        \n",
    "        trial = trial+1\n",
    "    \n",
    "    \n",
    "    return edges"
   ]
  }
 ]
}