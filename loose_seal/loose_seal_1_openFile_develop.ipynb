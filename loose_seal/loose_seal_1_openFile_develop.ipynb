{
 "metadata": {
  "language_info": {
   "codemirror_mode": {
    "name": "ipython",
    "version": 3
   },
   "file_extension": ".py",
   "mimetype": "text/x-python",
   "name": "python",
   "nbconvert_exporter": "python",
   "pygments_lexer": "ipython3",
   "version": "3.8.0"
  },
  "orig_nbformat": 2,
  "kernelspec": {
   "name": "python380jvsc74a57bd03f42c24bac474001db25a65874baca9673a25c1149ca6577ebc3304546e4b10d",
   "display_name": "Python 3.8.0 64-bit ('ephys': conda)"
  },
  "metadata": {
   "interpreter": {
    "hash": "2f664273e531ff7d05ac97865ce1d4a67fb518bd75932c2c41a023ddf3c68bce"
   }
  }
 },
 "nbformat": 4,
 "nbformat_minor": 2,
 "cells": [
  {
   "source": [
    "## 1 | Import packages"
   ],
   "cell_type": "markdown",
   "metadata": {}
  },
  {
   "cell_type": "code",
   "execution_count": 1,
   "metadata": {},
   "outputs": [
    {
     "output_type": "stream",
     "name": "stdout",
     "text": [
      "done!\n"
     ]
    }
   ],
   "source": [
    "import os\n",
    "import h5py\n",
    "import numpy as np\n",
    "import pandas as pd\n",
    "import tkinter\n",
    "from tkinter.filedialog import askopenfilename, askopenfilenames\n",
    "from collections import defaultdict\n",
    "from nptdms import TdmsFile\n",
    "print(\"done!\")"
   ]
  },
  {
   "source": [
    "## 2 | Use tkinter to choose a file and get the path to it"
   ],
   "cell_type": "markdown",
   "metadata": {}
  },
  {
   "cell_type": "code",
   "execution_count": 2,
   "metadata": {},
   "outputs": [
    {
     "output_type": "stream",
     "name": "stdout",
     "text": [
      "D:/Dropbox (UCL - SWC)/Project_paginhibition/analysis/loose_seal/analysis_sample_cells/dlpag_vgat_201201_c5_LDIBX_OP_VC_clear_nointerval_1.hdf5\nD:/Dropbox (UCL - SWC)/Project_paginhibition/analysis/loose_seal/analysis_sample_cells\ndlpag_vgat_201201_c5_LDIBX_OP_VC_clear_nointerval_1.hdf5\n"
     ]
    }
   ],
   "source": [
    "# Choose a file to test the code:\n",
    "root = tkinter.Tk()\n",
    "root.attributes('-topmost', True) # Make window appear on top\n",
    "in_path = askopenfilename() # Open dialogue to select file\n",
    "print(in_path)\n",
    "root.destroy() # Close the root window\n",
    "\n",
    "# Split the pathname path into a pair, (head, tail) where tail is the last pathname component and head is everything leading up to that.\n",
    "folder_name = os.path.split(in_path)[0] # Get path until folder\n",
    "file_name = os.path.split(in_path)[1] # Get filename\n",
    "print(folder_name)\n",
    "print(file_name)"
   ]
  },
  {
   "cell_type": "code",
   "execution_count": null,
   "metadata": {},
   "outputs": [],
   "source": [
    "def importFile(curated_channel = None):\n",
    "    \"\"\"\n",
    "    `importFile` opens a window to select a file to import.\n",
    "    Returns path and calls `openFile` to extract data.\"\n",
    "    \"\"\"\n",
    "\n",
    "    root = tkinter.Tk()\n",
    "    root.attributes('-topmost', True) # Make window appear on top\n",
    "    in_path = askopenfilename() # Open dialogue to select file\n",
    "    root.destroy() # Close the root window\n",
    "\n",
    "    folder_name = os.path.split(in_path)[0] # Get path until folder\n",
    "    file_name = os.path.split(in_path)[1] # Get filename\n",
    "    \n",
    "    voltage_mV, current_pA, command, ttl, extracted_channels, corrected_trial_keys, channel_list, channels_data_frame, time, dt = openFile(in_path, curated_channel) # Call openFile() function\n",
    "        \n",
    "    return voltage_mV, current_pA, command, ttl, extracted_channels, corrected_trial_keys, channel_list, channels_data_frame, time, dt, folder_name, file_name"
   ]
  },
  {
   "source": [
    "## 3 | Open a file"
   ],
   "cell_type": "markdown",
   "metadata": {}
  },
  {
   "cell_type": "code",
   "execution_count": null,
   "metadata": {},
   "outputs": [],
   "source": [
    "def openFile(in_path, curated_channel = None):\n",
    "    \"\"\"\n",
    "    `openFile` checks whether you are attempting to open a `.tdms` or a `.hdf5` file.\n",
    "    Extracts the data from selected channels.\n",
    "    \"\"\"\n",
    "\n",
    "    if '.tdms' in in_path:\n",
    "        extracted_channels, time, dt = openTDMSfile(in_path)\n",
    "    elif '.hdf5' in in_path:\n",
    "        extracted_channels, corrected_trial_keys, channel_list, channels_data_frame, time, dt = openHDF5file(in_path, curated_channel = curated_channel)\n",
    "    \n",
    "    voltage_mV = extracted_channels[0]\n",
    "    current_pA = extracted_channels[1]\n",
    "    command = extracted_channels[2]\n",
    "    ttl = extracted_channels[3]\n",
    "    \n",
    "    return voltage_mV, current_pA, command, ttl, extracted_channels, corrected_trial_keys, channel_list, channels_data_frame, time, dt"
   ]
  },
  {
   "source": [
    "### 3.1 | Open an .hdf5 file and extract channels"
   ],
   "cell_type": "markdown",
   "metadata": {}
  },
  {
   "cell_type": "code",
   "execution_count": 12,
   "metadata": {},
   "outputs": [
    {
     "output_type": "stream",
     "name": "stdout",
     "text": [
      "D:/Dropbox (UCL)/Project_paginhibition/analysis/loose_seal/analysis_sample_cells/dlpag_vgat_201201_c5_LDIBX_OP_VC_clear_nointerval_1.hdf5\nD:/Dropbox (UCL)/Project_paginhibition/analysis/loose_seal/analysis_sample_cells\ndlpag_vgat_201201_c5_LDIBX_OP_VC_clear_nointerval_1.hdf5\n"
     ]
    }
   ],
   "source": [
    "# Choose a .hdf5 file to test the code\n",
    "root = tkinter.Tk()\n",
    "root.attributes('-topmost', True) # Make window appear on top\n",
    "in_path = askopenfilename() # Open dialogue to select file\n",
    "print(in_path)\n",
    "root.destroy() # Close the root window\n",
    "\n",
    "# Split the pathname path into a pair, (head, tail) where tail is the last pathname component and head is everything leading up to that.\n",
    "folder_name = os.path.split(in_path)[0] # Get path until folder\n",
    "file_name = os.path.split(in_path)[1] # Get filename\n",
    "print(folder_name)\n",
    "print(file_name)"
   ]
  },
  {
   "cell_type": "code",
   "execution_count": null,
   "metadata": {},
   "outputs": [],
   "source": [
    "def openHDF5file(in_path,\n",
    "                 channel_list = ['Channel A', 'Channel B', 'Output A', 'Output B'],\n",
    "                 curated_channel = None):\n",
    "    \"\"\"\n",
    "    Opens the selected `.hdf5` file and extracts sorted data from chosen channels.\n",
    "    \n",
    "    :channel_list: list of channels to extract. If empty, defaults to 'Channel A', 'Channel B', 'Output A', 'Output B'.\n",
    "    :curated_channel: e.g. copy of a 'Channel' where some sweeps/trials have been deleted due to noise or quality.\n",
    "    \"\"\"\n",
    "\n",
    "    # Read hdf5 file:\n",
    "    hdf5_file = h5py.File(in_path, 'r')\n",
    "    \n",
    "    # Define empty dictionary to populate with correctly sorted data:\n",
    "    data_dict = defaultdict(list)\n",
    "    # Define empty dictionary to populate with corrected trialKeys:\n",
    "    key_dict = defaultdict(list)\n",
    "    \n",
    "    # Iterate through channels to find trial indices and sort them numerically:\n",
    "    for channel in hdf5_file.keys():\n",
    "        \n",
    "        # Fix hdf5 indexing. Otherwise it sorts sweeps alphabetically (as 1, 10, 11, [...], 2, 21, 22...)\n",
    "        if 'Channel' in channel:\n",
    "            # Get keys from hdf5 (i.e. the name of each sweep/trial)\n",
    "            # These have been sorted alphabetically as in strings: \n",
    "            trialKeysInHDF5 = list(hdf5_file[channel].keys())\n",
    "            \n",
    "            # Convert to integers so you can sort numerically:\n",
    "            trialKeysInHDF5_int = [int(x) for x in trialKeysInHDF5]\n",
    "            \n",
    "            # Get the indices that will sort the array:\n",
    "            trialKeysInHDF5_sorting_indices = list(np.argsort(trialKeysInHDF5_int))\n",
    "            \n",
    "            if curated_channel is not None:\n",
    "                # Use trial keys from curated_channel to ensure same number of trials are present in all channels.\n",
    "                trialKeysInHDF5 = list(hdf5_file[curated_channel].keys())\n",
    "                trialKeysInHDF5_int = [int(x) for x in trialKeysInHDF5]\n",
    "                trialKeysInHDF5_sorting_indices = list(np.argsort(trialKeysInHDF5_int))\n",
    "        \n",
    "        # In the case of 'Output' channels, we need to add an extra step.\n",
    "        # Whereas trialKeys for \"Channel\" always start at \"1\", \"Output\" starts at random values like \"14197\".\n",
    "        elif 'Output' in channel:\n",
    "            trialKeysInHDF5 = list(hdf5_file[channel].keys())\n",
    "            trialKeysInHDF5_int = [int(x) for x in trialKeysInHDF5]\n",
    "            trialKeysInHDF5_sorting_indices = list(np.argsort(trialKeysInHDF5_int))\n",
    "            # Transform them so they start from 1 and can be compared to the curated_channel keys:\n",
    "            trialKeysInHDF5_int_from1 = [(x-min(trialKeysInHDF5_int)+1) for x in trialKeysInHDF5_int]\n",
    "     \n",
    "            if curated_channel is not None:\n",
    "                # Compare the trial keys starting from 1 to those from the curated channel.\n",
    "                # Then use the indices of matching keys to extract only the curated trials to analyse.\n",
    "                trialKeysInHDF5_curated = list(hdf5_file[curated_channel].keys())\n",
    "                trialKeysInHDF5_curated_int = [int(x) for x in trialKeysInHDF5_curated]\n",
    "                trialKeysInHDF5_curated_sorting_indices = list(np.argsort(trialKeysInHDF5_curated_int))\n",
    "                # Sort the curated integer keys so you can use them in the list.index() step.\n",
    "                trialKeysInHDF5_curated_int_sorted = sorted(trialKeysInHDF5_curated_int)\n",
    "                # For the sorted curated trial keys, find the index of the value matching each curated_channel trial.\n",
    "                # Use this as the sorting indices.\n",
    "                trialKeysInHDF5_sorting_indices = [trialKeysInHDF5_int_from1.index(trialKeysInHDF5_curated_int_sorted[i]) for i in range(len(trialKeysInHDF5_curated_int_sorted))]\n",
    "\n",
    "        # 'Sweeps_Analysis' will be a copy of either 'Channel A' or 'Channel B' that has been curated.\n",
    "        # Should be the same provided as curated_channel, which will be used to subset all the channels.\n",
    "        # Won't be extracted as would only be a duplication.\n",
    "        elif 'Sweeps_Analysis' in channel:\n",
    "            trialKeysInHDF5 = list(hdf5_file[channel].keys())\n",
    "            trialKeysInHDF5_int = [int(x) for x in trialKeysInHDF5]\n",
    "            trialKeysInHDF5_sorting_indices = list(np.argsort(trialKeysInHDF5_int))\n",
    "\n",
    "        # To extract 'Time':\n",
    "        elif 'Time' in channel:\n",
    "            trialKeysInHDF5 = list(hdf5_file[channel].keys())\n",
    "            trialKeysInHDF5_sorting_indices = range(len(trialKeysInHDF5))\n",
    "        \n",
    "        # In case there is any other channel in the hdf5 file you haven't accounted for:\n",
    "        else:\n",
    "            # Print a warning:\n",
    "            print(f\"Unrecognised {channel}: check function. This channel may not be properly sorted.\")\n",
    "            trialKeysInHDF5 = list(hdf5_file[curated_channel].keys())\n",
    "            trialKeysInHDF5_int = [int(x) for x in trialKeysInHDF5]\n",
    "            trialKeysInHDF5_sorting_indices = list(np.argsort(trialKeysInHDF5_int))\n",
    "\n",
    "        # Once you have the correct indices to obtain sorted trial keys, extract the ordered data:\n",
    "        for i in range(len(trialKeysInHDF5_sorting_indices)):\n",
    "            correctedTrialKey = trialKeysInHDF5[trialKeysInHDF5_sorting_indices[i]] \n",
    "            data_dict[channel].append(np.array(hdf5_file[channel][correctedTrialKey]))\n",
    "            key_dict[channel].append(correctedTrialKey)\n",
    "    \n",
    "    extracted_channels = []\n",
    "    corrected_trial_keys = []\n",
    "\n",
    "    # Keep only the useful channels and their trial keys:\n",
    "    for channel in channel_list:\n",
    "        extracted_channels.append(data_dict[channel])\n",
    "        corrected_trial_keys.append(key_dict[channel])\n",
    "    \n",
    "    # Get time and delta_t\n",
    "    if len(data_dict['Time']) >0:\n",
    "        time = data_dict['Time']\n",
    "        dt = np.mean(np.diff(time))\n",
    "    else:\n",
    "        dt = 0.04\n",
    "        time = np.linspace(0, len(data_dict['Channel A'][0])*dt, len(['Channel A'][0]))\n",
    "    \n",
    "    # Create data frame of data:\n",
    "    channels_data_frame = pd.DataFrame(extracted_channels, index = channel_list, columns = corrected_trial_keys[0])\n",
    "\n",
    "    return extracted_channels, corrected_trial_keys, channel_list, channels_data_frame, time, dt"
   ]
  },
  {
   "source": [
    "### 3.2 | Open .tdms file and extract channels"
   ],
   "cell_type": "markdown",
   "metadata": {}
  },
  {
   "cell_type": "code",
   "execution_count": 2,
   "metadata": {},
   "outputs": [
    {
     "output_type": "stream",
     "name": "stdout",
     "text": [
      "D:/Dropbox (UCL - SWC)/Project_paginhibition/analysis/loose_seal/analysis_sample_cells/201215_cell1_1__2__OP_VC_clear_nointerval__1.tdms\nD:/Dropbox (UCL - SWC)/Project_paginhibition/analysis/loose_seal/analysis_sample_cells\n201215_cell1_1__2__OP_VC_clear_nointerval__1.tdms\n"
     ]
    }
   ],
   "source": [
    "# Choose a .tdms file to test the code\n",
    "root = tkinter.Tk()\n",
    "root.attributes('-topmost', True) # Make window appear on top\n",
    "in_path = askopenfilename() # Open dialogue to select file\n",
    "print(in_path)\n",
    "root.destroy() # Close the root window\n",
    "\n",
    "# Split the pathname path into a pair, (head, tail) where tail is the last pathname component and head is everything leading up to that.\n",
    "folder_name = os.path.split(in_path)[0] # Get path until folder\n",
    "file_name = os.path.split(in_path)[1] # Get filename\n",
    "print(folder_name)\n",
    "print(file_name)"
   ]
  },
  {
   "cell_type": "code",
   "execution_count": 3,
   "metadata": {},
   "outputs": [],
   "source": [
    "def openTDMSfile(in_path, channel_list = ['Channel A', 'Channel B', 'Output A', 'Output B']):\n",
    "    \"\"\"\n",
    "    `openTDMSfile` returns a list of arrays, where each is a sweep/trial.\n",
    "    \"\"\"\n",
    "    \n",
    "    # Load .tdms file\n",
    "    tdms_file = TdmsFile(in_path) \n",
    "    data_dict = defaultdict(list)\n",
    "    \n",
    "    # Iterate through channels and extract data from sweeps/trials\n",
    "    for group in tdms_file.groups():\n",
    "        i=0\n",
    "        for sweep in group.channels():\n",
    "            data_dict[group.name].append(sweep.data)\n",
    "            i+=1\n",
    "                       \n",
    "    # Keep only useful channels\n",
    "    extracted_channels = []\n",
    "\n",
    "    for channel in channel_list: \n",
    "        extracted_channels.append(data_dict[channel])\n",
    "\n",
    "    # Get time and delta_t\n",
    "    time = data_dict['Time'][0]\n",
    "    dt = np.mean(np.diff(time))\n",
    "    \n",
    "    return extracted_channels, time, dt"
   ]
  },
  {
   "cell_type": "code",
   "execution_count": 27,
   "metadata": {},
   "outputs": [
    {
     "output_type": "stream",
     "name": "stdout",
     "text": [
      "[array([-1.32261878, -1.45141614, -1.51581482, ..., -1.16162208,\n       -0.93622671, -1.06502406]), array([-0.96842605, -0.96842605, -1.0972234 , ..., -0.87182803,\n       -1.06502406, -1.12942274]), array([-1.12942274, -0.90402737, -0.87182803, ..., -0.48543595,\n       -0.61423331, -0.38883793]), array([-0.45323661, -0.42103727, -0.32443925, ..., -0.51763529,\n       -0.51763529, -0.38883793]), array([-0.51763529, -0.61423331, -0.42103727, ..., -0.61423331,\n       -0.38883793, -0.45323661]), array([-0.48543595, -0.32443925, -0.32443925, ..., -0.45323661,\n       -0.61423331, -0.54983463]), array([-0.51763529, -0.32443925, -0.48543595, ...,  0.0297535 ,\n       -0.16344254, -0.1312432 ]), array([ 0.0297535 , -0.09904386, -0.06684452, ..., -0.03464518,\n        0.0297535 , -0.19564188]), array([-0.16344254, -0.26004056,  0.0297535 , ..., -0.06684452,\n       -0.1312432 , -0.03464518]), array([ 0.15855086,  0.06195284, -0.03464518, ..., -0.00244584,\n       -0.19564188, -0.03464518]), array([ 0.06195284, -0.03464518,  0.0297535 , ...,  0.28734823,\n        0.15855086,  0.22294954]), array([ 0.38394625,  0.31954757,  0.38394625, ..., -0.32443925,\n       -0.38883793, -0.26004056]), array([-0.29223991, -0.19564188, -0.35663859, ..., -0.16344254,\n       -0.16344254, -0.16344254]), array([-0.19564188, -0.03464518, -0.19564188, ..., -0.26004056,\n       -0.19564188, -0.35663859]), array([-0.03464518, -0.19564188, -0.1312432 , ..., -0.29223991,\n       -0.16344254, -0.29223991]), array([-0.35663859, -0.00244584, -0.26004056, ..., -0.06684452,\n       -0.1312432 , -0.32443925])]\n[array([-33.18977759, -33.18977759, -34.79974445, ..., -16.7681151 ,\n       -15.48014154, -16.12412832]), array([-13.87017458, -14.83615476, -13.87017458, ..., -31.90180409,\n       -32.54579084, -28.03788356]), array([-27.07190342, -27.07190342, -26.74991004, ...,  -3.56638586,\n        -3.24439246,   0.29753499]), array([-0.66844522, -0.99043863, -0.99043863, ..., -0.02445841,\n       -1.95641884, -3.24439246]), array([-6.46432647, -6.78631987, -5.49834627, ..., -7.43030667,\n       -2.92239905,  0.94152181]), array([-4.85435947, -1.63442544,  1.58550862, ..., -8.39628686,\n       -6.14233307, -9.68426045]), array([-4.85435947, -6.14233307, -2.92239905, ...,  3.19547566,\n        2.55148885, -2.60040565]), array([ 8.66936366,  5.77142295,  2.87348226, ..., -1.95641884,\n       -3.56638586, -3.24439246]), array([-0.99043863, -1.63442544, -1.63442544, ..., -4.85435947,\n       -2.92239905, -1.31243203]), array([-2.27841225, -0.02445841,  0.29753499, ..., -7.10831327,\n       -8.39628686, -6.14233307]), array([-16.7681151 , -14.51416137,  -7.43030667, ...,   2.55148885,\n        -0.02445841,   2.22949544]), array([  6.41540977,   9.95733732,   9.95733732, ...,  -9.68426045,\n        -8.39628686, -10.65024064]), array([ -0.34645182,  -2.27841225,  -1.31243203, ..., -17.41210188,\n       -19.02206883, -16.7681151 ]), array([-23.52997622, -20.63203576, -20.63203576, ...,  24.12504792,\n        21.54910049,  19.29514651]), array([ 19.29514651,  17.68517939,  20.26112679, ..., -23.85196961,\n       -18.70007544, -18.37808205]), array([-20.95402915, -19.6660556 , -21.9200093 , ..., -56.69529308,\n       -60.23721993, -60.88120663])]\n[array([ 0.,  0.,  0., ..., -5., -5.,  0.]), array([ 0.,  0.,  0., ..., -5., -5.,  0.]), array([ 0.,  0.,  0., ..., -5., -5.,  0.]), array([ 0.,  0.,  0., ..., -5., -5.,  0.]), array([ 0.,  0.,  0., ..., -5., -5.,  0.]), array([ 0.,  0.,  0., ..., -5., -5.,  0.]), array([ 0.,  0.,  0., ..., -5., -5.,  0.]), array([ 0.,  0.,  0., ..., -5., -5.,  0.]), array([ 0.,  0.,  0., ..., -5., -5.,  0.]), array([ 0.,  0.,  0., ..., -5., -5.,  0.]), array([ 0.,  0.,  0., ..., -5., -5.,  0.]), array([ 0.,  0.,  0., ..., -5., -5.,  0.]), array([ 0.,  0.,  0., ..., -5., -5.,  0.]), array([ 0.,  0.,  0., ..., -5., -5.,  0.]), array([ 0.,  0.,  0., ..., -5., -5.,  0.]), array([ 0.,  0.,  0., ..., -5., -5.,  0.])]\n[array([0., 0., 0., ..., 0., 0., 0.]), array([0., 0., 0., ..., 0., 0., 0.]), array([0., 0., 0., ..., 0., 0., 0.]), array([0., 0., 0., ..., 0., 0., 0.]), array([0., 0., 0., ..., 0., 0., 0.]), array([0., 0., 0., ..., 0., 0., 0.]), array([0., 0., 0., ..., 0., 0., 0.]), array([0., 0., 0., ..., 0., 0., 0.]), array([0., 0., 0., ..., 0., 0., 0.]), array([0., 0., 0., ..., 0., 0., 0.]), array([0., 0., 0., ..., 0., 0., 0.]), array([0., 0., 0., ..., 0., 0., 0.]), array([0., 0., 0., ..., 0., 0., 0.]), array([0., 0., 0., ..., 0., 0., 0.]), array([0., 0., 0., ..., 0., 0., 0.]), array([0., 0., 0., ..., 0., 0., 0.])]\n"
     ]
    }
   ],
   "source": [
    "tdms_file = TdmsFile(in_path) \n",
    "data_dict = defaultdict(list)\n",
    "channel_list = ['Channel A', 'Channel B', 'Output A', 'Output B']\n",
    "trial_keys = []\n",
    "\n",
    "for group in tdms_file.groups():\n",
    "    for sweep in group.channels():\n",
    "        data_dict[group.name].append(sweep.data)\n",
    "        if group.name == 'Channel A':\n",
    "            trial_keys.append(sweep.name)\n",
    "    #print(data_dict[group.name])\n",
    "\n",
    "extracted_channels = []\n",
    "\n",
    "for channel in channel_list: \n",
    "    extracted_channels.append(data_dict[channel])\n",
    "    #print(data_dict[channel])\n",
    "\n",
    "extracted_channels_data_frame = pd.DataFrame(extracted_channels, index = channel_list, columns = trial_keys)\n",
    "#extracted_channels_data_frame\n"
   ]
  },
  {
   "cell_type": "code",
   "execution_count": 29,
   "metadata": {},
   "outputs": [
    {
     "output_type": "execute_result",
     "data": {
      "text/plain": [
       "                                                           1  \\\n",
       "Channel A  [-1.3226187796973414, -1.4514161367694889, -1....   \n",
       "Channel B  [-33.189777587654284, -33.189777587654284, -34...   \n",
       "Output A   [0.0, 0.0, 0.0, 0.0, 0.0, 0.0, 0.0, 0.0, 0.0, ...   \n",
       "Output B   [0.0, 0.0, 0.0, 0.0, 0.0, 0.0, 0.0, 0.0, 0.0, ...   \n",
       "\n",
       "                                                           2  \\\n",
       "Channel A  [-0.9684260451947914, -0.9684260451947914, -1....   \n",
       "Channel B  [-13.870174582953112, -14.836154759601623, -13...   \n",
       "Output A   [0.0, 0.0, 0.0, 0.0, 0.0, 0.0, 0.0, 0.0, 0.0, ...   \n",
       "Output B   [0.0, 0.0, 0.0, 0.0, 0.0, 0.0, 0.0, 0.0, 0.0, ...   \n",
       "\n",
       "                                                           3  \\\n",
       "Channel A  [-1.1294227431604715, -0.9040273657916632, -0....   \n",
       "Channel B  [-27.071903423030875, -27.071903423030875, -26...   \n",
       "Output A   [0.0, 0.0, 0.0, 0.0, 0.0, 0.0, 0.0, 0.0, 0.0, ...   \n",
       "Output B   [0.0, 0.0, 0.0, 0.0, 0.0, 0.0, 0.0, 0.0, 0.0, ...   \n",
       "\n",
       "                                                           4  \\\n",
       "Channel A  [-0.4532366064980151, -0.4210372663158741, -0....   \n",
       "Channel B  [-0.6684452226398963, -0.9904386278756757, -0....   \n",
       "Output A   [0.0, 0.0, 0.0, 0.0, 0.0, 0.0, 0.0, 0.0, 0.0, ...   \n",
       "Output B   [0.0, 0.0, 0.0, 0.0, 0.0, 0.0, 0.0, 0.0, 0.0, ...   \n",
       "\n",
       "                                                           5  \\\n",
       "Channel A  [-0.5176352867692278, -0.6142333069434128, -0....   \n",
       "Channel B  [-6.464326469394492, -6.786319869044774, -5.49...   \n",
       "Output A   [0.0, 0.0, 0.0, 0.0, 0.0, 0.0, 0.0, 0.0, 0.0, ...   \n",
       "Output B   [0.0, 0.0, 0.0, 0.0, 0.0, 0.0, 0.0, 0.0, 0.0, ...   \n",
       "\n",
       "                                                           6  \\\n",
       "Channel A  [-0.4854359466491322, -0.32443924558328086, -0...   \n",
       "Channel B  [-4.854359466491322, -1.634425437415676, 1.585...   \n",
       "Output A   [0.0, 0.0, 0.0, 0.0, 0.0, 0.0, 0.0, 0.0, 0.0, ...   \n",
       "Output B   [0.0, 0.0, 0.0, 0.0, 0.0, 0.0, 0.0, 0.0, 0.0, ...   \n",
       "\n",
       "                                                           7  \\\n",
       "Channel A  [-0.5176352867692278, -0.32443924558328086, -0...   \n",
       "Channel B  [-4.854359466491322, -6.1423330694341285, -2.9...   \n",
       "Output A   [0.0, 0.0, 0.0, 0.0, 0.0, 0.0, 0.0, 0.0, 0.0, ...   \n",
       "Output B   [0.0, 0.0, 0.0, 0.0, 0.0, 0.0, 0.0, 0.0, 0.0, ...   \n",
       "\n",
       "                                                           8  \\\n",
       "Channel A  [0.02975349949308724, -0.09904386278756756, -0...   \n",
       "Channel B  [8.669363664395322, 5.771422947326991, 2.87348...   \n",
       "Output A   [0.0, 0.0, 0.0, 0.0, 0.0, 0.0, 0.0, 0.0, 0.0, ...   \n",
       "Output B   [0.0, 0.0, 0.0, 0.0, 0.0, 0.0, 0.0, 0.0, 0.0, ...   \n",
       "\n",
       "                                                           9  \\\n",
       "Channel A  [-0.16344254374156758, -0.26004056493971733, 0...   \n",
       "Channel B  [-0.9904386278756757, -1.634425437415676, -1.6...   \n",
       "Output A   [0.0, 0.0, 0.0, 0.0, 0.0, 0.0, 0.0, 0.0, 0.0, ...   \n",
       "Output B   [0.0, 0.0, 0.0, 0.0, 0.0, 0.0, 0.0, 0.0, 0.0, ...   \n",
       "\n",
       "                                                          10  \\\n",
       "Channel A  [0.15855086227075516, 0.061952840140902694, -0...   \n",
       "Channel B  [-2.2784122457137728, -0.024458411236648672, 0...   \n",
       "Output A   [0.0, 0.0, 0.0, 0.0, 0.0, 0.0, 0.0, 0.0, 0.0, ...   \n",
       "Output B   [0.0, 0.0, 0.0, 0.0, 0.0, 0.0, 0.0, 0.0, 0.0, ...   \n",
       "\n",
       "                                                          11  \\\n",
       "Channel A  [0.061952840140902694, -0.03464518170935623, 0...   \n",
       "Channel B  [-16.768115104545526, -14.51416136769489, -7.4...   \n",
       "Output A   [0.0, 0.0, 0.0, 0.0, 0.0, 0.0, 0.0, 0.0, 0.0, ...   \n",
       "Output B   [0.0, 0.0, 0.0, 0.0, 0.0, 0.0, 0.0, 0.0, 0.0, ...   \n",
       "\n",
       "                                                          12  \\\n",
       "Channel A  [0.3839462483281158, 0.3195475664420201, 0.383...   \n",
       "Channel B  [6.415409771163951, 9.957337324518733, 9.95733...   \n",
       "Output A   [0.0, 0.0, 0.0, 0.0, 0.0, 0.0, 0.0, 0.0, 0.0, ...   \n",
       "Output B   [0.0, 0.0, 0.0, 0.0, 0.0, 0.0, 0.0, 0.0, 0.0, ...   \n",
       "\n",
       "                                                          13  \\\n",
       "Channel A  [-0.2922399052770176, -0.19564188417199485, -0...   \n",
       "Channel B  [-0.3464518170935623, -2.2784122457137728, -1....   \n",
       "Output A   [0.0, 0.0, 0.0, 0.0, 0.0, 0.0, 0.0, 0.0, 0.0, ...   \n",
       "Output B   [0.0, 0.0, 0.0, 0.0, 0.0, 0.0, 0.0, 0.0, 0.0, ...   \n",
       "\n",
       "                                                          14  \\\n",
       "Channel A  [-0.19564188417199485, -0.03464518170935623, -...   \n",
       "Channel B  [-23.52997622421571, -20.632035761040658, -20....   \n",
       "Output A   [0.0, 0.0, 0.0, 0.0, 0.0, 0.0, 0.0, 0.0, 0.0, ...   \n",
       "Output B   [0.0, 0.0, 0.0, 0.0, 0.0, 0.0, 0.0, 0.0, 0.0, ...   \n",
       "\n",
       "                                                          15  \\\n",
       "Channel A  [-0.03464518170935623, -0.19564188417199485, -...   \n",
       "Channel B  [19.295146509532213, 17.685179389954868, 20.26...   \n",
       "Output A   [0.0, 0.0, 0.0, 0.0, 0.0, 0.0, 0.0, 0.0, 0.0, ...   \n",
       "Output B   [0.0, 0.0, 0.0, 0.0, 0.0, 0.0, 0.0, 0.0, 0.0, ...   \n",
       "\n",
       "                                                          16  \n",
       "Channel A  [-0.35663858585850955, -0.0024458411236648672,...  \n",
       "Channel B  [-20.954029147073257, -19.666055601089187, -21...  \n",
       "Output A   [0.0, 0.0, 0.0, 0.0, 0.0, 0.0, 0.0, 0.0, 0.0, ...  \n",
       "Output B   [0.0, 0.0, 0.0, 0.0, 0.0, 0.0, 0.0, 0.0, 0.0, ...  "
      ],
      "text/html": "<div>\n<style scoped>\n    .dataframe tbody tr th:only-of-type {\n        vertical-align: middle;\n    }\n\n    .dataframe tbody tr th {\n        vertical-align: top;\n    }\n\n    .dataframe thead th {\n        text-align: right;\n    }\n</style>\n<table border=\"1\" class=\"dataframe\">\n  <thead>\n    <tr style=\"text-align: right;\">\n      <th></th>\n      <th>1</th>\n      <th>2</th>\n      <th>3</th>\n      <th>4</th>\n      <th>5</th>\n      <th>6</th>\n      <th>7</th>\n      <th>8</th>\n      <th>9</th>\n      <th>10</th>\n      <th>11</th>\n      <th>12</th>\n      <th>13</th>\n      <th>14</th>\n      <th>15</th>\n      <th>16</th>\n    </tr>\n  </thead>\n  <tbody>\n    <tr>\n      <th>Channel A</th>\n      <td>[-1.3226187796973414, -1.4514161367694889, -1....</td>\n      <td>[-0.9684260451947914, -0.9684260451947914, -1....</td>\n      <td>[-1.1294227431604715, -0.9040273657916632, -0....</td>\n      <td>[-0.4532366064980151, -0.4210372663158741, -0....</td>\n      <td>[-0.5176352867692278, -0.6142333069434128, -0....</td>\n      <td>[-0.4854359466491322, -0.32443924558328086, -0...</td>\n      <td>[-0.5176352867692278, -0.32443924558328086, -0...</td>\n      <td>[0.02975349949308724, -0.09904386278756756, -0...</td>\n      <td>[-0.16344254374156758, -0.26004056493971733, 0...</td>\n      <td>[0.15855086227075516, 0.061952840140902694, -0...</td>\n      <td>[0.061952840140902694, -0.03464518170935623, 0...</td>\n      <td>[0.3839462483281158, 0.3195475664420201, 0.383...</td>\n      <td>[-0.2922399052770176, -0.19564188417199485, -0...</td>\n      <td>[-0.19564188417199485, -0.03464518170935623, -...</td>\n      <td>[-0.03464518170935623, -0.19564188417199485, -...</td>\n      <td>[-0.35663858585850955, -0.0024458411236648672,...</td>\n    </tr>\n    <tr>\n      <th>Channel B</th>\n      <td>[-33.189777587654284, -33.189777587654284, -34...</td>\n      <td>[-13.870174582953112, -14.836154759601623, -13...</td>\n      <td>[-27.071903423030875, -27.071903423030875, -26...</td>\n      <td>[-0.6684452226398963, -0.9904386278756757, -0....</td>\n      <td>[-6.464326469394492, -6.786319869044774, -5.49...</td>\n      <td>[-4.854359466491322, -1.634425437415676, 1.585...</td>\n      <td>[-4.854359466491322, -6.1423330694341285, -2.9...</td>\n      <td>[8.669363664395322, 5.771422947326991, 2.87348...</td>\n      <td>[-0.9904386278756757, -1.634425437415676, -1.6...</td>\n      <td>[-2.2784122457137728, -0.024458411236648672, 0...</td>\n      <td>[-16.768115104545526, -14.51416136769489, -7.4...</td>\n      <td>[6.415409771163951, 9.957337324518733, 9.95733...</td>\n      <td>[-0.3464518170935623, -2.2784122457137728, -1....</td>\n      <td>[-23.52997622421571, -20.632035761040658, -20....</td>\n      <td>[19.295146509532213, 17.685179389954868, 20.26...</td>\n      <td>[-20.954029147073257, -19.666055601089187, -21...</td>\n    </tr>\n    <tr>\n      <th>Output A</th>\n      <td>[0.0, 0.0, 0.0, 0.0, 0.0, 0.0, 0.0, 0.0, 0.0, ...</td>\n      <td>[0.0, 0.0, 0.0, 0.0, 0.0, 0.0, 0.0, 0.0, 0.0, ...</td>\n      <td>[0.0, 0.0, 0.0, 0.0, 0.0, 0.0, 0.0, 0.0, 0.0, ...</td>\n      <td>[0.0, 0.0, 0.0, 0.0, 0.0, 0.0, 0.0, 0.0, 0.0, ...</td>\n      <td>[0.0, 0.0, 0.0, 0.0, 0.0, 0.0, 0.0, 0.0, 0.0, ...</td>\n      <td>[0.0, 0.0, 0.0, 0.0, 0.0, 0.0, 0.0, 0.0, 0.0, ...</td>\n      <td>[0.0, 0.0, 0.0, 0.0, 0.0, 0.0, 0.0, 0.0, 0.0, ...</td>\n      <td>[0.0, 0.0, 0.0, 0.0, 0.0, 0.0, 0.0, 0.0, 0.0, ...</td>\n      <td>[0.0, 0.0, 0.0, 0.0, 0.0, 0.0, 0.0, 0.0, 0.0, ...</td>\n      <td>[0.0, 0.0, 0.0, 0.0, 0.0, 0.0, 0.0, 0.0, 0.0, ...</td>\n      <td>[0.0, 0.0, 0.0, 0.0, 0.0, 0.0, 0.0, 0.0, 0.0, ...</td>\n      <td>[0.0, 0.0, 0.0, 0.0, 0.0, 0.0, 0.0, 0.0, 0.0, ...</td>\n      <td>[0.0, 0.0, 0.0, 0.0, 0.0, 0.0, 0.0, 0.0, 0.0, ...</td>\n      <td>[0.0, 0.0, 0.0, 0.0, 0.0, 0.0, 0.0, 0.0, 0.0, ...</td>\n      <td>[0.0, 0.0, 0.0, 0.0, 0.0, 0.0, 0.0, 0.0, 0.0, ...</td>\n      <td>[0.0, 0.0, 0.0, 0.0, 0.0, 0.0, 0.0, 0.0, 0.0, ...</td>\n    </tr>\n    <tr>\n      <th>Output B</th>\n      <td>[0.0, 0.0, 0.0, 0.0, 0.0, 0.0, 0.0, 0.0, 0.0, ...</td>\n      <td>[0.0, 0.0, 0.0, 0.0, 0.0, 0.0, 0.0, 0.0, 0.0, ...</td>\n      <td>[0.0, 0.0, 0.0, 0.0, 0.0, 0.0, 0.0, 0.0, 0.0, ...</td>\n      <td>[0.0, 0.0, 0.0, 0.0, 0.0, 0.0, 0.0, 0.0, 0.0, ...</td>\n      <td>[0.0, 0.0, 0.0, 0.0, 0.0, 0.0, 0.0, 0.0, 0.0, ...</td>\n      <td>[0.0, 0.0, 0.0, 0.0, 0.0, 0.0, 0.0, 0.0, 0.0, ...</td>\n      <td>[0.0, 0.0, 0.0, 0.0, 0.0, 0.0, 0.0, 0.0, 0.0, ...</td>\n      <td>[0.0, 0.0, 0.0, 0.0, 0.0, 0.0, 0.0, 0.0, 0.0, ...</td>\n      <td>[0.0, 0.0, 0.0, 0.0, 0.0, 0.0, 0.0, 0.0, 0.0, ...</td>\n      <td>[0.0, 0.0, 0.0, 0.0, 0.0, 0.0, 0.0, 0.0, 0.0, ...</td>\n      <td>[0.0, 0.0, 0.0, 0.0, 0.0, 0.0, 0.0, 0.0, 0.0, ...</td>\n      <td>[0.0, 0.0, 0.0, 0.0, 0.0, 0.0, 0.0, 0.0, 0.0, ...</td>\n      <td>[0.0, 0.0, 0.0, 0.0, 0.0, 0.0, 0.0, 0.0, 0.0, ...</td>\n      <td>[0.0, 0.0, 0.0, 0.0, 0.0, 0.0, 0.0, 0.0, 0.0, ...</td>\n      <td>[0.0, 0.0, 0.0, 0.0, 0.0, 0.0, 0.0, 0.0, 0.0, ...</td>\n      <td>[0.0, 0.0, 0.0, 0.0, 0.0, 0.0, 0.0, 0.0, 0.0, ...</td>\n    </tr>\n  </tbody>\n</table>\n</div>"
     },
     "metadata": {},
     "execution_count": 29
    }
   ],
   "source": [
    "extracted_channels_data_frame"
   ]
  },
  {
   "cell_type": "code",
   "execution_count": 22,
   "metadata": {},
   "outputs": [
    {
     "output_type": "stream",
     "name": "stdout",
     "text": [
      "<TdmsGroup with path /'Output A'>\n"
     ]
    },
    {
     "output_type": "execute_result",
     "data": {
      "text/plain": [
       "'Output A'"
      ]
     },
     "metadata": {},
     "execution_count": 22
    }
   ],
   "source": [
    "group_name = tdms_file.groups()[1]\n",
    "print(group_name)\n",
    "group_name.name"
   ]
  }
 ]
}